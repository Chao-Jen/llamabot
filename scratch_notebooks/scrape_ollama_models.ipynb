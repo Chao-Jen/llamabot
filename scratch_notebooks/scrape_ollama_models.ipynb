{
 "cells": [
  {
   "cell_type": "code",
   "execution_count": null,
   "metadata": {},
   "outputs": [],
   "source": [
    "%load_ext autoreload\n",
    "%autoreload 2\n"
   ]
  },
  {
   "cell_type": "code",
   "execution_count": null,
   "metadata": {},
   "outputs": [],
   "source": [
    "from bs4 import BeautifulSoup\n",
    "import requests\n",
    "\n",
    "# Your HTML snippet\n",
    "response = requests.get(\"https://ollama.ai/library\")\n",
    "if response.status_code == 200:\n",
    "\n",
    "    html_content = response.text\n",
    "\n",
    "    # Parse the HTML snippet with BeautifulSoup\n",
    "    soup = BeautifulSoup(html_content, \"lxml\")\n",
    "\n",
    "    # Find all h2 tags that contain the model names\n",
    "    model_names = [h2.text for h2 in soup.find_all(\"h2\")]\n",
    "\n",
    "    # Print out the model names\n",
    "    for name in model_names:\n",
    "        model_name = (name.strip('\\n').strip(' ').strip('\\n'))\n",
    "        print(f'\"{model_name}\",')\n"
   ]
  },
  {
   "cell_type": "code",
   "execution_count": null,
   "metadata": {},
   "outputs": [],
   "source": []
  },
  {
   "cell_type": "code",
   "execution_count": null,
   "metadata": {},
   "outputs": [],
   "source": [
    "name\n"
   ]
  }
 ],
 "metadata": {
  "kernelspec": {
   "display_name": "llamabot",
   "language": "python",
   "name": "python3"
  },
  "language_info": {
   "codemirror_mode": {
    "name": "ipython",
    "version": 3
   },
   "file_extension": ".py",
   "mimetype": "text/x-python",
   "name": "python",
   "nbconvert_exporter": "python",
   "pygments_lexer": "ipython3",
   "version": "3.11.5"
  }
 },
 "nbformat": 4,
 "nbformat_minor": 2
}
