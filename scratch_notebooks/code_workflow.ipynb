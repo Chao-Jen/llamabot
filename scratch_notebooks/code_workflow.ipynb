{
 "cells": [
  {
   "cell_type": "code",
   "execution_count": null,
   "metadata": {},
   "outputs": [],
   "source": [
    "%load_ext autoreload \n",
    "%autoreload 2"
   ]
  },
  {
   "cell_type": "code",
   "execution_count": null,
   "metadata": {},
   "outputs": [],
   "source": [
    "from llamabot.bot_library.coding import codebot, ghostwriter, docstring, tests"
   ]
  },
  {
   "attachments": {},
   "cell_type": "markdown",
   "metadata": {},
   "source": [
    "Step 1: Iterate on your code by iterating on the English prompt."
   ]
  },
  {
   "cell_type": "code",
   "execution_count": null,
   "metadata": {},
   "outputs": [],
   "source": [
    "output = codebot(\n",
    "    ghostwriter(\n",
    "        \"\"\"I need a function that accepts a URL and returns the contents of the URL as a string.\n",
    "\n",
    "It should validate that the URL is from GitHub\n",
    "and that it is a valid GitHub pull request URL.\n",
    "It should also raise an error if the URL does not return a 200 status code.\n",
    "If the URL is a valid PR URL and does not end with .diff, \n",
    "then it should append .diff to the URL before retrieving the contents.\n",
    "\"\"\"\n",
    "    )\n",
    ")"
   ]
  },
  {
   "attachments": {},
   "cell_type": "markdown",
   "metadata": {},
   "source": [
    "Once you're satisfied with it, add in docstrings."
   ]
  },
  {
   "cell_type": "code",
   "execution_count": null,
   "metadata": {},
   "outputs": [],
   "source": [
    "output_with_docstrings = codebot(docstring(output))"
   ]
  },
  {
   "attachments": {},
   "cell_type": "markdown",
   "metadata": {},
   "source": [
    "And then once you're satisfied with it, you can write tests."
   ]
  },
  {
   "cell_type": "code",
   "execution_count": null,
   "metadata": {},
   "outputs": [],
   "source": [
    "unit_test_output = codebot(tests(output))"
   ]
  },
  {
   "attachments": {},
   "cell_type": "markdown",
   "metadata": {},
   "source": [
    "Now, convert this all into a Panel app."
   ]
  },
  {
   "cell_type": "code",
   "execution_count": null,
   "metadata": {},
   "outputs": [],
   "source": [
    "from pyprojroot import here\n",
    "\n",
    "with open(here() / \"llamabot/bot_library/coding.py\", \"r+\") as f:\n",
    "    code = f.read()"
   ]
  },
  {
   "cell_type": "code",
   "execution_count": null,
   "metadata": {},
   "outputs": [],
   "source": [
    "output = codebot(\n",
    "    ghostwriter(\n",
    "        f\"\"\"I need a panel app. \n",
    "\n",
    "This app should use the following code:\n",
    "\n",
    "{code}\n",
    "\n",
    "There should be a text area that accepts a user's specification of the function.\n",
    "Let's call this \"user_specification\"\n",
    "A button, labelled \"Generate\", can then be pressed,\n",
    "and then it will call codebot(ghostwriter(user_specification)),\n",
    "and display the output (streaming) to a Markdown pane.\n",
    "Once the output is finished streaming, the button should show \"Regenerate\",\n",
    "and it will re-attempt to generate new code according to user specifications.\n",
    "Markdown panes come from pn.pane, not pn.widgets.\n",
    "\n",
    "Once the user is satisfied, they will then press another button \n",
    "that will generate unit tests for that code.\n",
    "The unit test should be written to a separate Markdown pane.\n",
    "Ensure that the Markdown pane is updated by using the\n",
    "\n",
    "    from llamabot.panel_utils import PanelMarkdownCallbackHandler\n",
    "\n",
    "functionality to stream the output to the Markdown panes.\n",
    "\"\"\"\n",
    "    )\n",
    ")"
   ]
  },
  {
   "cell_type": "code",
   "execution_count": null,
   "metadata": {},
   "outputs": [],
   "source": [
    "from llamabot.bot_library.coding import app\n",
    "\n",
    "app.servable()"
   ]
  },
  {
   "cell_type": "code",
   "execution_count": null,
   "metadata": {},
   "outputs": [],
   "source": [
    "Write me a function that generates fibonacci numbers."
   ]
  },
  {
   "cell_type": "code",
   "execution_count": null,
   "metadata": {},
   "outputs": [],
   "source": [
    "codebot.model.callbacks.handlers"
   ]
  }
 ],
 "metadata": {
  "kernelspec": {
   "display_name": "llamabot",
   "language": "python",
   "name": "python3"
  },
  "language_info": {
   "codemirror_mode": {
    "name": "ipython",
    "version": 3
   },
   "file_extension": ".py",
   "mimetype": "text/x-python",
   "name": "python",
   "nbconvert_exporter": "python",
   "pygments_lexer": "ipython3",
   "version": "3.9.16"
  }
 },
 "nbformat": 4,
 "nbformat_minor": 2
}
