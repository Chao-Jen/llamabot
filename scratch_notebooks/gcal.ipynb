{
 "cells": [
  {
   "cell_type": "code",
   "execution_count": null,
   "metadata": {},
   "outputs": [],
   "source": [
    "%load_ext autoreload\n",
    "%autoreload 2\n"
   ]
  },
  {
   "cell_type": "code",
   "execution_count": null,
   "metadata": {},
   "outputs": [],
   "source": [
    "from gcsa.event import Event\n",
    "from gcsa.google_calendar import GoogleCalendar\n",
    "\n",
    "# from gcsa.recurrence import Recurrence, DAILY, SU, SA\n",
    "from dotenv import load_dotenv\n",
    "import os\n",
    "\n",
    "load_dotenv()\n",
    "\n",
    "personal_cal = GoogleCalendar(os.getenv(\"PERSONAL_EMAIL\"))\n"
   ]
  },
  {
   "cell_type": "code",
   "execution_count": null,
   "metadata": {},
   "outputs": [],
   "source": [
    "from datetime import timedelta, date\n",
    "\n",
    "events = personal_cal.get_events(\n",
    "    date.today(), date.today() + timedelta(weeks=5), order_by=\"updated\"\n",
    ")\n",
    "\n",
    "calendly_events = []\n",
    "for event in events:\n",
    "    if event.description is not None and \"Calendly\" in event.description:\n",
    "        calendly_events.append(event)\n"
   ]
  },
  {
   "cell_type": "code",
   "execution_count": null,
   "metadata": {},
   "outputs": [],
   "source": [
    "for event in calendly_events:\n",
    "    has_attendee = False\n",
    "    for attendee in event.attendees:\n",
    "        if attendee.email == \"eric.ma@modernatx.com\":\n",
    "            has_attendee = True\n",
    "            break\n",
    "    if not has_attendee:\n",
    "        event.add_attendee(\"eric.ma@modernatx.com\")\n",
    "        personal_cal.update_event(event, send_updates=\"all\")\n"
   ]
  },
  {
   "cell_type": "code",
   "execution_count": null,
   "metadata": {},
   "outputs": [],
   "source": [
    "event = calendly_events[0]\n",
    "\n",
    "attendee = event.attendees[0]\n",
    "wanted_attendees = [a for a in event.attendees if a.email != \"eric.ma@modernatx.com\"]\n",
    "event.attendees = wanted_attendees\n",
    "personal_cal.update_event(event, send_updates=\"all\")\n"
   ]
  },
  {
   "cell_type": "code",
   "execution_count": null,
   "metadata": {},
   "outputs": [],
   "source": [
    "def ensure_work_email_on_calendly_events():\n",
    "    personal_cal = GoogleCalendar(calendar_id=os.getenv(\"PERSONAL_EMAIL\"))\n",
    "    calendly_events = personal_cal.get_events_within(\n",
    "        timedelta(weeks=5),\n",
    "        filter_funcs=[\n",
    "            lambda event: \"description\" in event and \"Calendly\" in event[\"description\"]\n",
    "        ],\n",
    "    )\n",
    "    for event in calendly_events:\n",
    "        event.invite(os.getenv(\"WORK_EMAIL\"))\n",
    "\n",
    "\n",
    "ensure_work_email_on_calendly_events()\n"
   ]
  },
  {
   "cell_type": "code",
   "execution_count": null,
   "metadata": {},
   "outputs": [],
   "source": [
    "events = personal_cal.get_events_within(\n",
    "    timedelta(weeks=5),\n",
    "    filter_funcs=[\n",
    "        lambda event: \"description\" in event\n",
    "        and \"reclaim.ai\" not in event[\"description\"],\n",
    "        lambda event: \"summary\" in event\n",
    "        and event[\"summary\"] not in [\"BIKE TO WORK\", \"Weekly Vision\"],\n",
    "    ],\n",
    ")\n"
   ]
  },
  {
   "cell_type": "code",
   "execution_count": null,
   "metadata": {},
   "outputs": [],
   "source": [
    "from markdown import markdown\n",
    "\n",
    "\n",
    "def sync_altwork_with_personal_and_work():\n",
    "    \"\"\"\n",
    "    For every meeting in altwork, ensure that there is a corresponding entry\n",
    "    in personal and work calendars but with a codename for it.\n",
    "    \"\"\"\n",
    "    # Instantiate APIs for personal and altwork calendars.\n",
    "    personal_cal = GoogleCalendar(calendar_id=os.getenv(\"PERSONAL_EMAIL\"))\n",
    "    altwork_cal = GoogleCalendar(calendar_id=os.getenv(\"ALTWORK_EMAIL\"))\n",
    "\n",
    "    # Find all Takeda events from the altwork calendar.\n",
    "    events = altwork_cal.get_events_within(\n",
    "        timedelta(weeks=16),\n",
    "        filter_funcs=[\n",
    "            lambda event: \"summary\" in event and \"Takeda\" in event[\"summary\"]\n",
    "        ],\n",
    "    )\n",
    "\n",
    "    # Clear out all original BLOCK LABS events from the personal calendar.\n",
    "\n",
    "    # Firstly, get all of the BLOCK LABS events in the coming 16 weeks\n",
    "    block_labs_events = personal_cal.get_events_within(\n",
    "        timedelta(weeks=16),\n",
    "        filter_funcs=[\n",
    "            lambda event: \"summary\" in event and \"BLOCK LABS\" in event[\"summary\"]\n",
    "        ],\n",
    "    )\n",
    "    # Delete them all.\n",
    "    for event in block_labs_events:\n",
    "        event.delete()\n",
    "\n",
    "    # Then, re-create all of the events as needed.\n",
    "    for event in events:\n",
    "        event = personal_cal.create_event(\n",
    "            summary=\"BLOCK LABS\",\n",
    "            start_time=event[\"start\"],\n",
    "            end_time=event[\"end\"],\n",
    "            description=markdown(f\"Original [link]({event['htmlLink']})\"),\n",
    "        )\n",
    "        # Ensure my Moderna email address is included.\n",
    "        event.invite(os.getenv(\"WORK_EMAIL\"))\n",
    "\n",
    "\n",
    "sync_altwork_with_personal_and_work()\n"
   ]
  },
  {
   "cell_type": "code",
   "execution_count": null,
   "metadata": {},
   "outputs": [],
   "source": [
    "from tqdm.auto import tqdm\n",
    "\n",
    "\n",
    "# Delete all events by Reclaim\n",
    "def delete_reclaim_events(calendar: GoogleCalendar):\n",
    "    \"\"\"Delete all events by Reclaim.\"\"\"\n",
    "    reclaim_events = calendar.get_events_within(\n",
    "        timedelta(weeks=4),\n",
    "        filter_funcs=[\n",
    "            lambda event: \"description\" in event\n",
    "            and \"app.reclaim.ai\" in event[\"description\"]\n",
    "        ],\n",
    "    )\n",
    "    for event in tqdm(reclaim_events):\n",
    "        event.delete()\n",
    "\n",
    "\n",
    "delete_reclaim_events(personal_cal)\n"
   ]
  },
  {
   "cell_type": "code",
   "execution_count": null,
   "metadata": {},
   "outputs": [],
   "source": [
    "# def create_post_meeting_debriefs():\n",
    "#     \"\"\"Create post-meeting debriefs for every Calendly event.\"\"\"\n",
    "calendly_events = personal_cal.get_events_within(\n",
    "    time_delta=timedelta(weeks=12),\n",
    "    filter_funcs=[\n",
    "        lambda event: \"description\" in event and \"Calendly\" in event[\"description\"]\n",
    "    ],\n",
    ")\n"
   ]
  },
  {
   "cell_type": "code",
   "execution_count": null,
   "metadata": {},
   "outputs": [],
   "source": []
  },
  {
   "cell_type": "code",
   "execution_count": null,
   "metadata": {},
   "outputs": [],
   "source": [
    "event = calendly_events[1]\n",
    "# Create a new event that lasts for 15 minutes after the previous event.\n",
    "personal_cal.create_event(\n",
    "    summary=f\"{event['summary']} debrief\",\n",
    "    start_time=event[\"end\"],\n",
    ")\n",
    "\n",
    "# event.event[\"extendedProperties\"] = {\"private\": {\"meetingId\": \"\"}}\n",
    "# event.update()\n"
   ]
  },
  {
   "cell_type": "code",
   "execution_count": null,
   "metadata": {},
   "outputs": [],
   "source": [
    "event\n"
   ]
  }
 ],
 "metadata": {
  "kernelspec": {
   "display_name": "llamabot",
   "language": "python",
   "name": "python3"
  },
  "language_info": {
   "codemirror_mode": {
    "name": "ipython",
    "version": 3
   },
   "file_extension": ".py",
   "mimetype": "text/x-python",
   "name": "python",
   "nbconvert_exporter": "python",
   "pygments_lexer": "ipython3",
   "version": "3.11.6"
  }
 },
 "nbformat": 4,
 "nbformat_minor": 2
}
