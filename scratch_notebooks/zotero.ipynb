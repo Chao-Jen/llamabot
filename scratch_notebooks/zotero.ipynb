{
 "cells": [
  {
   "cell_type": "code",
   "execution_count": null,
   "metadata": {},
   "outputs": [],
   "source": [
    "%load_ext autoreload\n",
    "%autoreload 2\n"
   ]
  },
  {
   "cell_type": "code",
   "execution_count": null,
   "metadata": {},
   "outputs": [],
   "source": [
    "from llamabot.zotero.utils import load_zotero\n",
    "from llamabot.zotero.library import ZoteroLibrary\n",
    "from pathlib import Path\n",
    "\n",
    "# zot = load_zotero()\n",
    "\n",
    "library = ZoteroLibrary(json_dir=Path.home() / \".llamabot/zotero/zotero_index/\")\n"
   ]
  },
  {
   "cell_type": "code",
   "execution_count": null,
   "metadata": {},
   "outputs": [],
   "source": [
    "paper_key = library.key_title_map(inverse=True)[\n",
    "    \"The simplicity of protein sequence-function relationships\"\n",
    "]\n",
    "paper_key\n"
   ]
  },
  {
   "cell_type": "code",
   "execution_count": null,
   "metadata": {},
   "outputs": [],
   "source": [
    "entry = library[paper_key]\n",
    "fpath = entry.download_pdf(Path(\"/tmp\"))\n"
   ]
  },
  {
   "cell_type": "code",
   "execution_count": null,
   "metadata": {},
   "outputs": [],
   "source": [
    "from llamabot import QueryBot\n",
    "\n",
    "docbot = QueryBot(\n",
    "    \"You are an expert in answering questions about a paper.\",\n",
    "    doc_paths=[fpath],\n",
    ")\n"
   ]
  },
  {
   "cell_type": "code",
   "execution_count": null,
   "metadata": {},
   "outputs": [],
   "source": [
    "fpath\n"
   ]
  },
  {
   "cell_type": "code",
   "execution_count": null,
   "metadata": {},
   "outputs": [],
   "source": [
    "docbot(\n",
    "    \"Summarize this paper for me.\",\n",
    ")\n"
   ]
  },
  {
   "cell_type": "code",
   "execution_count": null,
   "metadata": {},
   "outputs": [],
   "source": [
    "docbot(\"How is the global average phenotype calculated?\")\n"
   ]
  },
  {
   "cell_type": "code",
   "execution_count": null,
   "metadata": {},
   "outputs": [],
   "source": [
    "docbot(\"How is the first-order effect calculated?\")\n"
   ]
  },
  {
   "cell_type": "code",
   "execution_count": null,
   "metadata": {},
   "outputs": [],
   "source": [
    "docbot(\"Can you translate the first-order effect function into Python pseudocode?\")\n"
   ]
  },
  {
   "cell_type": "code",
   "execution_count": null,
   "metadata": {},
   "outputs": [],
   "source": [
    "docbot(\"Can you show me how we could calculate subset_average above?\")\n"
   ]
  },
  {
   "cell_type": "code",
   "execution_count": null,
   "metadata": {},
   "outputs": [],
   "source": [
    "docbot(\n",
    "    \"Could you write Python pseudocode that identifies the genotypes that have a particular subset?\"\n",
    ")\n"
   ]
  },
  {
   "cell_type": "code",
   "execution_count": null,
   "metadata": {},
   "outputs": [],
   "source": [
    "docbot(\"Can you give me a Python implementation of that?\")\n"
   ]
  },
  {
   "cell_type": "code",
   "execution_count": null,
   "metadata": {},
   "outputs": [],
   "source": []
  },
  {
   "cell_type": "code",
   "execution_count": null,
   "metadata": {},
   "outputs": [],
   "source": [
    "import tiktoken\n",
    "import re\n",
    "import os\n",
    "import json\n",
    "\n",
    "from llamabot import QueryBot\n",
    "from nltk.corpus import stopwords\n",
    "from pathlib import Path\n",
    "from llamabot.zotero.utils import load_zotero\n",
    "from llamabot.zotero.library import ZoteroLibrary\n",
    "from llamabot.prompt_library.zotero import retrieverbot_sysprompt\n",
    "from pyzotero import zotero\n",
    "from dotenv import load_dotenv\n",
    "\n",
    "%load_ext autoreload\n",
    "%autoreload 2\n",
    "%config InlineBackend.figure_format = 'retina'\n"
   ]
  },
  {
   "cell_type": "code",
   "execution_count": null,
   "metadata": {},
   "outputs": [],
   "source": [
    "# I found a bug: sometimes, I get back the \"arxiv fulltext PDF or arxiv snapshot, not the entry itself.\"\n",
    "# I think the fix is to individually embed just the entries that are not PDFs as JSON and then query them.\n"
   ]
  },
  {
   "cell_type": "code",
   "execution_count": null,
   "metadata": {},
   "outputs": [],
   "source": [
    "ZOTERO_JSON_DIR = Path.home() / \".llamabot/zotero/zotero_index/\"\n",
    "# ZOTERO_JSON_DIR.mkdir(parents=True, exist_ok=True)\n",
    "\n",
    "library = ZoteroLibrary(articles_only=True)\n"
   ]
  },
  {
   "cell_type": "code",
   "execution_count": null,
   "metadata": {},
   "outputs": [],
   "source": [
    "library.library[\"PD98W5BW\"].info[\"data\"][\"title\"]\n"
   ]
  },
  {
   "cell_type": "code",
   "execution_count": null,
   "metadata": {},
   "outputs": [],
   "source": [
    "# Use set intersection of terms for searching\n",
    "\n",
    "\n",
    "# Function that eliminates any non-alphanumeric characters from a string\n",
    "def remove_non_alphanumeric(s: str) -> str:\n",
    "    return re.sub(r\"[^\\w\\s]\", \"\", s)\n",
    "\n",
    "\n",
    "# Remove stop words from a string\n",
    "def remove_stop_words(s: str) -> str:\n",
    "    stop_words = set(stopwords.words(\"english\"))\n",
    "    return \" \".join([word for word in s.split() if word not in stop_words])\n",
    "\n",
    "\n",
    "def process_words(s: str) -> set:\n",
    "    s = remove_non_alphanumeric(s)\n",
    "    s = remove_stop_words(s)\n",
    "    return set(s.lower().split(\" \"))\n",
    "\n",
    "\n",
    "# Process a ZoteroItem's title, abstract, and authors by removing non-alphanumeric characters and stop words\n",
    "# and then storing them inside a \"keywords\" set.\n",
    "# def process_zotero_item(zotero_item):\n",
    "#     keywords = set()\n",
    "#     keywords.add(remove_non_alphanumeric(zotero_item.title))\n",
    "#     keywords.add(remove_non_alphanumeric(zotero_item.abstract))\n"
   ]
  },
  {
   "cell_type": "code",
   "execution_count": null,
   "metadata": {},
   "outputs": [],
   "source": [
    "items = library.library.items()\n",
    "keywords = set()\n",
    "for key, item in items:\n",
    "    keywords = keywords.union(process_words(item[\"data\"][\"title\"]))\n",
    "    keywords = keywords.union(process_words(item[\"data\"][\"abstractNote\"]))\n",
    "    break\n"
   ]
  },
  {
   "cell_type": "code",
   "execution_count": null,
   "metadata": {},
   "outputs": [],
   "source": [
    "keywords\n"
   ]
  },
  {
   "cell_type": "code",
   "execution_count": null,
   "metadata": {},
   "outputs": [],
   "source": [
    "library.to_json(ZOTERO_JSON_DIR, has_pdf=True)\n"
   ]
  },
  {
   "cell_type": "code",
   "execution_count": null,
   "metadata": {},
   "outputs": [],
   "source": [
    "doc_paths = list(ZOTERO_JSON_DIR.glob(\"*.json\"))\n",
    "# doc_paths = [ZOTERO_JSON_DIR / \"BNGBSLPD.json\"]\n",
    "doc_paths\n"
   ]
  },
  {
   "cell_type": "code",
   "execution_count": null,
   "metadata": {},
   "outputs": [],
   "source": [
    "encoding = tiktoken.encoding_for_model(\"gpt-4-32k\")\n",
    "max_tokens = 0\n",
    "for json_path in list(ZOTERO_JSON_DIR.glob(\"*.json\")):\n",
    "    string: str = json_path.read_text()\n",
    "    num_tokens = len(encoding.encode(string))\n",
    "    if num_tokens > max_tokens:\n",
    "        max_tokens = num_tokens\n",
    "\n",
    "retrieverbot = QueryBot(\n",
    "    retrieverbot_sysprompt(),\n",
    "    doc_paths=doc_paths,\n",
    "    stream=True,\n",
    "    use_cache=False,\n",
    "    chunk_size=max_tokens,\n",
    ")\n"
   ]
  },
  {
   "cell_type": "code",
   "execution_count": null,
   "metadata": {},
   "outputs": [],
   "source": []
  },
  {
   "cell_type": "code",
   "execution_count": null,
   "metadata": {},
   "outputs": [],
   "source": [
    "nodes = retrieverbot.retrieve(\"antibody\")\n",
    "nodes\n"
   ]
  },
  {
   "cell_type": "code",
   "execution_count": null,
   "metadata": {},
   "outputs": [],
   "source": [
    "nodes = retrieverbot.retrieve(\"alphafold\")\n",
    "for node in nodes:\n",
    "    try:\n",
    "        json.loads(node.node.text)\n",
    "    except Exception:\n",
    "        print(node)\n",
    "    print()\n"
   ]
  },
  {
   "cell_type": "code",
   "execution_count": null,
   "metadata": {},
   "outputs": [],
   "source": [
    "from llamabot.prompt_library.zotero import get_key\n"
   ]
  },
  {
   "cell_type": "code",
   "execution_count": null,
   "metadata": {},
   "outputs": [],
   "source": [
    "retrieverbot(get_key(\"alphafold paper\"))\n"
   ]
  },
  {
   "cell_type": "code",
   "execution_count": null,
   "metadata": {},
   "outputs": [],
   "source": [
    "for k, v in library.library.items():\n",
    "    if v.has_pdf():\n",
    "        print(k)\n"
   ]
  },
  {
   "cell_type": "code",
   "execution_count": null,
   "metadata": {},
   "outputs": [],
   "source": []
  },
  {
   "cell_type": "code",
   "execution_count": null,
   "metadata": {},
   "outputs": [],
   "source": []
  },
  {
   "cell_type": "code",
   "execution_count": null,
   "metadata": {},
   "outputs": [],
   "source": []
  },
  {
   "cell_type": "code",
   "execution_count": null,
   "metadata": {},
   "outputs": [],
   "source": []
  },
  {
   "cell_type": "code",
   "execution_count": null,
   "metadata": {},
   "outputs": [],
   "source": [
    "ZOTERO_JSON_PATH = Path.home() / \".llamabot/zotero/zotero_index.json\"\n",
    "\n",
    "retrieverbot = QueryBot(\n",
    "    retrieverbot_sysprompt(),\n",
    "    doc_paths=[ZOTERO_JSON_PATH],\n",
    ")\n"
   ]
  },
  {
   "cell_type": "code",
   "execution_count": null,
   "metadata": {},
   "outputs": [],
   "source": [
    "# CLI: llamabot zotero configure --library-id 12345 --library-type \"user\" --api-key 1p84325f\n",
    "\n",
    "# Then we store the library ID and the library type in the config file.\n"
   ]
  },
  {
   "cell_type": "code",
   "execution_count": null,
   "metadata": {},
   "outputs": [],
   "source": [
    "retrieverbot(get_key(\"A paper on machine learning for engineering GFP\"))\n"
   ]
  },
  {
   "cell_type": "code",
   "execution_count": null,
   "metadata": {},
   "outputs": [],
   "source": [
    "lib = ZoteroLibrary()\n",
    "lib[\"BV68IW7P\"].download_pdf(Path(\"/tmp\"))\n"
   ]
  },
  {
   "cell_type": "code",
   "execution_count": null,
   "metadata": {},
   "outputs": [],
   "source": [
    "# llamabot zotero sync\n"
   ]
  },
  {
   "cell_type": "code",
   "execution_count": null,
   "metadata": {},
   "outputs": [],
   "source": [
    "load_dotenv()\n",
    "\n",
    "zotero_library_id = os.environ.get(\"ZOTERO_LIBRARY_ID\", None)\n",
    "zotero_library_type = os.environ.get(\"ZOTERO_LIBRARY_TYPE\", None)\n",
    "zotero_api_key = os.environ.get(\"ZOTERO_API_KEY\", None)\n",
    "\n",
    "zot = zotero.Zotero(\n",
    "    library_id=zotero_library_id,\n",
    "    library_type=zotero_library_type,\n",
    "    api_key=zotero_api_key,\n",
    ")\n",
    "items = zot.everything(zot.items())\n"
   ]
  },
  {
   "cell_type": "code",
   "execution_count": null,
   "metadata": {},
   "outputs": [],
   "source": []
  },
  {
   "cell_type": "code",
   "execution_count": null,
   "metadata": {},
   "outputs": [],
   "source": [
    "len(items)\n"
   ]
  },
  {
   "cell_type": "code",
   "execution_count": null,
   "metadata": {},
   "outputs": [],
   "source": [
    "# We only want the parent items. They don't have a \"parent\" key.\n",
    "\n",
    "# items[3]\n",
    "# [item for item in items if \"up\" not in item[\"links\"]]\n",
    "items_with_abstracts = [\n",
    "    item for item in items if \"data\" in item and \"abstractNote\" in item[\"data\"]\n",
    "]\n",
    "len(items_with_abstracts)\n"
   ]
  },
  {
   "cell_type": "code",
   "execution_count": null,
   "metadata": {},
   "outputs": [],
   "source": [
    "# QueryBot\n",
    "\n",
    "# from llamabot import QueryBot\n",
    "title = items_with_abstracts[0][\"data\"][\"title\"]\n",
    "abstract = items_with_abstracts[0][\"data\"][\"abstractNote\"]\n",
    "authors = [\n",
    "    c\n",
    "    for c in items_with_abstracts[0][\"data\"][\"creators\"]\n",
    "    if c[\"creatorType\"] == \"author\"\n",
    "]\n",
    "items_with_abstracts[0]\n"
   ]
  },
  {
   "attachments": {},
   "cell_type": "markdown",
   "metadata": {},
   "source": [
    "Save all of the JSONS to disk under /tmp/zotero_jsons\n"
   ]
  },
  {
   "cell_type": "code",
   "execution_count": null,
   "metadata": {},
   "outputs": [],
   "source": [
    "# Desired CLI:\n",
    "# llamabot zotero chat --title \"Title\" --author \"any author\"\n",
    "\n",
    "# Step 1: Retrieve the PDF key from Zotero. Raise error if there is no PDF key.\n"
   ]
  },
  {
   "cell_type": "code",
   "execution_count": null,
   "metadata": {},
   "outputs": [],
   "source": []
  },
  {
   "cell_type": "code",
   "execution_count": null,
   "metadata": {},
   "outputs": [],
   "source": [
    "ZOTERO_JSON_PATH = Path.home() / \".llamabot/zotero/zotero_index.json\"\n",
    "\n",
    "retrieverbot = QueryBot(\n",
    "    retrieverbot_sysprompt(),\n",
    "    doc_paths=[ZOTERO_JSON_PATH],\n",
    ")\n"
   ]
  },
  {
   "cell_type": "code",
   "execution_count": null,
   "metadata": {},
   "outputs": [],
   "source": [
    "from llamabot.prompt_library.zotero import get_key\n",
    "\n",
    "response = retrieverbot(\n",
    "    get_key(title=\"A Connection Between Score Matching and Denoising Autoencoders\")\n",
    ")\n"
   ]
  },
  {
   "cell_type": "code",
   "execution_count": null,
   "metadata": {},
   "outputs": [],
   "source": [
    "key = json.loads(response.content)[\"key\"]\n",
    "\n",
    "\n",
    "zot = load_zotero()\n",
    "\n",
    "# library = zot.everything(zot.items())\n",
    "library = ZoteroLibrary(ZOTERO_JSON_PATH)\n",
    "fpath = library[key].download_pdf(Path(\"/tmp\"))\n",
    "fpath\n"
   ]
  },
  {
   "cell_type": "code",
   "execution_count": null,
   "metadata": {},
   "outputs": [],
   "source": [
    "library[key][\"data.title\"]\n"
   ]
  },
  {
   "cell_type": "code",
   "execution_count": null,
   "metadata": {},
   "outputs": [],
   "source": [
    "docchat = QueryBot(\n",
    "    system_message=\"You are an expert paper reader.\",\n",
    "    doc_paths=[fpath],\n",
    ")\n"
   ]
  },
  {
   "cell_type": "code",
   "execution_count": null,
   "metadata": {},
   "outputs": [],
   "source": [
    "docchat(\"Summarize this paper for me.\")\n"
   ]
  },
  {
   "cell_type": "code",
   "execution_count": null,
   "metadata": {},
   "outputs": [],
   "source": [
    "docchat(\"What implementation of Gaussian Processes did the author use?\")\n"
   ]
  },
  {
   "cell_type": "code",
   "execution_count": null,
   "metadata": {},
   "outputs": [],
   "source": [
    "docchat(\"What is the reference for COMBO? Is there a paper?\")\n"
   ]
  },
  {
   "cell_type": "code",
   "execution_count": null,
   "metadata": {},
   "outputs": [],
   "source": [
    "docchat(\"How big was the initial small library that they tested?\")\n"
   ]
  },
  {
   "cell_type": "code",
   "execution_count": null,
   "metadata": {},
   "outputs": [],
   "source": [
    "docchat(\"Define 'point saturation mutagenesis' for me please.\")\n"
   ]
  },
  {
   "cell_type": "code",
   "execution_count": null,
   "metadata": {},
   "outputs": [],
   "source": []
  },
  {
   "cell_type": "code",
   "execution_count": null,
   "metadata": {},
   "outputs": [],
   "source": []
  },
  {
   "cell_type": "code",
   "execution_count": null,
   "metadata": {},
   "outputs": [],
   "source": []
  },
  {
   "cell_type": "code",
   "execution_count": null,
   "metadata": {},
   "outputs": [],
   "source": []
  },
  {
   "cell_type": "code",
   "execution_count": null,
   "metadata": {},
   "outputs": [],
   "source": []
  },
  {
   "cell_type": "code",
   "execution_count": null,
   "metadata": {},
   "outputs": [],
   "source": []
  },
  {
   "cell_type": "code",
   "execution_count": null,
   "metadata": {},
   "outputs": [],
   "source": []
  },
  {
   "cell_type": "code",
   "execution_count": null,
   "metadata": {},
   "outputs": [],
   "source": [
    "len(items)\n",
    "\n",
    "items[1][\"links\"][\"attachment\"]\n"
   ]
  },
  {
   "cell_type": "code",
   "execution_count": null,
   "metadata": {},
   "outputs": [],
   "source": [
    "items[0][\"links\"][\"attachment\"][\"href\"]\n"
   ]
  },
  {
   "cell_type": "code",
   "execution_count": null,
   "metadata": {},
   "outputs": [],
   "source": [
    "with open(\"/tmp/article.pdf\", \"wb\") as f:\n",
    "    f.write(zot.file(\"A4BK56EA\"))\n"
   ]
  },
  {
   "cell_type": "code",
   "execution_count": null,
   "metadata": {},
   "outputs": [],
   "source": [
    "# We can parse the href to get the item key\n",
    "\n",
    "# I think we need to\n"
   ]
  }
 ],
 "metadata": {
  "kernelspec": {
   "display_name": "llamabot",
   "language": "python",
   "name": "python3"
  },
  "language_info": {
   "codemirror_mode": {
    "name": "ipython",
    "version": 3
   },
   "file_extension": ".py",
   "mimetype": "text/x-python",
   "name": "python",
   "nbconvert_exporter": "python",
   "pygments_lexer": "ipython3",
   "version": "3.11.6"
  }
 },
 "nbformat": 4,
 "nbformat_minor": 2
}
