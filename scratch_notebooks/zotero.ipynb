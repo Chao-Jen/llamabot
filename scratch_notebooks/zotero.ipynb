{
 "cells": [
  {
   "cell_type": "code",
   "execution_count": null,
   "metadata": {},
   "outputs": [],
   "source": [
    "%load_ext autoreload\n",
    "%autoreload 2\n",
    "%config InlineBackend.figure_format = 'retina'"
   ]
  },
  {
   "cell_type": "code",
   "execution_count": null,
   "metadata": {},
   "outputs": [],
   "source": [
    "# I found a bug: sometimes, I get back the \"arxiv fulltext PDF or arxiv snapshot, not the entry itself.\"\n",
    "# I think the fix is to individually embed just the entries that are not PDFs as JSON and then query them."
   ]
  },
  {
   "cell_type": "code",
   "execution_count": null,
   "metadata": {},
   "outputs": [],
   "source": [
    "from llamabot.zotero.library import ZoteroLibrary\n",
    "from pathlib import Path\n",
    "\n",
    "ZOTERO_JSON_DIR = Path.home() / \".llamabot/zotero/zotero_index/\"\n",
    "ZOTERO_JSON_DIR.mkdir(parents=True, exist_ok=True)\n",
    "\n",
    "# library = ZoteroLibrary()"
   ]
  },
  {
   "cell_type": "code",
   "execution_count": null,
   "metadata": {},
   "outputs": [],
   "source": [
    "from llamabot import QueryBot\n",
    "from llamabot.prompt_library.zotero import get_key, retrieverbot_sysprompt\n",
    "\n",
    "\n",
    "retrieverbot = QueryBot(\n",
    "    retrieverbot_sysprompt(),\n",
    "    doc_paths=list(ZOTERO_JSON_DIR.glob(\"*.json\")),\n",
    "    stream=True,\n",
    "    use_cache=False,\n",
    ")"
   ]
  },
  {
   "cell_type": "code",
   "execution_count": null,
   "metadata": {},
   "outputs": [],
   "source": [
    "retriever = retrieverbot.index.as_query_engine(similarity_topk=10)\n",
    "\n",
    "retriever.retrieve(\"bayesian optimization\")"
   ]
  },
  {
   "cell_type": "code",
   "execution_count": null,
   "metadata": {},
   "outputs": [],
   "source": [
    "retrieverbot(\n",
    "    \"I'm looking for a paper on Bayesian optimization. Which one should I read?\"\n",
    ")"
   ]
  },
  {
   "cell_type": "code",
   "execution_count": null,
   "metadata": {},
   "outputs": [],
   "source": [
    "for k, v in library.library.items():\n",
    "    if v.has_pdf():\n",
    "        print(k)"
   ]
  },
  {
   "cell_type": "code",
   "execution_count": null,
   "metadata": {},
   "outputs": [],
   "source": []
  },
  {
   "cell_type": "code",
   "execution_count": null,
   "metadata": {},
   "outputs": [],
   "source": []
  },
  {
   "cell_type": "code",
   "execution_count": null,
   "metadata": {},
   "outputs": [],
   "source": []
  },
  {
   "cell_type": "code",
   "execution_count": null,
   "metadata": {},
   "outputs": [],
   "source": [
    "asdfasdfasdfasdf"
   ]
  },
  {
   "cell_type": "code",
   "execution_count": null,
   "metadata": {},
   "outputs": [],
   "source": [
    "from llamabot import QueryBot"
   ]
  },
  {
   "cell_type": "code",
   "execution_count": null,
   "metadata": {},
   "outputs": [],
   "source": [
    "from llamabot.prompt_library.zotero import retrieverbot_sysprompt, get_key\n",
    "from pathlib import Path\n",
    "from llamabot import QueryBot\n",
    "\n",
    "ZOTERO_JSON_PATH = Path.home() / \".llamabot/zotero/zotero_index.json\"\n",
    "\n",
    "retrieverbot = QueryBot(\n",
    "    retrieverbot_sysprompt(),\n",
    "    doc_paths=[ZOTERO_JSON_PATH],\n",
    ")"
   ]
  },
  {
   "cell_type": "code",
   "execution_count": null,
   "metadata": {},
   "outputs": [],
   "source": [
    "# CLI: llamabot zotero configure --library-id 12345 --library-type \"user\" --api-key 1p84325f\n",
    "\n",
    "# Then we store the library ID and the library type in the config file."
   ]
  },
  {
   "cell_type": "code",
   "execution_count": null,
   "metadata": {},
   "outputs": [],
   "source": [
    "retrieverbot(get_key(\"A paper on machine learning for engineering GFP\"))"
   ]
  },
  {
   "cell_type": "code",
   "execution_count": null,
   "metadata": {},
   "outputs": [],
   "source": [
    "import json\n",
    "from llamabot.zotero.library import ZoteroLibrary\n",
    "\n",
    "\n",
    "lib = ZoteroLibrary()\n",
    "lib[\"BV68IW7P\"].download_pdf(Path(\"/tmp\"))"
   ]
  },
  {
   "cell_type": "code",
   "execution_count": null,
   "metadata": {},
   "outputs": [],
   "source": [
    "# llamabot zotero sync"
   ]
  },
  {
   "cell_type": "code",
   "execution_count": null,
   "metadata": {},
   "outputs": [],
   "source": [
    "from pyzotero import zotero\n",
    "import os\n",
    "from dotenv import load_dotenv\n",
    "\n",
    "load_dotenv()\n",
    "\n",
    "zotero_library_id = os.environ.get(\"ZOTERO_LIBRARY_ID\", None)\n",
    "zotero_library_type = os.environ.get(\"ZOTERO_LIBRARY_TYPE\", None)\n",
    "zotero_api_key = os.environ.get(\"ZOTERO_API_KEY\", None)\n",
    "\n",
    "zot = zotero.Zotero(\n",
    "    library_id=zotero_library_id,\n",
    "    library_type=zotero_library_type,\n",
    "    api_key=zotero_api_key,\n",
    ")\n",
    "items = zot.everything(zot.items())"
   ]
  },
  {
   "cell_type": "code",
   "execution_count": null,
   "metadata": {},
   "outputs": [],
   "source": []
  },
  {
   "cell_type": "code",
   "execution_count": null,
   "metadata": {},
   "outputs": [],
   "source": [
    "len(items)"
   ]
  },
  {
   "cell_type": "code",
   "execution_count": null,
   "metadata": {},
   "outputs": [],
   "source": [
    "# We only want the parent items. They don't have a \"parent\" key.\n",
    "\n",
    "# items[3]\n",
    "# [item for item in items if \"up\" not in item[\"links\"]]\n",
    "items_with_abstracts = [\n",
    "    item for item in items if \"data\" in item and \"abstractNote\" in item[\"data\"]\n",
    "]\n",
    "len(items_with_abstracts)"
   ]
  },
  {
   "cell_type": "code",
   "execution_count": null,
   "metadata": {},
   "outputs": [],
   "source": [
    "# QueryBot\n",
    "\n",
    "# from llamabot import QueryBot\n",
    "title = items_with_abstracts[0][\"data\"][\"title\"]\n",
    "abstract = items_with_abstracts[0][\"data\"][\"abstractNote\"]\n",
    "authors = [\n",
    "    c\n",
    "    for c in items_with_abstracts[0][\"data\"][\"creators\"]\n",
    "    if c[\"creatorType\"] == \"author\"\n",
    "]\n",
    "items_with_abstracts[0]"
   ]
  },
  {
   "attachments": {},
   "cell_type": "markdown",
   "metadata": {},
   "source": [
    "Save all of the JSONS to disk under /tmp/zotero_jsons\n"
   ]
  },
  {
   "cell_type": "code",
   "execution_count": null,
   "metadata": {},
   "outputs": [],
   "source": [
    "# Desired CLI:\n",
    "# llamabot zotero chat --title \"Title\" --author \"any author\"\n",
    "\n",
    "# Step 1: Retrieve the PDF key from Zotero. Raise error if there is no PDF key."
   ]
  },
  {
   "cell_type": "code",
   "execution_count": null,
   "metadata": {},
   "outputs": [],
   "source": []
  },
  {
   "cell_type": "code",
   "execution_count": null,
   "metadata": {},
   "outputs": [],
   "source": [
    "from llamabot.prompt_library.zotero import retrieverbot_sysprompt\n",
    "from pathlib import Path\n",
    "from llamabot import QueryBot\n",
    "\n",
    "ZOTERO_JSON_PATH = Path.home() / \".llamabot/zotero/zotero_index.json\"\n",
    "\n",
    "retrieverbot = QueryBot(\n",
    "    retrieverbot_sysprompt(),\n",
    "    doc_paths=[ZOTERO_JSON_PATH],\n",
    ")"
   ]
  },
  {
   "cell_type": "code",
   "execution_count": null,
   "metadata": {},
   "outputs": [],
   "source": [
    "from llamabot.prompt_library.zotero import get_key\n",
    "\n",
    "response = retrieverbot(\n",
    "    get_key(title=\"A Connection Between Score Matching and Denoising Autoencoders\")\n",
    ")"
   ]
  },
  {
   "cell_type": "code",
   "execution_count": null,
   "metadata": {},
   "outputs": [],
   "source": [
    "import json\n",
    "from llamabot.zotero.utils import load_zotero\n",
    "from llamabot.zotero.library import ZoteroLibrary, ZoteroItem\n",
    "\n",
    "key = json.loads(response.content)[\"key\"]\n",
    "\n",
    "\n",
    "zot = load_zotero()\n",
    "\n",
    "# library = zot.everything(zot.items())\n",
    "library = ZoteroLibrary(ZOTERO_JSON_PATH)\n",
    "fpath = library[key].download_pdf(Path(\"/tmp\"))\n",
    "fpath"
   ]
  },
  {
   "cell_type": "code",
   "execution_count": null,
   "metadata": {},
   "outputs": [],
   "source": [
    "library[key][\"data.title\"]"
   ]
  },
  {
   "cell_type": "code",
   "execution_count": null,
   "metadata": {},
   "outputs": [],
   "source": [
    "docchat = QueryBot(\n",
    "    system_message=\"You are an expert paper reader.\",\n",
    "    doc_paths=[fpath],\n",
    ")"
   ]
  },
  {
   "cell_type": "code",
   "execution_count": null,
   "metadata": {},
   "outputs": [],
   "source": [
    "docchat(\"Summarize this paper for me.\")"
   ]
  },
  {
   "cell_type": "code",
   "execution_count": null,
   "metadata": {},
   "outputs": [],
   "source": [
    "docchat(\"What implementation of Gaussian Processes did the author use?\")"
   ]
  },
  {
   "cell_type": "code",
   "execution_count": null,
   "metadata": {},
   "outputs": [],
   "source": [
    "docchat(\"What is the reference for COMBO? Is there a paper?\")"
   ]
  },
  {
   "cell_type": "code",
   "execution_count": null,
   "metadata": {},
   "outputs": [],
   "source": [
    "docchat(\"How big was the initial small library that they tested?\")"
   ]
  },
  {
   "cell_type": "code",
   "execution_count": null,
   "metadata": {},
   "outputs": [],
   "source": [
    "docchat(\"Define 'point saturation mutagenesis' for me please.\")"
   ]
  },
  {
   "cell_type": "code",
   "execution_count": null,
   "metadata": {},
   "outputs": [],
   "source": []
  },
  {
   "cell_type": "code",
   "execution_count": null,
   "metadata": {},
   "outputs": [],
   "source": []
  },
  {
   "cell_type": "code",
   "execution_count": null,
   "metadata": {},
   "outputs": [],
   "source": []
  },
  {
   "cell_type": "code",
   "execution_count": null,
   "metadata": {},
   "outputs": [],
   "source": []
  },
  {
   "cell_type": "code",
   "execution_count": null,
   "metadata": {},
   "outputs": [],
   "source": []
  },
  {
   "cell_type": "code",
   "execution_count": null,
   "metadata": {},
   "outputs": [],
   "source": []
  },
  {
   "cell_type": "code",
   "execution_count": null,
   "metadata": {},
   "outputs": [],
   "source": []
  },
  {
   "cell_type": "code",
   "execution_count": null,
   "metadata": {},
   "outputs": [],
   "source": [
    "len(items)\n",
    "\n",
    "items[1][\"links\"][\"attachment\"]"
   ]
  },
  {
   "cell_type": "code",
   "execution_count": null,
   "metadata": {},
   "outputs": [],
   "source": [
    "items[0][\"links\"][\"attachment\"][\"href\"]"
   ]
  },
  {
   "cell_type": "code",
   "execution_count": null,
   "metadata": {},
   "outputs": [],
   "source": [
    "with open(\"/tmp/article.pdf\", \"wb\") as f:\n",
    "    f.write(zot.file(\"A4BK56EA\"))"
   ]
  },
  {
   "cell_type": "code",
   "execution_count": null,
   "metadata": {},
   "outputs": [],
   "source": [
    "# We can parse the href to get the item key\n",
    "\n",
    "# I think we need to"
   ]
  }
 ],
 "metadata": {
  "kernelspec": {
   "display_name": "llamabot",
   "language": "python",
   "name": "python3"
  },
  "language_info": {
   "codemirror_mode": {
    "name": "ipython",
    "version": 3
   },
   "file_extension": ".py",
   "mimetype": "text/x-python",
   "name": "python",
   "nbconvert_exporter": "python",
   "pygments_lexer": "ipython3",
   "version": "3.11.4"
  }
 },
 "nbformat": 4,
 "nbformat_minor": 2
}
