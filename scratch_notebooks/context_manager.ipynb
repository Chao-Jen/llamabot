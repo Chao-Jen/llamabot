{
 "cells": [
  {
   "attachments": {},
   "cell_type": "markdown",
   "metadata": {},
   "source": [
    "# Prototype to support prompt experimentation"
   ]
  },
  {
   "attachments": {},
   "cell_type": "markdown",
   "metadata": {},
   "source": [
    "Design goals:\n",
    "\n",
    "1. Context manager that continually records prompts (inputs) and outputs from the LLM inside a pandas DataFrame.\n",
    "2. Easily retrieve that dataframe to evaluate prompts.\n",
    "3. (Stretch) Human evaluate the responses."
   ]
  },
  {
   "cell_type": "code",
   "execution_count": null,
   "metadata": {},
   "outputs": [],
   "source": [
    "from llamabot import SimpleBot, ChatBot, QueryBot\n",
    "from langchain.schema import AIMessage, HumanMessage\n",
    "from typing import Union\n",
    "\n",
    "\n",
    "class PromptRecorder:\n",
    "    def __init__(self):\n",
    "        self.prompts_and_responses = []\n",
    "\n",
    "    def __enter__(self):\n",
    "        print(\"Recording prompt and response...\")\n",
    "        return self\n",
    "\n",
    "    def __exit__(self, exc_type, exc_val, exc_tb):\n",
    "        print(\"Recording complete!🎉\")\n",
    "\n",
    "    def log(self, bot: Union[SimpleBot, ChatBot, QueryBot], prompt: str):\n",
    "        \"\"\"Log the prompt and response in chat history.\"\"\"\n",
    "        response = bot(prompt)\n",
    "\n",
    "        self.prompts_and_responses.append(\n",
    "            {\"prompt\": prompt, \"response\": response.content}\n",
    "        )\n",
    "\n",
    "\n",
    "recorder = PromptRecorder()\n",
    "bot = ChatBot(\"you are a fitness coach who responds in under 50 words.\")"
   ]
  },
  {
   "cell_type": "code",
   "execution_count": null,
   "metadata": {},
   "outputs": [],
   "source": [
    "with recorder:\n",
    "    recorder.log(bot, \"What will you do to gain muscle?\")"
   ]
  },
  {
   "cell_type": "code",
   "execution_count": null,
   "metadata": {},
   "outputs": [],
   "source": [
    "import pandas as pd\n",
    "\n",
    "pd.DataFrame(recorder.prompts_and_responses)"
   ]
  }
 ],
 "metadata": {
  "kernelspec": {
   "display_name": "llamabot",
   "language": "python",
   "name": "python3"
  },
  "language_info": {
   "codemirror_mode": {
    "name": "ipython",
    "version": 3
   },
   "file_extension": ".py",
   "mimetype": "text/x-python",
   "name": "python",
   "nbconvert_exporter": "python",
   "pygments_lexer": "ipython3",
   "version": "3.9.16"
  }
 },
 "nbformat": 4,
 "nbformat_minor": 2
}
