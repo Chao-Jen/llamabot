{
 "cells": [
  {
   "attachments": {},
   "cell_type": "markdown",
   "metadata": {},
   "source": [
    "# Prototype to support prompt experimentation"
   ]
  },
  {
   "attachments": {},
   "cell_type": "markdown",
   "metadata": {},
   "source": [
    "Design goals:\n",
    "\n",
    "1. Context manager that continually records prompts (inputs) and outputs from the LLM inside a pandas DataFrame.\n",
    "2. Easily retrieve that dataframe to evaluate prompts.\n",
    "3. (Stretch) Human evaluate the responses."
   ]
  },
  {
   "cell_type": "code",
   "execution_count": null,
   "metadata": {},
   "outputs": [],
   "source": [
    "%load_ext autoreload \n",
    "%autoreload 2"
   ]
  },
  {
   "cell_type": "code",
   "execution_count": null,
   "metadata": {},
   "outputs": [],
   "source": [
    "from llamabot import SimpleBot, PromptRecorder\n",
    "\n",
    "bot = SimpleBot(\"you are an expert pair programmer.\")"
   ]
  },
  {
   "cell_type": "code",
   "execution_count": null,
   "metadata": {},
   "outputs": [],
   "source": [
    "with PromptRecorder() as recorder:\n",
    "    bot(\n",
    "        \"\"\"How do I make a Python object aware of the context that it is inside of?\n",
    "\n",
    "As an example, I would like to write the following code:\n",
    "\n",
    "```python\n",
    "bot = SimpelBot()\n",
    "with PromptRecorder() as recorder:\n",
    "    bot(\"some message\")\n",
    "```\n",
    "\n",
    "The `bot` object should be aware that it is within a `with` block, and that there is a `recorder` object available\n",
    "to record the prompt and outputs from the prompt.\n",
    "How do I write `bot` to do so?\n",
    "I would like to avoid using the instantiated `PromptRecorder()` object within the context manager.    \n",
    "\"\"\"\n",
    "    )"
   ]
  },
  {
   "cell_type": "code",
   "execution_count": null,
   "metadata": {},
   "outputs": [],
   "source": [
    "recorder"
   ]
  }
 ],
 "metadata": {
  "kernelspec": {
   "display_name": "llamabot",
   "language": "python",
   "name": "python3"
  },
  "language_info": {
   "codemirror_mode": {
    "name": "ipython",
    "version": 3
   },
   "file_extension": ".py",
   "mimetype": "text/x-python",
   "name": "python",
   "nbconvert_exporter": "python",
   "pygments_lexer": "ipython3",
   "version": "3.9.16"
  }
 },
 "nbformat": 4,
 "nbformat_minor": 2
}
