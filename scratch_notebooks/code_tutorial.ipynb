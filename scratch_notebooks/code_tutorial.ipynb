{
 "cells": [
  {
   "cell_type": "code",
   "execution_count": null,
   "metadata": {},
   "outputs": [],
   "source": [
    "%load_ext autoreload\n",
    "%autoreload 2"
   ]
  },
  {
   "cell_type": "code",
   "execution_count": null,
   "metadata": {},
   "outputs": [],
   "source": [
    "# Prototype of the code tutorial bot\n",
    "from llamabot import SimpleBot\n",
    "\n",
    "\n",
    "tutorialbot = SimpleBot(\n",
    "    \"\"\"\n",
    "You are an expert python tutorial writer.\n",
    "\n",
    "Your style is engaging without being too entertaining.\n",
    "\n",
    "You will be provided a library of code.\n",
    "Your task is to write a tutorial for the code.\n",
    "\n",
    "Do not copy code from the library; instead,\n",
    "simply presume it is imported.\n",
    "\n",
    "Where possible, show how the code is used in relation to one another.\n",
    "For example, the output of one function being used in a downstream function.\n",
    "Do not hallucinate code that does not exist.\n",
    "\"\"\"\n",
    ")\n",
    "\n",
    "\n",
    "from outlines import text\n",
    "\n",
    "\n",
    "@text.prompt\n",
    "def tutorial_ghostwriter(code):\n",
    "    \"\"\"Please help me write a tutorial for the following code.\n",
    "\n",
    "    {{ code }}\n",
    "\n",
    "    It should be in Markdown format.\n",
    "\n",
    "    # noqa: DAR101\n",
    "    \"\"\""
   ]
  },
  {
   "cell_type": "code",
   "execution_count": null,
   "metadata": {},
   "outputs": [],
   "source": [
    "from pyprojroot import here\n",
    "\n",
    "\n",
    "with open(here() / \"llamabot/bot_library/coding.py\", \"r+\") as f:\n",
    "    code = f.read()\n",
    "\n",
    "tutorialbot(tutorial_ghostwriter(code))"
   ]
  },
  {
   "cell_type": "code",
   "execution_count": null,
   "metadata": {},
   "outputs": [],
   "source": []
  }
 ],
 "metadata": {
  "kernelspec": {
   "display_name": "llamabot",
   "language": "python",
   "name": "python3"
  },
  "language_info": {
   "codemirror_mode": {
    "name": "ipython",
    "version": 3
   },
   "file_extension": ".py",
   "mimetype": "text/x-python",
   "name": "python",
   "nbconvert_exporter": "python",
   "pygments_lexer": "ipython3",
   "version": "3.9.16"
  }
 },
 "nbformat": 4,
 "nbformat_minor": 2
}
