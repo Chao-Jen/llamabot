{
 "cells": [
  {
   "cell_type": "code",
   "execution_count": null,
   "metadata": {},
   "outputs": [],
   "source": [
    "%load_ext autoreload\n",
    "%autoreload 2"
   ]
  },
  {
   "cell_type": "code",
   "execution_count": null,
   "metadata": {},
   "outputs": [],
   "source": [
    "# Prototype of the code tutorial bot\n",
    "from llamabot import SimpleBot\n",
    "\n",
    "\n",
    "from outlines import text\n",
    "\n",
    "\n",
    "@text.prompt\n",
    "def tutorialbot_system_prompt():\n",
    "    \"\"\"\n",
    "    You are an expert python tutorial writer.\n",
    "\n",
    "    Your style is engaging without being too entertaining.\n",
    "\n",
    "    You will be provided a library of code.\n",
    "    Your task is to write a tutorial for the code.\n",
    "\n",
    "    Do not copy code from the library; instead,\n",
    "    simply presume it is imported.\n",
    "\n",
    "    Where possible, show how the code is used in relation to one another.\n",
    "    For example, the output of one function being used in a downstream function.\n",
    "    Do not hallucinate code that does not exist.\n",
    "    \"\"\"\n",
    "\n",
    "\n",
    "@text.prompt\n",
    "def tutorial_ghostwriter(code):\n",
    "    \"\"\"Please help me write a tutorial for the following code.\n",
    "\n",
    "    {{ code }}\n",
    "\n",
    "    It should be in Markdown format.\n",
    "\n",
    "    # noqa: DAR101\n",
    "    \"\"\"\n",
    "\n",
    "\n",
    "@text.prompt\n",
    "def module_level_docstrings(module_source):\n",
    "    \"\"\"Please write for me module-level docstrings for this file:\n",
    "\n",
    "    {{ module_source }}\n",
    "    \"\"\""
   ]
  },
  {
   "cell_type": "code",
   "execution_count": null,
   "metadata": {},
   "outputs": [],
   "source": [
    "tutorialbot = SimpleBot(tutorialbot_system_prompt())"
   ]
  },
  {
   "cell_type": "code",
   "execution_count": null,
   "metadata": {},
   "outputs": [],
   "source": [
    "from pyprojroot import here\n",
    "\n",
    "\n",
    "with open(here() / \"llamabot/recorder.py\", \"r+\") as f:\n",
    "    code1 = f.read()\n",
    "\n",
    "with open(here() / \"llamabot/bot/simplebot.py\", \"r+\") as f:\n",
    "    code2 = f.read()\n",
    "\n",
    "# tutorialbot(tutorial_ghostwriter(code))"
   ]
  },
  {
   "cell_type": "code",
   "execution_count": null,
   "metadata": {},
   "outputs": [],
   "source": [
    "tutorialbot(tutorial_ghostwriter(code2))"
   ]
  },
  {
   "cell_type": "code",
   "execution_count": null,
   "metadata": {},
   "outputs": [],
   "source": [
    "@text.prompt\n",
    "def combined_tutorial(code1, code2, instructions):\n",
    "    \"\"\"Please write me a tutorial that involves two source files.\n",
    "\n",
    "    The first source file is this:\n",
    "\n",
    "    {{ code1 }}\n",
    "\n",
    "    The second source file is this:\n",
    "\n",
    "    {{ code2 }}\n",
    "\n",
    "    Specific instructions on what I want to write:\n",
    "\n",
    "    {{ instructions }}\n",
    "\n",
    "    Ensure that your tutorial is written in Markdown format.\n",
    "    After the H1 header, you should have the following disclaimer:\n",
    "\n",
    "    !!! note\n",
    "        This tutorial was written by GPT4 and edited by a human.\n",
    "\n",
    "    Do not worry about dependencies;\n",
    "    we assume that all dependencies have been installed.\n",
    "    \"\"\"\n",
    "\n",
    "\n",
    "tutorialbot(\n",
    "    combined_tutorial(\n",
    "        code1,\n",
    "        code2,\n",
    "        \"Write me a tutorial on how to use the promptrecorder to automatically record querybot calls.\",\n",
    "    )\n",
    ")"
   ]
  },
  {
   "attachments": {},
   "cell_type": "markdown",
   "metadata": {},
   "source": [
    "## Write better module-level docstrings"
   ]
  },
  {
   "cell_type": "code",
   "execution_count": null,
   "metadata": {},
   "outputs": [],
   "source": [
    "@text.prompt\n",
    "def module_level_docstrings(module_source):\n",
    "    \"\"\"Please write for me module-level docstrings for this file:\n",
    "\n",
    "    {{ module_source }}\n",
    "\n",
    "    Module-level docstrings have the following specification:\n",
    "\n",
    "    The docstring for a module should generally list the classes,\n",
    "    exceptions and functions (and any other objects)\n",
    "    that are exported by the module, with a one-line summary of each.\n",
    "    (These summaries generally give less detail\n",
    "    than the summary line in the object's docstring.)\n",
    "    The docstring for a package\n",
    "    (i.e., the docstring of the package's __init__.py module)\n",
    "    should also list the modules and subpackages exported by the package.\n",
    "    \"\"\"\n",
    "\n",
    "\n",
    "codebot = SimpleBot(\"You are an expert Python programmer.\")\n",
    "\n",
    "with open(here() / \"llamabot/doc_processor.py\", \"r+\") as f:\n",
    "    code = f.read()\n",
    "\n",
    "codebot(module_level_docstrings(code))"
   ]
  },
  {
   "cell_type": "code",
   "execution_count": null,
   "metadata": {},
   "outputs": [],
   "source": []
  },
  {
   "cell_type": "code",
   "execution_count": null,
   "metadata": {},
   "outputs": [],
   "source": []
  },
  {
   "cell_type": "code",
   "execution_count": null,
   "metadata": {},
   "outputs": [],
   "source": []
  },
  {
   "cell_type": "code",
   "execution_count": null,
   "metadata": {},
   "outputs": [],
   "source": []
  },
  {
   "cell_type": "code",
   "execution_count": null,
   "metadata": {},
   "outputs": [],
   "source": [
    "# @text.prompt\n",
    "# def faq_system_prompt():\n",
    "#     \"\"\"You are an expert FAQ writer.\"\"\"\n",
    "\n",
    "\n",
    "# @text.prompt\n",
    "# def codeqa(code, question):\n",
    "#     \"\"\"For the following source code file:\n",
    "\n",
    "#     {{ code }}\n",
    "\n",
    "#     Please write me a FAQ for the following question:\n",
    "\n",
    "#     {{ question }}\n",
    "#     \"\"\"\n",
    "\n",
    "\n",
    "# faqbot = SimpleBot(faq_system_prompt())\n",
    "\n",
    "\n",
    "# with open(here() / \"llamabot/recorder.py\", \"r+\") as f:\n",
    "#     code = f.read()\n",
    "\n",
    "# faqbot(codeqa(code, \"How does the prompt recorder work?\"))"
   ]
  }
 ],
 "metadata": {
  "kernelspec": {
   "display_name": "llamabot",
   "language": "python",
   "name": "python3"
  },
  "language_info": {
   "codemirror_mode": {
    "name": "ipython",
    "version": 3
   },
   "file_extension": ".py",
   "mimetype": "text/x-python",
   "name": "python",
   "nbconvert_exporter": "python",
   "pygments_lexer": "ipython3",
   "version": "3.9.16"
  }
 },
 "nbformat": 4,
 "nbformat_minor": 2
}
