{
 "cells": [
  {
   "cell_type": "code",
   "execution_count": null,
   "metadata": {},
   "outputs": [],
   "source": [
    "%load_ext autoreload\n",
    "%autoreload 2"
   ]
  },
  {
   "cell_type": "code",
   "execution_count": null,
   "metadata": {},
   "outputs": [],
   "source": [
    "import os\n",
    "from pygments.lexers import get_lexer_for_filename, ClassNotFound\n",
    "from collections import Counter\n",
    "\n",
    "\n",
    "def infer_languages(directory):\n",
    "    language_counts = Counter()\n",
    "    for root, dirs, files in os.walk(directory):\n",
    "        for file in files:\n",
    "            try:\n",
    "                path = os.path.join(root, file)\n",
    "                lexer = get_lexer_for_filename(path)\n",
    "                # print(f\"File: {path}, Language: {lexer.name}\")\n",
    "                language_counts[lexer.name] += 1\n",
    "            except ClassNotFound:\n",
    "                # print(f\"File: {path}, Language: Unknown\")\n",
    "                pass\n",
    "    return language_counts\n",
    "\n",
    "\n",
    "# infer_languages(\"/path/to/your/directory\")"
   ]
  },
  {
   "cell_type": "code",
   "execution_count": null,
   "metadata": {},
   "outputs": [],
   "source": [
    "import os\n",
    "import git\n",
    "import glob\n",
    "import tempfile\n",
    "\n",
    "\n",
    "# Clone the repository to the temporary directory\n",
    "repo_url = \"https://github.com/ericmjl/llamabot.git\"\n",
    "local_dir = tempfile.mkdtemp()\n",
    "git.Repo.clone_from(repo_url, local_dir)\n",
    "\n",
    "# Get the Git repository object\n",
    "repo = git.Repo(local_dir)\n",
    "\n",
    "# Get the list of files to ignore from .gitignore\n",
    "ignore_list = []\n",
    "with open(os.path.join(local_dir, \".gitignore\"), \"r\") as f:\n",
    "    ignore_list = f.read().splitlines()\n",
    "\n",
    "# Define the file extensions to include\n",
    "include_extensions = [\".py\", \".md\"]\n",
    "\n",
    "# Get the list of files in the repository, ignoring the files listed in .gitignore\n",
    "relevant_files = []\n",
    "from tqdm.auto import tqdm\n",
    "\n",
    "for include_extension in tqdm(include_extensions):\n",
    "    for file_path in glob.glob(\n",
    "        os.path.join(local_dir, \"**\", f\"*{include_extension}\"), recursive=True\n",
    "    ):\n",
    "        if os.path.isfile(file_path) and not any(\n",
    "            [glob.fnmatch.fnmatch(file_path, ignore) for ignore in ignore_list]\n",
    "        ):\n",
    "            relevant_files.append(file_path)\n",
    "\n",
    "# Print the list of all files in the repository with the specified extensions\n",
    "print(relevant_files)"
   ]
  },
  {
   "cell_type": "code",
   "execution_count": null,
   "metadata": {},
   "outputs": [],
   "source": []
  },
  {
   "cell_type": "code",
   "execution_count": null,
   "metadata": {},
   "outputs": [],
   "source": [
    "from llamabot.code_manipulation import show_directory_tree\n",
    "\n",
    "file_tree = show_directory_tree(local_dir, ignore_dirs=[\".git\", \".ipynb_checkpoints\"])\n",
    "print(file_tree)"
   ]
  },
  {
   "cell_type": "code",
   "execution_count": null,
   "metadata": {},
   "outputs": [],
   "source": [
    "from pathlib import Path\n",
    "from llamabot import QueryBot\n",
    "from outlines import text\n",
    "\n",
    "\n",
    "@text.prompt\n",
    "def repobot_sysprompt():\n",
    "    \"\"\"You are a bot that answers questions about a git repository.\"\"\""
   ]
  },
  {
   "cell_type": "code",
   "execution_count": null,
   "metadata": {},
   "outputs": [],
   "source": [
    "from llamabot import SimpleBot\n",
    "\n",
    "\n",
    "@text.prompt\n",
    "def triagebot_sysprompt(file_tree: str):\n",
    "    \"\"\"You are a bot that triages messages given to you.\n",
    "\n",
    "    You are working as part of a system that answers questions about a code repository.\n",
    "    Some questions are high level questions about the repository in general;\n",
    "    other questions might be mid-level questions about a collection of files;\n",
    "    while other questions are low-level detailed questions about individual files.\n",
    "\n",
    "    As context, you have a file tree of files within the repository:\n",
    "\n",
    "    {{ file_tree }}\n",
    "\n",
    "    You will be given a question, and must respond with a JSON.\n",
    "    The JSON is formatted as follows:\n",
    "\n",
    "    ```json\n",
    "    {\n",
    "        \"files\": [<file_path_1>, <file_path_2>, ...], <-- up to 20 files.\n",
    "        \"file_tree\": <file_tree as a raw string> <-- this is optional\n",
    "    }\n",
    "    ```\n",
    "\n",
    "    Based on the level of the question, identify files that are relevant to the question.\n",
    "    The file paths should be relative to the root of the repository.\n",
    "    Ensure that you return only the JSON.\n",
    "    Do not include any Markdown fences.\n",
    "    \"\"\"\n",
    "\n",
    "\n",
    "@text.prompt\n",
    "def ask_question(query, **kwargs):\n",
    "    \"\"\"Here is a question for you to answer about the code repository:\n",
    "\n",
    "    {{ query }}\n",
    "\n",
    "    You also have the following context given:\n",
    "\n",
    "    {% for k, v in kwargs.items() %}\n",
    "    {{ k }} : {{ v }}\n",
    "    {% endfor %}\n",
    "\n",
    "    You should answer with as much detail as you can get from the context.\n",
    "    \"\"\"\n",
    "\n",
    "\n",
    "query = \"What's in tutorial001_an.py?\"\n",
    "\n",
    "triagebot = SimpleBot(triagebot_sysprompt(file_tree))\n",
    "\n",
    "triaged_files = triagebot(query)\n",
    "import json\n",
    "\n",
    "# Post-process triaged_files\n",
    "triaged_files_string = triaged_files.content.strip(\"```json\").strip(\"```\")\n",
    "\n",
    "triaged_files = json.loads(triaged_files_string)\n",
    "\n",
    "files = [(Path(local_dir) / fpath).resolve() for fpath in triaged_files[\"files\"]]\n",
    "files = [f for f in files if f.exists()]\n",
    "\n",
    "\n",
    "chatbot = QueryBot(\n",
    "    \"You are a bot that answers questions about a git repository.\", doc_paths=files\n",
    ")\n",
    "repobot = QueryBot(repobot_sysprompt(), doc_paths=files)\n",
    "\n",
    "# repobot(query)\n",
    "repobot(ask_question(query, **triaged_files))"
   ]
  },
  {
   "cell_type": "code",
   "execution_count": null,
   "metadata": {},
   "outputs": [],
   "source": []
  },
  {
   "cell_type": "code",
   "execution_count": null,
   "metadata": {},
   "outputs": [],
   "source": [
    "@text.prompt\n",
    "def summarize_file(file_source):\n",
    "    \"\"\"Give me a 1 sentence summary of the source file below.\n",
    "\n",
    "    {{ file_source }}\n",
    "\n",
    "    Begin with 'A file that...'\n",
    "\n",
    "    Your response:\n",
    "    \"\"\""
   ]
  },
  {
   "cell_type": "code",
   "execution_count": null,
   "metadata": {},
   "outputs": [],
   "source": [
    "from pyprojroot import here\n",
    "\n",
    "\n",
    "summary_bot = SimpleBot(\n",
    "    \"You are an expert at summarizing the contents of a Python file.\"\n",
    ")\n",
    "summary_bot(summarize_file(here() / \"llamabot/cli/__init__.py\"))"
   ]
  },
  {
   "cell_type": "code",
   "execution_count": null,
   "metadata": {},
   "outputs": [],
   "source": []
  },
  {
   "cell_type": "code",
   "execution_count": null,
   "metadata": {},
   "outputs": [],
   "source": [
    "bot = SimpleBot(\"You are an expert coder.\")\n",
    "\n",
    "file_tree = show_directory_tree(\n",
    "    here() / \"llamabot\",\n",
    "    ignore_dirs=[\".git\", \".ipynb_checkpoints\", \"__pycache__\", \"*.egg-info\"],\n",
    ")\n",
    "\n",
    "\n",
    "print(file_tree)"
   ]
  },
  {
   "cell_type": "code",
   "execution_count": null,
   "metadata": {},
   "outputs": [],
   "source": [
    "@text.prompt\n",
    "def file_tree_summary(file_tree):\n",
    "    \"\"\"Here is the file tree of a Git repository:\n",
    "\n",
    "    {{ file_tree }}\n",
    "\n",
    "    Give me an overview of the project based on the file tree.\n",
    "    Try to infer the purpose of the project as well.\n",
    "    \"\"\"\n",
    "\n",
    "\n",
    "bot(file_tree_summary(file_tree))"
   ]
  },
  {
   "cell_type": "code",
   "execution_count": null,
   "metadata": {},
   "outputs": [],
   "source": []
  },
  {
   "cell_type": "code",
   "execution_count": null,
   "metadata": {},
   "outputs": [],
   "source": []
  },
  {
   "cell_type": "code",
   "execution_count": null,
   "metadata": {},
   "outputs": [],
   "source": [
    "# OK, I think I have a pattern to run with:\n",
    "#\n",
    "# 1. Create a triagebot that triages questions to files\n",
    "# 2. Use the triaged information to create a repobot that loads contextual information.\n",
    "# 3. Use the repobot to answer the original question.\n",
    "\n",
    "# After further thinking, I've settled on this pattern:\n",
    "\n",
    "# 1. Open repo chat.\n",
    "# 2. Create a"
   ]
  },
  {
   "cell_type": "code",
   "execution_count": null,
   "metadata": {},
   "outputs": [],
   "source": []
  },
  {
   "cell_type": "code",
   "execution_count": null,
   "metadata": {},
   "outputs": [],
   "source": [
    "asdfasdfasdf"
   ]
  }
 ],
 "metadata": {
  "kernelspec": {
   "display_name": "llamabot",
   "language": "python",
   "name": "python3"
  },
  "language_info": {
   "codemirror_mode": {
    "name": "ipython",
    "version": 3
   },
   "file_extension": ".py",
   "mimetype": "text/x-python",
   "name": "python",
   "nbconvert_exporter": "python",
   "pygments_lexer": "ipython3",
   "version": "3.11.4"
  }
 },
 "nbformat": 4,
 "nbformat_minor": 2
}
