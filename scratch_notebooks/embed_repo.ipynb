{
 "cells": [
  {
   "cell_type": "code",
   "execution_count": null,
   "metadata": {},
   "outputs": [],
   "source": [
    "%load_ext autoreload\n",
    "%autoreload 2"
   ]
  },
  {
   "cell_type": "code",
   "execution_count": null,
   "metadata": {},
   "outputs": [],
   "source": [
    "import os\n",
    "import git\n",
    "import glob\n",
    "import tempfile\n",
    "\n",
    "# Create a temporary directory for the Git repository\n",
    "local_dir = tempfile.mkdtemp()\n",
    "\n",
    "# Clone the repository to the temporary directory\n",
    "repo_url = \"https://github.com/urschrei/pyzotero.git\"\n",
    "git.Repo.clone_from(repo_url, local_dir)\n",
    "\n",
    "# Get the Git repository object\n",
    "repo = git.Repo(local_dir)\n",
    "\n",
    "# Get the list of files to ignore from .gitignore\n",
    "ignore_list = []\n",
    "with open(os.path.join(local_dir, \".gitignore\"), \"r\") as f:\n",
    "    ignore_list = f.read().splitlines()\n",
    "\n",
    "# Define the file extensions to include\n",
    "include_extensions = [\".py\"]\n",
    "\n",
    "# Get the list of files in the repository, ignoring the files listed in .gitignore\n",
    "all_files = []\n",
    "for include_extension in include_extensions:\n",
    "    for file_path in glob.glob(\n",
    "        os.path.join(local_dir, \"**\", f\"*{include_extension}\"), recursive=True\n",
    "    ):\n",
    "        if os.path.isfile(file_path) and not any(\n",
    "            [glob.fnmatch.fnmatch(file_path, ignore) for ignore in ignore_list]\n",
    "        ):\n",
    "            all_files.append(file_path)\n",
    "\n",
    "# Print the list of all files in the repository with the specified extensions\n",
    "print(all_files)"
   ]
  },
  {
   "cell_type": "code",
   "execution_count": null,
   "metadata": {},
   "outputs": [],
   "source": [
    "import tiktoken\n",
    "\n",
    "enc = tiktoken.encoding_for_model(\"gpt-4\")\n",
    "\n",
    "encodings = {}\n",
    "for file in all_files:\n",
    "    with open(file, \"r+\") as f:\n",
    "        try:\n",
    "            text = f.read()\n",
    "            encodings[file] = enc.encode(text)\n",
    "        except UnicodeDecodeError:\n",
    "            pass"
   ]
  },
  {
   "cell_type": "code",
   "execution_count": null,
   "metadata": {},
   "outputs": [],
   "source": [
    "from collections import Counter\n",
    "\n",
    "Counter(sorted([len(l) for l in list(encodings.values())]))"
   ]
  },
  {
   "cell_type": "code",
   "execution_count": null,
   "metadata": {},
   "outputs": [],
   "source": []
  },
  {
   "cell_type": "code",
   "execution_count": null,
   "metadata": {},
   "outputs": [],
   "source": [
    "from llamabot import QueryBot\n",
    "\n",
    "bot = QueryBot(\n",
    "    \"You are a bot that answers questions about a git repository.\", doc_paths=all_files\n",
    ")"
   ]
  },
  {
   "cell_type": "code",
   "execution_count": null,
   "metadata": {},
   "outputs": [],
   "source": [
    "bot(\n",
    "    \"How do I configure zotero.Zotero().items() to return a list of items based on a query string that I provide it?\"\n",
    ")"
   ]
  },
  {
   "cell_type": "code",
   "execution_count": null,
   "metadata": {},
   "outputs": [],
   "source": [
    "bot(\n",
    "    \"I want to make a new function that loads FASTQ files into a pandas DataFrame and cleans it up. What should I write? And which module should it go into?\"\n",
    ")"
   ]
  },
  {
   "cell_type": "code",
   "execution_count": null,
   "metadata": {},
   "outputs": [],
   "source": []
  },
  {
   "cell_type": "code",
   "execution_count": null,
   "metadata": {},
   "outputs": [],
   "source": []
  },
  {
   "cell_type": "code",
   "execution_count": null,
   "metadata": {},
   "outputs": [],
   "source": []
  },
  {
   "cell_type": "code",
   "execution_count": null,
   "metadata": {},
   "outputs": [],
   "source": [
    "# SCRATCH\n",
    "from llamabot import SimpleBot\n",
    "\n",
    "\n",
    "pr_bot = SimpleBot(\"You are a bot that answers questions about pull requests.\")"
   ]
  },
  {
   "cell_type": "code",
   "execution_count": null,
   "metadata": {},
   "outputs": [],
   "source": [
    "diff = '''\n",
    "diff --git a/janitor/functions/conditional_join.py b/janitor/functions/conditional_join.py\n",
    "index ef1100a2c..957ea0846 100644\n",
    "--- a/janitor/functions/conditional_join.py\n",
    "+++ b/janitor/functions/conditional_join.py\n",
    "@@ -5,7 +5,6 @@\n",
    " import pandas as pd\n",
    " import pandas_flavor as pf\n",
    " from pandas.core.dtypes.common import (\n",
    "-    is_categorical_dtype,\n",
    "     is_datetime64_dtype,\n",
    "     is_dtype_equal,\n",
    "     is_extension_array_dtype,\n",
    "@@ -305,29 +304,27 @@ def _conditional_join_type_check(\n",
    "     Raise error if column type is not any of numeric or datetime or string.\n",
    "     \"\"\"\n",
    " \n",
    "-    permitted_types = {\n",
    "-        is_datetime64_dtype,\n",
    "-        is_numeric_dtype,\n",
    "-        is_string_dtype,\n",
    "-    }\n",
    "-    for func in permitted_types:\n",
    "-        # change is based on this PR\n",
    "-        # https://github.com/pandas-dev/pandas/pull/52527/files\n",
    "-        if isinstance(left_column.dtype, pd.CategoricalDtype) or func(\n",
    "-            left_column\n",
    "-        ):\n",
    "-            break\n",
    "-    else:\n",
    "-        raise ValueError(\n",
    "-            \"conditional_join only supports \"\n",
    "-            \"string, category, numeric, or date dtypes (without timezone) - \"\n",
    "-            f\"'{left_column.name} is of type {left_column.dtype}.\"\n",
    "-        )\n",
    "+    is_categorical_dtype = isinstance(left_column.dtype, pd.CategoricalDtype)\n",
    " \n",
    "-    lk_is_cat = is_categorical_dtype(left_column)\n",
    "-    rk_is_cat = is_categorical_dtype(right_column)\n",
    "+    if not is_categorical_dtype:\n",
    "+        permitted_types = {\n",
    "+            is_datetime64_dtype,\n",
    "+            is_numeric_dtype,\n",
    "+            is_string_dtype,\n",
    "+        }\n",
    "+        for func in permitted_types:\n",
    "+            if func(left_column.dtype):\n",
    "+                break\n",
    "+        else:\n",
    "+            raise ValueError(\n",
    "+                \"conditional_join only supports \"\n",
    "+                \"string, category, numeric, or \"\n",
    "+                \"date dtypes (without timezone) - \"\n",
    "+                f\"'{left_column.name} is of type \"\n",
    "+                f\"{left_column.dtype}.\"\n",
    "+            )\n",
    " \n",
    "-    if lk_is_cat & rk_is_cat:\n",
    "+    if is_categorical_dtype:\n",
    "         if not left_column.array._categories_match_up_to_permutation(\n",
    "             right_column.array\n",
    "         ):\n",
    "'''"
   ]
  },
  {
   "cell_type": "code",
   "execution_count": null,
   "metadata": {},
   "outputs": [],
   "source": [
    "prompt = f\"Given the following pull request diff: {diff}, summarize the pull request changes for me in plain English. Also postulate what the benefits of these changes are. If the changes are not likely to be beneficial, state your reasons for why.\""
   ]
  },
  {
   "cell_type": "code",
   "execution_count": null,
   "metadata": {},
   "outputs": [],
   "source": [
    "pr_bot(prompt)"
   ]
  },
  {
   "cell_type": "code",
   "execution_count": null,
   "metadata": {},
   "outputs": [],
   "source": []
  },
  {
   "cell_type": "code",
   "execution_count": null,
   "metadata": {},
   "outputs": [],
   "source": []
  },
  {
   "cell_type": "code",
   "execution_count": null,
   "metadata": {},
   "outputs": [],
   "source": []
  },
  {
   "cell_type": "code",
   "execution_count": null,
   "metadata": {},
   "outputs": [],
   "source": []
  },
  {
   "cell_type": "code",
   "execution_count": null,
   "metadata": {},
   "outputs": [],
   "source": []
  },
  {
   "cell_type": "code",
   "execution_count": null,
   "metadata": {},
   "outputs": [],
   "source": []
  },
  {
   "cell_type": "code",
   "execution_count": null,
   "metadata": {},
   "outputs": [],
   "source": [
    "writing_bot = SimpleBot(\"You are an expert writer of technical blog posts.\")"
   ]
  },
  {
   "cell_type": "code",
   "execution_count": null,
   "metadata": {},
   "outputs": [],
   "source": [
    "blog_post = \"\"\"\n",
    "How to write better pull request summaries using GPT4.\n",
    "\n",
    "Today, I stumbled upon a really cool use case of GPT4:\n",
    "writing better pull request messages!\n",
    "\n",
    "Here's how I did it.\n",
    "\n",
    "Firstly, I used `llamabot`, a Python package that I created.\n",
    "\n",
    "Secondly, I obtained the diff of a pull request.\n",
    "The easiest way to do this is by appending `.diff` to the end of a PR url, for example:\n",
    "\n",
    "https://github.com/pyjanitor-devs/pyjanitor/pull/1256 -> https://github.com/pyjanitor-devs/pyjanitor/pull/1256.diff\n",
    "\n",
    "Then, here's the code for generating the summary message:\n",
    "\n",
    "```python\n",
    "diff = '''\n",
    "<diff gets pasted here...>\n",
    "'''\n",
    "\n",
    "prompt = f\"Given the following pull request diff: {diff}, summarize the pull request changes for me in plain English. Also postulate what the benefits of these changes are. If the changes are not likely to be beneficial, state your reasons for why.\"\n",
    "\n",
    "from llamabot import SimpleBot\n",
    "prbot = SimpleBot(\"You are a bot that answers questions about pull requests diffs.\")\n",
    "\n",
    "prbot(prompt)\n",
    "```\n",
    "\n",
    "For [PR#1262](https://github.com/pyjanitor-devs/pyjanitor/pull/1262):\n",
    "\n",
    "```text\n",
    "This pull request introduces several changes to the `conditional_join` function in the `janitor/functions/conditional_join.py` file and updates the corresponding tests in the `tests/functions/test_conditional_join.py` file. The main changes are as follows:\n",
    "\n",
    "1. Adds support for \"outer\" join type in the `how` parameter, allowing users to perform outer joins in addition to inner, left, and right joins.\n",
    "2. Deprecates the `sort_by_appearance` parameter, issuing a warning when it is used.\n",
    "3. Updates the documentation and comments to reflect the changes made.\n",
    "\n",
    "The benefits of these changes include:\n",
    "\n",
    "1. Increased functionality: Users can now perform outer joins using the `conditional_join` function, providing more flexibility in their data manipulation tasks.\n",
    "2. Improved performance: By deprecating the `sort_by_appearance` parameter, the function may offer better performance in certain cases, as it no longer needs to maintain the original order of the data.\n",
    "3. Clearer documentation: The updated documentation and comments make it easier for users to understand the function's behavior and the available options.\n",
    "\n",
    "Overall, these changes are likely to be beneficial, as they enhance the functionality of the `conditional_join` function and improve its performance in certain scenarios.\n",
    "```\n",
    "\n",
    "And for [PR#1261](https://github.com/pyjanitor-devs/pyjanitor/pull/1261):\n",
    "\n",
    "```text\n",
    "The pull request modifies the `_conditional_join_type_check` function in the `conditional_join.py` file. The main change is the removal of the `is_categorical_dtype` function from the `permitted_types` set and the addition of a separate check for categorical data types using `isinstance(left_column.dtype, pd.CategoricalDtype)`.\n",
    "\n",
    "In plain English, the changes can be summarized as follows:\n",
    "1. The code now checks if the `left_column.dtype` is a categorical data type separately, instead of including it in the `permitted_types` set.\n",
    "2. If the `left_column.dtype` is not a categorical data type, the code proceeds to check if it is one of the other permitted types (datetime64, numeric, or string).\n",
    "3. If the `left_column.dtype` is a categorical data type, the code checks if the categories match up to a permutation between the left and right columns.\n",
    "\n",
    "The benefits of these changes are:\n",
    "1. Improved readability and clarity of the code by separating the check for categorical data types from the other permitted types.\n",
    "2. Ensuring that the correct checks are performed for categorical data types, which may help prevent potential issues or bugs in the future.\n",
    "\n",
    "Overall, these changes are likely to be beneficial as they improve the code's readability and maintainability.\n",
    "```\n",
    "\n",
    "This was pretty cool to see!\n",
    "Previously, I would dread having to (1) write a summary of my PRs, and (2) review PRs with very long diffs.\n",
    "This prompt is a great way to solve both problems!\n",
    "\"\"\"\n",
    "\n",
    "prompt = f\"Given the following blog post: {blog_post}, help me rewrite it such that it is clearer to read. Correct any grammatical errors\""
   ]
  },
  {
   "cell_type": "code",
   "execution_count": null,
   "metadata": {},
   "outputs": [],
   "source": [
    "improved_blog = writing_bot(prompt)"
   ]
  },
  {
   "cell_type": "code",
   "execution_count": null,
   "metadata": {},
   "outputs": [],
   "source": []
  },
  {
   "cell_type": "code",
   "execution_count": null,
   "metadata": {},
   "outputs": [],
   "source": [
    "summary_bot = SimpleBot(\n",
    "    \"You write summaries of blog posts. The blog post contents will be provided to you. Provide a summary of under 100 words, and 10 blog tags that can be associated with the blog post, all in lowercase, one line per tag, no numbered or bullet lists. Start the summary with 'In this blog post, I...'. Write in first person tone.\"\n",
    ")"
   ]
  },
  {
   "cell_type": "code",
   "execution_count": null,
   "metadata": {},
   "outputs": [],
   "source": [
    "summary_bot(improved_blog.content)"
   ]
  },
  {
   "cell_type": "code",
   "execution_count": null,
   "metadata": {},
   "outputs": [],
   "source": []
  },
  {
   "cell_type": "code",
   "execution_count": null,
   "metadata": {},
   "outputs": [],
   "source": [
    "patreon_bot = SimpleBot(\n",
    "    \"You are a bot that helps craft expertly messaged Patreon posts. You will be provided with a blog post, and you will write a Patreon post that summarizes the blog post, keeps Patrons engaged, and encourages them to share the post with others. Here is the blog post.\"\n",
    ")"
   ]
  },
  {
   "cell_type": "code",
   "execution_count": null,
   "metadata": {},
   "outputs": [],
   "source": [
    "patreon_post = patreon_bot(improved_blog.content)"
   ]
  },
  {
   "cell_type": "code",
   "execution_count": null,
   "metadata": {},
   "outputs": [],
   "source": [
    "patreon_summary_bot = SimpleBot(\n",
    "    \"You are a bot that provides a 140 character (or less) summary of a Patreon post. The summary should be engaging and encourage people to read the full post. Write the summary in first person tone. Here is the patreon post.\"\n",
    ")"
   ]
  },
  {
   "cell_type": "code",
   "execution_count": null,
   "metadata": {},
   "outputs": [],
   "source": [
    "patreon_summary = patreon_summary_bot(patreon_post.content)"
   ]
  },
  {
   "cell_type": "code",
   "execution_count": null,
   "metadata": {},
   "outputs": [],
   "source": [
    "linkedin_bot = SimpleBot(\n",
    "    \"You are a bot that crafts LinkedIn posts. You will be provided with a blog post, and you will write a LinkedIn post that summarizes the blog post, keeps people engaged, and encourages them to share the post with others. Use emojis where appropriate! Include hashtags (all lowercase). Include a placeholder link to the original blog post. Here is the blog post.\"\n",
    ")"
   ]
  },
  {
   "cell_type": "code",
   "execution_count": null,
   "metadata": {},
   "outputs": [],
   "source": [
    "linkedin_post = linkedin_bot(improved_blog.content)"
   ]
  },
  {
   "cell_type": "code",
   "execution_count": null,
   "metadata": {},
   "outputs": [],
   "source": [
    "mastodon_bot = SimpleBot(\n",
    "    \"You are a bot that crafts Mastodon posts. You will be provided with a blog post, and you will write a LinkedIn post that summarizes the blog post, keeps people engaged, and encourages them to share the post with others. Use emojis where appropriate! Include hashtags (all lowercase). Include a placeholder link to the original blog post. Write in first-person tone. Here is the blog post.\"\n",
    ")"
   ]
  },
  {
   "cell_type": "code",
   "execution_count": null,
   "metadata": {},
   "outputs": [],
   "source": [
    "mastodon_bot(improved_blog.content)"
   ]
  },
  {
   "cell_type": "code",
   "execution_count": null,
   "metadata": {},
   "outputs": [],
   "source": [
    "twitter_bot = SimpleBot(\n",
    "    \"You are a bot that crafts Twitter posts. You will be provided with a blog post, and you will write a Twitter post that summarizes the blog post, keeps people engaged, and encourages them to share the post with others. Use emojis where appropriate! Include hashtags (all lowercase). Include a placeholder link to the original blog post. The Twitter post should be 280 characters or less. Write in first person tone. Here is the blog post.\"\n",
    ")"
   ]
  },
  {
   "cell_type": "code",
   "execution_count": null,
   "metadata": {},
   "outputs": [],
   "source": [
    "twitter_post = twitter_bot(improved_blog.content)"
   ]
  },
  {
   "cell_type": "code",
   "execution_count": null,
   "metadata": {},
   "outputs": [],
   "source": []
  }
 ],
 "metadata": {
  "kernelspec": {
   "display_name": "llamabot",
   "language": "python",
   "name": "python3"
  },
  "language_info": {
   "codemirror_mode": {
    "name": "ipython",
    "version": 3
   },
   "file_extension": ".py",
   "mimetype": "text/x-python",
   "name": "python",
   "nbconvert_exporter": "python",
   "pygments_lexer": "ipython3",
   "version": "3.9.16"
  }
 },
 "nbformat": 4,
 "nbformat_minor": 2
}
