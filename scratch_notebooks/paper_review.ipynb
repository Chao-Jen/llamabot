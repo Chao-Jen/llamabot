{
 "cells": [
  {
   "cell_type": "code",
   "execution_count": null,
   "metadata": {},
   "outputs": [],
   "source": [
    "%load_ext autoreload\n",
    "%autoreload 2"
   ]
  },
  {
   "cell_type": "code",
   "execution_count": null,
   "metadata": {},
   "outputs": [],
   "source": [
    "from llamabot import QueryBot, PromptRecorder\n",
    "from pyprojroot import here\n",
    "\n",
    "pr = PromptRecorder()"
   ]
  },
  {
   "cell_type": "code",
   "execution_count": null,
   "metadata": {},
   "outputs": [],
   "source": [
    "bot = QueryBot(\n",
    "    \"You are a bot that summarizes the contents of a paper.\",\n",
    "    doc_paths=[here() / \"data/JMLR-23-0380-1.pdf\"],\n",
    ")"
   ]
  },
  {
   "cell_type": "code",
   "execution_count": null,
   "metadata": {},
   "outputs": [],
   "source": [
    "with pr:\n",
    "    bot(\n",
    "        \"Summarize this paper the way Richard Feynman would summarize it to a college student.\"\n",
    "    )"
   ]
  },
  {
   "cell_type": "code",
   "execution_count": null,
   "metadata": {},
   "outputs": [],
   "source": [
    "with pr:\n",
    "    bot(\n",
    "        \"From the authors' perspective, why would breaking the co-adaptation between feature extractor and classifier can lead to better generalization?\"\n",
    "    )"
   ]
  },
  {
   "cell_type": "code",
   "execution_count": null,
   "metadata": {},
   "outputs": [],
   "source": [
    "with pr:\n",
    "    bot(\n",
    "        \"There is a term I don't get: 'point-like distributions of features for each class'. What does this mean?\"\n",
    "    )"
   ]
  },
  {
   "cell_type": "code",
   "execution_count": null,
   "metadata": {},
   "outputs": [],
   "source": [
    "with pr:\n",
    "    bot(\n",
    "        \"What computational experiments did the authors do to show that breaking the co-adaptation leads to better generalization?\"\n",
    "    )"
   ]
  },
  {
   "cell_type": "code",
   "execution_count": null,
   "metadata": {},
   "outputs": [],
   "source": [
    "with pr:\n",
    "    bot(\n",
    "        \"I don't get this term: 'approximate geodesic distance metric'. What does this mean?\"\n",
    "    )"
   ]
  },
  {
   "cell_type": "code",
   "execution_count": null,
   "metadata": {},
   "outputs": [],
   "source": [
    "with pr:\n",
    "    bot(\n",
    "        \"I don't get these terms: 'large-dataset solution' and 'small-dataset solutions'. What do these mean?\"\n",
    "    )"
   ]
  },
  {
   "cell_type": "code",
   "execution_count": null,
   "metadata": {},
   "outputs": [],
   "source": [
    "with pr:\n",
    "    bot(\"Can you describe in detail what FOCA is? and what is PoF in detail?\")"
   ]
  },
  {
   "cell_type": "code",
   "execution_count": null,
   "metadata": {},
   "outputs": [],
   "source": [
    "with pr:\n",
    "    bot(\n",
    "        \"With FOCA, what is the loss function for optimizing the feature-extractor part of a deep network while keeping the classifier part undetermined?\"\n",
    "    )"
   ]
  },
  {
   "cell_type": "code",
   "execution_count": null,
   "metadata": {},
   "outputs": [],
   "source": [
    "with pr:\n",
    "    bot(\n",
    "        \"Can you explain this question (ϕ⋆ = arg min ϕ (1/nD) ∑(x,t)∈D Eθ∼Θϕ L(Cθ(Fϕ(x)), t)) in plain English? What is the intuition here?\"\n",
    "    )"
   ]
  },
  {
   "cell_type": "code",
   "execution_count": null,
   "metadata": {},
   "outputs": [],
   "source": [
    "with pr:\n",
    "    bot(\n",
    "        \"In this equation (ϕ⋆ = arg min ϕ (1/nD) ∑(x,t)∈D Eθ∼Θϕ L(Cθ(Fϕ(x)), t)), where do we get a distribution of classifier parameters from? Are they pre-trained top layers? Or are they randomly initialized neural networks?\"\n",
    "    )"
   ]
  },
  {
   "cell_type": "code",
   "execution_count": null,
   "metadata": {},
   "outputs": [],
   "source": [
    "with pr:\n",
    "    bot(\n",
    "        \"Can you describe FOCA from a procedural perspective? How does it work? What is the algorithm, written in algorithm form, with an emphasis on translating symbols into plain English?\"\n",
    "    )"
   ]
  },
  {
   "cell_type": "code",
   "execution_count": null,
   "metadata": {},
   "outputs": [],
   "source": [
    "with pr:\n",
    "    bot(\n",
    "        \"In comparing FOCA to other methods, what details in other methods did they change to make the comparison fair? For example, did they use other techniques to maximize the generalization performance of other methods, and if so, what were they?\"\n",
    "    )"
   ]
  },
  {
   "cell_type": "code",
   "execution_count": null,
   "metadata": {},
   "outputs": [],
   "source": [
    "with pr:\n",
    "    bot(\n",
    "        \"Are there logical flaws in the paper that you can identify? If so, what are they?\"\n",
    "    )"
   ]
  },
  {
   "cell_type": "code",
   "execution_count": null,
   "metadata": {},
   "outputs": [],
   "source": [
    "with pr:\n",
    "    bot(\n",
    "        \"What are the limitations of the theoretical proofs in the paper? What are the assumptions that the proofs make, explained in plain English? Are these assumptions realistic?\"\n",
    "    )"
   ]
  },
  {
   "cell_type": "code",
   "execution_count": null,
   "metadata": {},
   "outputs": [],
   "source": [
    "with pr:\n",
    "    bot(\n",
    "        \"A specific distribution of classifier parameters is assumed. What is this distribution in both mathematical form and its intuition in English?\"\n",
    "    )"
   ]
  },
  {
   "cell_type": "code",
   "execution_count": null,
   "metadata": {},
   "outputs": [],
   "source": [
    "with pr:\n",
    "    bot(\n",
    "        \"With this particular assumption, that 'the activation function satisfies a specific condition', what is that condition in mathematical form, and what is the intuition behind that condition, in plain English?\"\n",
    "    )"
   ]
  },
  {
   "cell_type": "code",
   "execution_count": null,
   "metadata": {},
   "outputs": [],
   "source": [
    "with pr:\n",
    "    bot(\n",
    "        \"What are potential caveats of this work that are not mentioned by the authors?\"\n",
    "    )"
   ]
  },
  {
   "cell_type": "code",
   "execution_count": null,
   "metadata": {},
   "outputs": [],
   "source": [
    "with pr:\n",
    "    bot(\n",
    "        \"What neural network architectures did the authors use in their experiments? Did they claim that their results generalize to other architectures? If so, what is the justification for that claim?\"\n",
    "    )"
   ]
  },
  {
   "cell_type": "code",
   "execution_count": null,
   "metadata": {},
   "outputs": [],
   "source": [
    "with pr:\n",
    "    bot(\n",
    "        \"An architecture introduced by Lee et al. (2016) for CIFAR-10 experiments, with some modifications - what modifications were introduced?\"\n",
    "    )"
   ]
  },
  {
   "cell_type": "code",
   "execution_count": null,
   "metadata": {},
   "outputs": [],
   "source": [
    "with pr:\n",
    "    bot(\n",
    "        \"The proposed methods, especially FOCA, involve the use of multiple weak classifiers during the feature-extractor training - do the authors suggest how many weak classifiers are needed?\"\n",
    "    )"
   ]
  },
  {
   "cell_type": "code",
   "execution_count": null,
   "metadata": {},
   "outputs": [],
   "source": [
    "with pr:\n",
    "    bot(\n",
    "        \"Do the authors provide a link to a GitHub repository where we can examine the training code?\"\n",
    "    )"
   ]
  },
  {
   "cell_type": "code",
   "execution_count": null,
   "metadata": {},
   "outputs": [],
   "source": [
    "talking_points = \"\"\"\n",
    "\n",
    "1. The FOCA method is logically well-motivated.\n",
    "2. \n",
    "\n",
    "\"\"\"\n",
    "\n",
    "with pr:\n",
    "    bot(\n",
    "        \"Thank you for helping me with the paper Q&A. I am now going to prepare a suite of bullet points as a summary of the paper. Please help me rewrite it into a \"\n",
    "    )"
   ]
  }
 ],
 "metadata": {
  "kernelspec": {
   "display_name": "llamabot",
   "language": "python",
   "name": "python3"
  },
  "language_info": {
   "codemirror_mode": {
    "name": "ipython",
    "version": 3
   },
   "file_extension": ".py",
   "mimetype": "text/x-python",
   "name": "python",
   "nbconvert_exporter": "python",
   "pygments_lexer": "ipython3",
   "version": "3.9.16"
  }
 },
 "nbformat": 4,
 "nbformat_minor": 2
}
