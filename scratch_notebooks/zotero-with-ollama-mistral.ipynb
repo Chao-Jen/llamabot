{
 "cells": [
  {
   "cell_type": "code",
   "execution_count": null,
   "metadata": {},
   "outputs": [],
   "source": [
    "%load_ext autoreload\n",
    "%autoreload 2"
   ]
  },
  {
   "cell_type": "code",
   "execution_count": null,
   "metadata": {},
   "outputs": [],
   "source": [
    "from llamabot.zotero.library import ZoteroLibrary"
   ]
  },
  {
   "cell_type": "code",
   "execution_count": null,
   "metadata": {},
   "outputs": [],
   "source": [
    "library = ZoteroLibrary(articles_only=True)"
   ]
  },
  {
   "cell_type": "code",
   "execution_count": null,
   "metadata": {},
   "outputs": [],
   "source": [
    "from pdfminer.high_level import extract_text\n",
    "from pathlib import Path\n",
    "\n",
    "\n",
    "def convert_to_markdown(text: str):\n",
    "    lines = text.split(\"\\\\\\\\n\")\n",
    "    for i, line in enumerate(lines):\n",
    "        stripped = line.strip()\n",
    "        if stripped.isupper() and len(stripped) < 50:\n",
    "            lines[i] = f\"## {stripped}\"\n",
    "    return \"\\\\\\\\n\".join(lines)\n",
    "\n",
    "\n",
    "fpath = library.library[\"DFFPEADJ\"].download_pdf(Path(\"/tmp\"))\n",
    "text = extract_text(fpath)\n",
    "md_text = convert_to_markdown(text)"
   ]
  },
  {
   "cell_type": "code",
   "execution_count": null,
   "metadata": {},
   "outputs": [],
   "source": [
    "from pathlib import Path\n",
    "from llamabot.doc_processor import magic_load_doc, split_document\n",
    "\n",
    "fpath = library.library[\"DFFPEADJ\"].download_pdf(Path(\"/tmp\"))\n",
    "\n",
    "doc = magic_load_doc(fpath)\n",
    "split_docs = split_document(doc, chunk_size=5_000)"
   ]
  },
  {
   "cell_type": "code",
   "execution_count": null,
   "metadata": {},
   "outputs": [],
   "source": [
    "import os\n",
    "from dotenv import load_dotenv\n",
    "from llamabot import SimpleBot\n",
    "import litellm\n",
    "\n",
    "# litellm.drop_params = True\n",
    "\n",
    "load_dotenv()\n",
    "\n",
    "literature_parser = SimpleBot(\n",
    "    model_name=\"ollama/mistral\",  # Specifying Ollama via the model_name argument is necessary!s\n",
    "    system_prompt=\"You are an expert in parsing scientific literature.\",\n",
    "    stream_target=\"stdout\",  # this is the default!\n",
    "    api_base=f\"http://{os.getenv('OLLAMA_SERVER')}:11434\",\n",
    ")\n",
    "\n",
    "keywords_sysprompt = \"\"\"\"Generate keywords for the document provided to you.\n",
    "Please return JSON of format:\n",
    "\n",
    "    {'keywords': ['keyword', 'keyword', 'keyword',...]}.\n",
    "\n",
    "\n",
    "Keywords should be one or two words, separated by a space.\n",
    "Return only keywords, nothing else.\n",
    "Do not add your own commentary.\n",
    "\"\"\"\n",
    "\n",
    "keyword_generator_ollama = SimpleBot(\n",
    "    model_name=\"ollama/mixtral:8x7b-instruct-v0.1-q4_0\",  # Specifying Ollama via the model_name argument is necessary!s\n",
    "    system_prompt=keywords_sysprompt,\n",
    "    stream_target=\"stdout\",  # this is the default!\n",
    "    api_base=f\"http://{os.getenv('OLLAMA_SERVER')}:11434\",\n",
    "    # json_mode=True,\n",
    "    # format=\"json\",\n",
    ")\n",
    "\n",
    "keyword_generator_gpt = SimpleBot(\n",
    "    model_name=\"gpt-4-0125-preview\",  # Specifying Ollama via the model_name argument is necessary!s\n",
    "    system_prompt=\"Generate keywords for the document provided to you. Please return JSON of format: {'keywords': ['keyword', 'keyword', 'keyword',...]}. Keywords should be one or two words, separated by a space. Return only keywords, nothing else.\",\n",
    "    stream_target=\"stdout\",  # this is the default!\n",
    "    # api_base=f\"http://{os.getenv('OLLAMA_SERVER')}:11434\",\n",
    "    # format=\"json\",\n",
    "    json_mode=True,\n",
    ")"
   ]
  },
  {
   "cell_type": "code",
   "execution_count": null,
   "metadata": {},
   "outputs": [],
   "source": [
    "chunk_classifier_ollama = SimpleBot(\n",
    "    model_name=\"ollama/mistral:instruct\",  # Specifying Ollama via the model_name argument is necessary!s\n",
    "    system_prompt=\"Please help me classify the following text as being part of the 'main body' of a paper or being part of the 'references'.\",\n",
    "    stream_target=\"stdout\",  # this is the default!\n",
    "    api_base=f\"http://{os.getenv('OLLAMA_SERVER')}:11434\",\n",
    ")"
   ]
  },
  {
   "cell_type": "code",
   "execution_count": null,
   "metadata": {},
   "outputs": [],
   "source": [
    "json_fixer_sysprompt = \"\"\"\n",
    "Please help me fix the following string to be valid JSON.\n",
    "Parts of the string are JSON (as a dictionary) with some formatting errors,\n",
    "while others are just free text.\n",
    "Using the content provided below, strip out free text, extract only the valid JSON,\n",
    "and return just the JSON as a string.\n",
    "Do not add any commentary of your own.\n",
    "Ensure that everything that was within the JSON block is still present.\n",
    "\"\"\"\n",
    "\n",
    "json_fixer = SimpleBot(\n",
    "    model_name=\"ollama/mixtral:8x7b-instruct-v0.1-q4_0\",\n",
    "    system_prompt=json_fixer_sysprompt,\n",
    "    stream_target=\"stdout\",\n",
    "    api_base=f\"http://{os.getenv('OLLAMA_SERVER')}:11434\",\n",
    "    temperature=0.0,\n",
    ")"
   ]
  },
  {
   "cell_type": "code",
   "execution_count": null,
   "metadata": {},
   "outputs": [],
   "source": [
    "dummy_text = \"\"\"\n",
    "{\n",
    "    \"stuff\": [stuff1, stuff2],\n",
    "}\n",
    "\n",
    "And some free text.\n",
    "\"\"\"\n",
    "\n",
    "json_fixer(dummy_text)"
   ]
  },
  {
   "cell_type": "code",
   "execution_count": null,
   "metadata": {},
   "outputs": [],
   "source": [
    "dummy_text2 = \"\"\"\n",
    "{\n",
    "    \"keywords\": ['keyword1', 'stuff2', stuffy3, \"stuffy4\"],\n",
    "}\n",
    "\n",
    "Thank you for helping me fix this JSON. I am very grateful for your help.\n",
    "You are helping me to save a ton of money and time.\n",
    "\"\"\"\n",
    "json_fixer(dummy_text2)"
   ]
  },
  {
   "cell_type": "code",
   "execution_count": null,
   "metadata": {},
   "outputs": [],
   "source": [
    "len(split_docs)"
   ]
  },
  {
   "cell_type": "code",
   "execution_count": null,
   "metadata": {},
   "outputs": [],
   "source": [
    "import json\n",
    "from collections import Counter\n",
    "\n",
    "keywords = Counter()\n",
    "responses = []\n",
    "for document in split_docs:\n",
    "    response = keyword_generator_ollama(document)\n",
    "    responses.append(response)\n",
    "    try:\n",
    "        kws = json.loads(response.content.replace(\"'\", '\"'))\n",
    "    except json.decoder.JSONDecodeError as e:\n",
    "        print(\"\\n\\n\")\n",
    "        print(response.content)\n",
    "        print(e)\n",
    "        response = json_fixer(response.content)\n",
    "        kws = json.loads(response.content.replace(\"'\", '\"'))\n",
    "\n",
    "    if isinstance(kws, dict):\n",
    "        keywords.update(kws[\"keywords\"])\n",
    "    elif isinstance(kws, list):\n",
    "        keywords.update(kws)"
   ]
  },
  {
   "cell_type": "code",
   "execution_count": null,
   "metadata": {},
   "outputs": [],
   "source": [
    "keywords"
   ]
  },
  {
   "cell_type": "code",
   "execution_count": null,
   "metadata": {},
   "outputs": [],
   "source": [
    "keywords"
   ]
  },
  {
   "cell_type": "code",
   "execution_count": null,
   "metadata": {},
   "outputs": [],
   "source": [
    "# Use"
   ]
  },
  {
   "cell_type": "code",
   "execution_count": null,
   "metadata": {},
   "outputs": [],
   "source": [
    "zotero_ollama(\"What is a protein?\")"
   ]
  }
 ],
 "metadata": {
  "kernelspec": {
   "display_name": "llamabot",
   "language": "python",
   "name": "python3"
  },
  "language_info": {
   "codemirror_mode": {
    "name": "ipython",
    "version": 3
   },
   "file_extension": ".py",
   "mimetype": "text/x-python",
   "name": "python",
   "nbconvert_exporter": "python",
   "pygments_lexer": "ipython3",
   "version": "3.11.7"
  }
 },
 "nbformat": 4,
 "nbformat_minor": 2
}
