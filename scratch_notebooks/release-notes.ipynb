{
 "cells": [
  {
   "cell_type": "code",
   "execution_count": null,
   "metadata": {},
   "outputs": [],
   "source": [
    "import os"
   ]
  },
  {
   "cell_type": "code",
   "execution_count": null,
   "metadata": {},
   "outputs": [],
   "source": [
    "from llamabot import ChatBot\n",
    "\n",
    "bot = ChatBot(\"You are an expert Git user and GitPython package user.\")\n",
    "# bot(\"How do I use GitPython to get the log between the latest two tags?\")"
   ]
  },
  {
   "cell_type": "code",
   "execution_count": null,
   "metadata": {},
   "outputs": [],
   "source": [
    "import git\n",
    "from pyprojroot import here\n",
    "\n",
    "repo = git.Repo(here())\n",
    "tags = sorted(repo.tags, key=lambda t: t.commit.committed_datetime)\n",
    "\n",
    "for tag1, tag2 in zip(tags[:-1], tags[1:]):\n",
    "    log_info = repo.git.log(f\"{tag1.commit.hexsha}..{tag2.commit.hexsha}\")"
   ]
  },
  {
   "cell_type": "code",
   "execution_count": null,
   "metadata": {},
   "outputs": [],
   "source": [
    "print(log_info)"
   ]
  },
  {
   "cell_type": "code",
   "execution_count": null,
   "metadata": {},
   "outputs": [],
   "source": [
    "from llamabot import SimpleBot\n",
    "from outlines import text\n",
    "\n",
    "\n",
    "bot = SimpleBot(\n",
    "    \"You are an expert software developer who knows how to write excellent release notes based on git commit logs.\"\n",
    ")\n",
    "\n",
    "\n",
    "@text.prompt\n",
    "def write_release_notes(commit_log, repo_url):\n",
    "    \"\"\"Here is a commit log:\n",
    "\n",
    "    {{ commit_log }}\n",
    "\n",
    "    These come from the following repo:\n",
    "\n",
    "    {{ repo_url }}\n",
    "\n",
    "    Please write for me the release notes.\n",
    "    The notes should contain a human-readable summary of each new feature that was added.\n",
    "\n",
    "    Follow the following format:\n",
    "\n",
    "        ## <version number>\n",
    "\n",
    "        <brief summary of the new version>\n",
    "\n",
    "        ### New Features\n",
    "\n",
    "        - <describe in plain English> (<commit's first 6 letters>) (<commit author>)\n",
    "        - <describe in plain English> (<commit's first 6 letters>) (<commit author>)\n",
    "\n",
    "        ### Bug Fixes\n",
    "\n",
    "        - <describe in plain English> (<commit's first 6 letters>) (<commit author>)\n",
    "\n",
    "        ### Deprecations\n",
    "\n",
    "        - <describe in plain English> (<commit's first 6 letters>) (<commit author>)\n",
    "    \"\"\""
   ]
  },
  {
   "cell_type": "code",
   "execution_count": null,
   "metadata": {},
   "outputs": [],
   "source": [
    "i = 53\n",
    "for i in range(52, len(tags) + 1):\n",
    "    tag1 = tags[i]\n",
    "    tag2 = tags[i + 1]\n",
    "    log_info = repo.git.log(f\"{tag1.commit.hexsha}..{tag2.commit.hexsha}\")\n",
    "    notes = bot(write_release_notes(log_info, \"https://github.com/ericmjl/llamabot\"))\n",
    "    with open(here() / f\"docs/releases/{tag2.name}.md\", \"w+\") as f:\n",
    "        f.write(notes.content)"
   ]
  },
  {
   "cell_type": "code",
   "execution_count": null,
   "metadata": {},
   "outputs": [],
   "source": []
  },
  {
   "cell_type": "code",
   "execution_count": null,
   "metadata": {},
   "outputs": [],
   "source": []
  }
 ],
 "metadata": {
  "kernelspec": {
   "display_name": "llamabot",
   "language": "python",
   "name": "python3"
  },
  "language_info": {
   "codemirror_mode": {
    "name": "ipython",
    "version": 3
   },
   "file_extension": ".py",
   "mimetype": "text/x-python",
   "name": "python",
   "nbconvert_exporter": "python",
   "pygments_lexer": "ipython3",
   "version": "3.11.5"
  }
 },
 "nbformat": 4,
 "nbformat_minor": 2
}
