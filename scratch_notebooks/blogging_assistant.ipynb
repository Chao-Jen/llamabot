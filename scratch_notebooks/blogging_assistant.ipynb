{
 "cells": [
  {
   "cell_type": "code",
   "execution_count": null,
   "metadata": {},
   "outputs": [],
   "source": [
    "%load_ext autoreload\n",
    "%autoreload 2\n"
   ]
  },
  {
   "cell_type": "code",
   "execution_count": null,
   "metadata": {},
   "outputs": [],
   "source": [
    "from llamabot.prompt_library.blog import (\n",
    "    compose_linkedin_post,\n",
    "    blog_tagger_and_summarizer,\n",
    ")\n",
    "\n",
    "\n",
    "@text.prompt\n",
    "def blog_tagger_and_summarizer(blog_post):\n",
    "    \"\"\"This is a blog post that I just wrote.\n",
    "\n",
    "    {{ blog_post }}\n",
    "\n",
    "    Please return for me up to 15 blog tags in lowercase.\n",
    "    They should be at most 2 words long.\n",
    "\n",
    "    Also, please return for me a summary of the blog post,\n",
    "    written in first-person tone,\n",
    "    that is at most 100 words long.\n",
    "    It should be entertaining without being overly so,\n",
    "    and should entice readers to read the blog post.\n",
    "    Use emojis where appropriate.\n",
    "    \"\"\"\n",
    "\n",
    "\n",
    "from llamabot import SimpleBot\n",
    "\n",
    "\n",
    "bot = SimpleBot(\"You are an expert blogger.\")\n",
    "\n",
    "\n",
    "from pyprojroot import here\n",
    "\n",
    "with open(here() / \"data/blog_text.txt\", \"r+\") as f:\n",
    "    blog_text = f.read()\n",
    "\n",
    "response = bot(blog_tagger_and_summarizer(blog_text))\n"
   ]
  },
  {
   "cell_type": "code",
   "execution_count": null,
   "metadata": {},
   "outputs": [],
   "source": [
    "from llamabot.prompt_library.output_formatter import coerce_dict\n",
    "\n",
    "output = coerce_dict(response.content)\n",
    "output\n"
   ]
  },
  {
   "cell_type": "code",
   "execution_count": null,
   "metadata": {},
   "outputs": [],
   "source": [
    "import json\n",
    "\n",
    "answers = json.loads(response.content)\n",
    "answers[\"summary\"]\n"
   ]
  },
  {
   "cell_type": "code",
   "execution_count": null,
   "metadata": {},
   "outputs": [],
   "source": [
    "for tag in answers[\"tags\"]:\n",
    "    print(tag)\n"
   ]
  }
 ],
 "metadata": {
  "kernelspec": {
   "display_name": "llamabot",
   "language": "python",
   "name": "python3"
  },
  "language_info": {
   "codemirror_mode": {
    "name": "ipython",
    "version": 3
   },
   "file_extension": ".py",
   "mimetype": "text/x-python",
   "name": "python",
   "nbconvert_exporter": "python",
   "pygments_lexer": "ipython3",
   "version": "3.11.5"
  }
 },
 "nbformat": 4,
 "nbformat_minor": 2
}
