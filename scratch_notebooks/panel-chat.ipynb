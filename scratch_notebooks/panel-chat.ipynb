{
 "cells": [
  {
   "cell_type": "code",
   "execution_count": null,
   "metadata": {},
   "outputs": [],
   "source": [
    "%load_ext autoreload\n",
    "%autoreload 2\n"
   ]
  },
  {
   "cell_type": "code",
   "execution_count": null,
   "metadata": {},
   "outputs": [],
   "source": [
    "import panel as pn\n",
    "\n",
    "pn.extension()\n"
   ]
  },
  {
   "cell_type": "code",
   "execution_count": null,
   "metadata": {},
   "outputs": [],
   "source": [
    "# def callback(contents: str, user: str, instance: pn.chat.ChatInterface):\n",
    "#     message = f\"Echoing {user}: {contents}\"\n",
    "#     return message\n",
    "\n",
    "\n",
    "# chat_interface = pn.chat.ChatInterface(\n",
    "#     callback=callback, callback_user=\"System\", show_clear=False\n",
    "# )\n",
    "# chat_interface.send(\"Send a message to receive an echo!\", user=\"System\", respond=False)\n",
    "# chat_interface.servable()\n"
   ]
  },
  {
   "cell_type": "code",
   "execution_count": null,
   "metadata": {},
   "outputs": [],
   "source": [
    "from llamabot import SimpleBot, ChatBot\n",
    "\n",
    "\n",
    "bot = SimpleBot(\"You are Richard Feynman.\")\n",
    "\n",
    "\n",
    "async def callback(contents: str, user: str, instance: pn.chat.ChatInterface):\n",
    "    response = bot(contents)\n",
    "    yield response.content\n",
    "\n",
    "\n",
    "chat_interface = pn.chat.ChatInterface(\n",
    "    callback=callback, callback_user=\"Feynman Bot\", show_clear=False\n",
    ")\n",
    "chat_interface.send(\n",
    "    \"Send a message to get a reply from the bot!\",\n",
    "    user=\"System\",\n",
    "    respond=False,\n",
    ")\n",
    "chat_interface.servable()\n"
   ]
  },
  {
   "cell_type": "code",
   "execution_count": null,
   "metadata": {},
   "outputs": [],
   "source": [
    "from llamabot import QueryBot\n",
    "import tempfile\n",
    "import panel as pn\n",
    "from pathlib import Path\n",
    "\n",
    "pn.extension()\n",
    "\n",
    "file_input = pn.widgets.FileInput(mime_type=[\"application/pdf\"])\n",
    "spinner = pn.indicators.LoadingSpinner(value=False, width=30, height=30)\n",
    "global bot\n",
    "bot = None\n",
    "\n",
    "\n",
    "def upload_file(event):\n",
    "    spinner.value = True\n",
    "    raw_contents = event.new\n",
    "\n",
    "    with tempfile.NamedTemporaryFile(\n",
    "        delete=False, suffix=\".pdf\", mode=\"wb\"\n",
    "    ) as temp_file:\n",
    "        temp_file.write(raw_contents)\n",
    "        global bot\n",
    "        bot = QueryBot(\"You are Richard Feynman\", doc_paths=[Path(temp_file.name)])\n",
    "\n",
    "    chat_interface.send(\n",
    "        \"Please allow me to summarize the paper for you. One moment...\",\n",
    "        user=\"System\",\n",
    "        respond=False,\n",
    "    )\n",
    "    response = bot(\"Please summarize this paper for me.\")\n",
    "    chat_interface.send(response.content, user=\"System\", respond=False)\n",
    "    spinner.value = False\n",
    "\n",
    "\n",
    "file_input.param.watch(upload_file, \"value\")\n",
    "\n",
    "\n",
    "async def callback(contents: str, user: str, instance: pn.chat.ChatInterface):\n",
    "    spinner.value = True\n",
    "    global bot\n",
    "    response = bot(contents)\n",
    "    spinner.value = False\n",
    "    yield response.content\n",
    "\n",
    "\n",
    "chat_interface = pn.chat.ChatInterface(\n",
    "    callback=callback,\n",
    "    callback_user=\"QueryBot\",\n",
    "    show_clear=False,\n",
    ")\n",
    "chat_interface.send(\n",
    "    \"Send a message to get a reply from the bot!\",\n",
    "    user=\"System\",\n",
    "    respond=False,\n",
    ")\n",
    "\n",
    "app = pn.Column(pn.Row(file_input, spinner), chat_interface)\n",
    "app.show()\n"
   ]
  }
 ],
 "metadata": {
  "kernelspec": {
   "display_name": "Python 3 (ipykernel)",
   "language": "python",
   "name": "python3"
  },
  "language_info": {
   "codemirror_mode": {
    "name": "ipython",
    "version": 3
   },
   "file_extension": ".py",
   "mimetype": "text/x-python",
   "name": "python",
   "nbconvert_exporter": "python",
   "pygments_lexer": "ipython3",
   "version": "3.11.5"
  }
 },
 "nbformat": 4,
 "nbformat_minor": 4
}
