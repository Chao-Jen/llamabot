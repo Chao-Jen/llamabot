{
 "cells": [
  {
   "cell_type": "code",
   "execution_count": null,
   "metadata": {},
   "outputs": [],
   "source": [
    "%load_ext autoreload \n",
    "%autoreload 2"
   ]
  },
  {
   "cell_type": "code",
   "execution_count": null,
   "metadata": {},
   "outputs": [],
   "source": [
    "import pyperclip"
   ]
  },
  {
   "cell_type": "code",
   "execution_count": null,
   "metadata": {},
   "outputs": [],
   "source": [
    "from outlines import text\n",
    "from llamabot import SimpleBot\n",
    "\n",
    "\n",
    "@text.prompt\n",
    "def patreon_sysprompt():\n",
    "    \"\"\"You are an expert at writing Patreon posts.\n",
    "\n",
    "    Your style should be engaging without being too casual.\n",
    "    Use emojis where appropriate!\n",
    "    \"\"\""
   ]
  },
  {
   "cell_type": "code",
   "execution_count": null,
   "metadata": {},
   "outputs": [],
   "source": [
    "@text.prompt\n",
    "def blog_post_bullets(blog_text):\n",
    "    \"\"\"Given the following blog post, produce 3-5 bullet points that summarize the text.\n",
    "\n",
    "    {{ blog_text }}\n",
    "\n",
    "    Return only the bullet points with no other commentary.\n",
    "    \"\"\""
   ]
  },
  {
   "cell_type": "code",
   "execution_count": null,
   "metadata": {},
   "outputs": [],
   "source": [
    "blog_text = pyperclip.paste()"
   ]
  },
  {
   "cell_type": "code",
   "execution_count": null,
   "metadata": {},
   "outputs": [],
   "source": [
    "summary_bot = SimpleBot(patreon_sysprompt())\n",
    "\n",
    "bullets = summary_bot(blog_post_bullets(blog_text)).content"
   ]
  },
  {
   "cell_type": "code",
   "execution_count": null,
   "metadata": {},
   "outputs": [],
   "source": [
    "@text.prompt\n",
    "def write_patreon_post(talking_points: str):\n",
    "    \"\"\"Write me a patreon post that covers the following talking points.\n",
    "\n",
    "    {{ talking_points }}\n",
    "    \"\"\""
   ]
  },
  {
   "cell_type": "code",
   "execution_count": null,
   "metadata": {},
   "outputs": [],
   "source": [
    "bot = SimpleBot(patreon_sysprompt(), temperature=0.4)\n",
    "\n",
    "talking_points = \"\"\"\n",
    "- As promised on LinkedIn, a post detailing the Behind-The-Scenes making LlamaBot.\n",
    "- Some of the things I cover:\n",
    "    - Why software skills matter.\n",
    "    - How I dealt with breakneck innovation pace\n",
    "    - One very useful design pattern for LLM app development\n",
    "    - How to deal with poor versioning practices\n",
    "    - How developing a framework myself helped me develop a taste for others' frameworks\n",
    "\"\"\"\n",
    "\n",
    "bot(talking_points)"
   ]
  },
  {
   "cell_type": "code",
   "execution_count": null,
   "metadata": {},
   "outputs": [],
   "source": []
  }
 ],
 "metadata": {
  "kernelspec": {
   "display_name": "llamabot",
   "language": "python",
   "name": "python3"
  },
  "language_info": {
   "codemirror_mode": {
    "name": "ipython",
    "version": 3
   },
   "file_extension": ".py",
   "mimetype": "text/x-python",
   "name": "python",
   "nbconvert_exporter": "python",
   "pygments_lexer": "ipython3",
   "version": "3.11.4"
  }
 },
 "nbformat": 4,
 "nbformat_minor": 2
}
