{
 "cells": [
  {
   "cell_type": "code",
   "execution_count": null,
   "metadata": {},
   "outputs": [],
   "source": [
    "%load_ext autoreload \n",
    "%autoreload 2"
   ]
  },
  {
   "cell_type": "code",
   "execution_count": null,
   "metadata": {},
   "outputs": [],
   "source": [
    "from outlines import text\n",
    "\n",
    "\n",
    "@text.prompt\n",
    "def patreon_sysprompt():\n",
    "    \"\"\"You are an expert at writing Patreon posts.\n",
    "\n",
    "    Your style should be engaging without being too casual.\n",
    "    Use emojis where appropriate!\n",
    "    \"\"\"\n",
    "\n",
    "\n",
    "@text.prompt\n",
    "def write_patreon_post(talking_points: str):\n",
    "    \"\"\"Write me a patreon post that covers the following talking points.\n",
    "\n",
    "    {{ talking_points }}\n",
    "    \"\"\""
   ]
  },
  {
   "cell_type": "code",
   "execution_count": null,
   "metadata": {},
   "outputs": [],
   "source": [
    "from llamabot import SimpleBot\n",
    "\n",
    "\n",
    "bot = SimpleBot(patreon_sysprompt())\n",
    "\n",
    "\n",
    "talking_points = \"\"\"\n",
    "1. Lots of work going on\n",
    "2. New things I've built into Llamabot:\n",
    "    1. A CLI tool that lets me chat with my own Zotero library.\n",
    "    2. A git commit message writer that helps me write better commit messages.\n",
    "\n",
    "Some details:\n",
    "\n",
    "1. About chatting with zotero library:\n",
    "    Thisis something I've always wanted. Need:\n",
    "    1. A better way of searching library for something -- can't always remember title or author, but can remember gist of paper.\n",
    "    2. A way to quickly dissect new papers for important relevant information -- need to do this faster than reading the whole paper.\n",
    "\n",
    "2. About better commit messages:\n",
    "    Follow conventional commits standard.\n",
    "    Makes it easier to keep a changelog. \n",
    "    Can compile changelog from the commit messages (omg, don't give me ideas now!)\n",
    "\"\"\"\n",
    "\n",
    "bot(talking_points)"
   ]
  },
  {
   "cell_type": "code",
   "execution_count": null,
   "metadata": {},
   "outputs": [],
   "source": []
  }
 ],
 "metadata": {
  "kernelspec": {
   "display_name": "llamabot",
   "language": "python",
   "name": "python3"
  },
  "language_info": {
   "codemirror_mode": {
    "name": "ipython",
    "version": 3
   },
   "file_extension": ".py",
   "mimetype": "text/x-python",
   "name": "python",
   "nbconvert_exporter": "python",
   "pygments_lexer": "ipython3",
   "version": "3.9.16"
  }
 },
 "nbformat": 4,
 "nbformat_minor": 2
}
