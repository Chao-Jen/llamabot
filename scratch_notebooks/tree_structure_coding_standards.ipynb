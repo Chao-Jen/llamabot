{
 "cells": [
  {
   "cell_type": "code",
   "execution_count": null,
   "metadata": {},
   "outputs": [],
   "source": [
    "%load_ext autoreload\n",
    "%autoreload 2"
   ]
  },
  {
   "cell_type": "code",
   "execution_count": null,
   "metadata": {},
   "outputs": [],
   "source": [
    "from llamabot.code_manipulation import get_git_diff\n",
    "from pyprojroot import here\n",
    "\n",
    "diff = get_git_diff()\n",
    "print(diff)"
   ]
  },
  {
   "cell_type": "code",
   "execution_count": null,
   "metadata": {},
   "outputs": [],
   "source": [
    "from llamabot import SimpleBot\n",
    "\n",
    "commitbot = SimpleBot(\"You are an expert user of Git.\")\n",
    "\n",
    "from outlines import text\n",
    "\n",
    "\n",
    "@text.prompt\n",
    "def commit_message(diff: str):\n",
    "    \"\"\"Please write a commit message for the following diff.\n",
    "\n",
    "    {{ diff }}\n",
    "    \"\"\""
   ]
  },
  {
   "cell_type": "code",
   "execution_count": null,
   "metadata": {},
   "outputs": [],
   "source": [
    "commitbot(commit_message(diff))"
   ]
  },
  {
   "cell_type": "code",
   "execution_count": null,
   "metadata": {},
   "outputs": [],
   "source": []
  },
  {
   "cell_type": "code",
   "execution_count": null,
   "metadata": {},
   "outputs": [],
   "source": []
  },
  {
   "cell_type": "code",
   "execution_count": null,
   "metadata": {},
   "outputs": [],
   "source": []
  },
  {
   "cell_type": "code",
   "execution_count": null,
   "metadata": {},
   "outputs": [],
   "source": []
  },
  {
   "cell_type": "code",
   "execution_count": null,
   "metadata": {},
   "outputs": [],
   "source": [
    "import fnmatch\n",
    "from pathlib import Path\n",
    "\n",
    "\n",
    "def should_ignore_file(file_path: Path, gitignore_patterns: list[str]) -> bool:\n",
    "    for pattern in gitignore_patterns:\n",
    "        if fnmatch.fnmatch(file_path.name, pattern):\n",
    "            return True\n",
    "    return False\n",
    "\n",
    "\n",
    "def print_directory_tree(\n",
    "    directory: str,\n",
    "    depth: int = float(\"inf\"),\n",
    "    indent: int = 0,\n",
    "    ignore_gitignore: bool = False,\n",
    ") -> str:\n",
    "    directory_path = Path(directory)\n",
    "    if not directory_path.is_dir():\n",
    "        raise NotADirectoryError(\n",
    "            f\"The specified path '{directory}' is not a directory.\"\n",
    "        )\n",
    "\n",
    "    if depth < 0:\n",
    "        return \"\"\n",
    "\n",
    "    files = []\n",
    "    folders = []\n",
    "\n",
    "    # Collect files and folders\n",
    "    for entry in directory_path.iterdir():\n",
    "        if entry.is_file():\n",
    "            files.append(entry)\n",
    "        elif entry.is_dir():\n",
    "            folders.append(entry)\n",
    "\n",
    "    # Sort files and folders alphabetically\n",
    "    files.sort()\n",
    "    folders.sort()\n",
    "\n",
    "    # Read gitignore patterns\n",
    "    gitignore_patterns = []\n",
    "    gitignore_path = directory_path / \".gitignore\"\n",
    "    if ignore_gitignore and gitignore_path.is_file():\n",
    "        with gitignore_path.open(\"r\") as gitignore_file:\n",
    "            gitignore_patterns = gitignore_file.read().splitlines()\n",
    "\n",
    "    # Prepare the printed text\n",
    "    printed_text = \"\"\n",
    "\n",
    "    # Print files\n",
    "    for file in files:\n",
    "        if ignore_gitignore and should_ignore_file(file, gitignore_patterns):\n",
    "            continue\n",
    "        printed_text += \"|\" + \"    \" * indent + \"|-- \" + file.name + \"\\n\"\n",
    "\n",
    "    # Recursively print subdirectories\n",
    "    for folder in folders:\n",
    "        printed_text += \"|\" + \"    \" * indent + \"|-- \" + folder.name + \"/\" + \"\\n\"\n",
    "        if depth > 0:\n",
    "            printed_text += print_directory_tree(\n",
    "                folder, depth - 1, indent + 1, ignore_gitignore\n",
    "            )\n",
    "\n",
    "    return printed_text"
   ]
  },
  {
   "cell_type": "code",
   "execution_count": null,
   "metadata": {},
   "outputs": [],
   "source": [
    "from pyprojroot import here\n",
    "\n",
    "file_tree = print_directory_tree(here(), depth=0, ignore_gitignore=True)\n",
    "print(file_tree)"
   ]
  },
  {
   "cell_type": "code",
   "execution_count": null,
   "metadata": {},
   "outputs": [],
   "source": [
    "from outlines import text\n",
    "\n",
    "\n",
    "@text.prompt\n",
    "def directory_structure_tutorial(file_tree):\n",
    "    \"\"\"Please explain the following directory structure.\n",
    "\n",
    "    {{ file_tree }}\n",
    "\n",
    "    You should cover the purpose for why each file exists.\n",
    "\n",
    "    Use bullet points, not numbered lists.\n",
    "    \"\"\""
   ]
  },
  {
   "cell_type": "code",
   "execution_count": null,
   "metadata": {},
   "outputs": [],
   "source": [
    "from llamabot import SimpleBot\n",
    "\n",
    "bot = SimpleBot(\"You are an expert in Python data science.\")\n",
    "\n",
    "file_tree_explanations = bot(directory_structure_tutorial(file_tree))"
   ]
  },
  {
   "cell_type": "code",
   "execution_count": null,
   "metadata": {},
   "outputs": [],
   "source": [
    "@text.prompt\n",
    "def explain_jargon(text):\n",
    "    \"\"\"For the following text, please identify any jargon\n",
    "    that may be unfamiliar to a junior data scientist\n",
    "    and write out definitions for each of them.\n",
    "\n",
    "    {{ text }}\n",
    "\n",
    "    Begin your response with:\n",
    "\n",
    "    ## Jargon Explanation\n",
    "    \"\"\""
   ]
  },
  {
   "cell_type": "code",
   "execution_count": null,
   "metadata": {},
   "outputs": [],
   "source": [
    "jargon_explanations = bot(explain_jargon(file_tree_explanations.content))"
   ]
  }
 ],
 "metadata": {
  "kernelspec": {
   "display_name": "llamabot",
   "language": "python",
   "name": "python3"
  },
  "language_info": {
   "codemirror_mode": {
    "name": "ipython",
    "version": 3
   },
   "file_extension": ".py",
   "mimetype": "text/x-python",
   "name": "python",
   "nbconvert_exporter": "python",
   "pygments_lexer": "ipython3",
   "version": "3.9.16"
  }
 },
 "nbformat": 4,
 "nbformat_minor": 2
}
