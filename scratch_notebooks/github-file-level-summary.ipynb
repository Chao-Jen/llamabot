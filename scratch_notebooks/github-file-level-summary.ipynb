{
 "cells": [
  {
   "cell_type": "code",
   "execution_count": null,
   "metadata": {},
   "outputs": [],
   "source": [
    "from github import Github\n",
    "\n",
    "\n",
    "def create_file_level_comment(token, repo_name, pull_number, commit_id, path, body):\n",
    "    \"\"\"\n",
    "    Create a general file-level comment on a pull request using PyGithub.\n",
    "\n",
    "    Args:\n",
    "    token (str): GitHub access token.\n",
    "    repo_name (str): Repository name including owner ('owner/repo').\n",
    "    pull_number (int): Number of the pull request.\n",
    "    commit_id (str): SHA of the commit for commenting.\n",
    "    path (str): File path relative to the repository root.\n",
    "    body (str): Text of the comment.\n",
    "\n",
    "    Returns:\n",
    "    None\n",
    "    \"\"\"\n",
    "    g = Github(token)\n",
    "    repo = g.get_repo(repo_name)\n",
    "    pull = repo.get_pull(pull_number)\n",
    "    # Get the diff of the pull request to find the last position to place the comment\n",
    "    files = pull.get_files()\n",
    "    for file in files:\n",
    "        if file.filename == path:\n",
    "            # Place the comment on the last position of the file changes if possible\n",
    "            if file.patch:\n",
    "                lines = file.patch.split(\"\\n\")\n",
    "                position = (\n",
    "                    len(lines) - 1\n",
    "                )  # assuming last line is related to the file change\n",
    "                pull.create_review_comment(body, commit_id, path, position)\n",
    "                return\n",
    "    # Fallback if no suitable line found in diff\n",
    "    print(\"No suitable line found in diff to place the comment.\")"
   ]
  },
  {
   "cell_type": "code",
   "execution_count": null,
   "metadata": {},
   "outputs": [],
   "source": [
    "from llamabot import SimpleBot\n",
    "from llamabot.prompt_manager import prompt\n",
    "import json5 as json\n",
    "\n",
    "\n",
    "@prompt\n",
    "def summarize_file_diff(diff):\n",
    "    \"\"\"Based on the following diff:\n",
    "\n",
    "    {{ diff }}\n",
    "\n",
    "    Write for me a summary of changes in this file in plain English.\n",
    "    Guess the intent of the changes in the file, and connect those intents to the changes.\n",
    "    Follow the JSON schema below:\n",
    "\n",
    "    {\n",
    "        \"intent\": <intent>,\n",
    "        \"summary\": <summary>,\n",
    "        \"bullet_points\": [<bullet_point1>, <bullet_point2>,...]\n",
    "    }\n",
    "    \"\"\""
   ]
  },
  {
   "cell_type": "code",
   "execution_count": null,
   "metadata": {},
   "outputs": [],
   "source": [
    "@prompt\n",
    "def comment_template(intent, summary, bullet_points):\n",
    "    \"\"\"\n",
    "    ## Intent\n",
    "\n",
    "    {{ intent }}\n",
    "\n",
    "    ## Summary of Changes\n",
    "\n",
    "    {{ summary }}\n",
    "\n",
    "    ## Details\n",
    "\n",
    "    {% for bullet_point in bullet_points %}- {{ bullet_point }}\n",
    "    {% endfor %}\n",
    "\n",
    "    _Change summary automatically written by LlamaBot._\n",
    "    \"\"\"\n",
    "\n",
    "\n",
    "print(comment_template(changes[\"intent\"], changes[\"summary\"], changes[\"bullet_points\"]))"
   ]
  },
  {
   "cell_type": "code",
   "execution_count": null,
   "metadata": {},
   "outputs": [],
   "source": [
    "def get_first_diff_hunk(patch):\n",
    "    \"\"\"\n",
    "    Extracts the first diff hunk from a unified diff string.\n",
    "\n",
    "    Args:\n",
    "    patch (str): The unified diff string of the file.\n",
    "\n",
    "    Returns:\n",
    "    str: The first diff hunk found.\n",
    "    \"\"\"\n",
    "    lines = patch.split(\"\\n\")\n",
    "    hunk = []\n",
    "    in_hunk = False\n",
    "\n",
    "    for line in lines:\n",
    "        if line.startswith(\"@@\"):\n",
    "            if in_hunk:\n",
    "                # Finish the current hunk when a new one starts\n",
    "                break\n",
    "            else:\n",
    "                # Start a new hunk\n",
    "                in_hunk = True\n",
    "                hunk.append(line)\n",
    "        elif in_hunk:\n",
    "            hunk.append(line)\n",
    "\n",
    "    return \"\\n\".join(hunk)"
   ]
  },
  {
   "cell_type": "code",
   "execution_count": null,
   "metadata": {},
   "outputs": [],
   "source": [
    "def top_line_number(diff_hunk):\n",
    "    # Return the position of the first line in the diff_hunk.\n",
    "\n",
    "    # Line in file that the hunk starts at:\n",
    "    # Parse diff_hunk first line for the line number in original file.\n",
    "    original_line_number = int(diff_hunk.split(\" \")[2].split(\",\")[0].strip(\"+\"))\n",
    "    return original_line_number\n",
    "\n",
    "\n",
    "# Example usage\n",
    "diff_hunk = \"\"\"\n",
    "@@ -10,4 +10,6 @@\n",
    " context line\n",
    "-removed line\n",
    "+added line\n",
    "+another added line\n",
    " context line\n",
    "\"\"\"\n",
    "\n",
    "top_line_number(diff_hunk)"
   ]
  },
  {
   "cell_type": "code",
   "execution_count": null,
   "metadata": {},
   "outputs": [],
   "source": [
    "for commit in pull.get_commits():\n",
    "    print(commit.files)"
   ]
  },
  {
   "cell_type": "code",
   "execution_count": null,
   "metadata": {},
   "outputs": [],
   "source": [
    "commit.files"
   ]
  },
  {
   "cell_type": "code",
   "execution_count": null,
   "metadata": {},
   "outputs": [],
   "source": [
    "from github.File import File\n",
    "from github.PullRequest import PullRequest\n",
    "from github.Commit import Commit\n",
    "\n",
    "\n",
    "def get_latest_commit_for_file(pull: PullRequest, file: File) -> Commit:\n",
    "    \"\"\"Get the latest commit for a given file in a pull request.\n",
    "\n",
    "    :param pull: The pull request object.\n",
    "    :param file: The file object.\n",
    "    \"\"\"\n",
    "    for commit in pull.get_commits():\n",
    "        for file2 in commit.files:\n",
    "            if file2.filename == file.filename:\n",
    "                break\n",
    "    return commit"
   ]
  },
  {
   "cell_type": "code",
   "execution_count": null,
   "metadata": {},
   "outputs": [],
   "source": []
  }
 ],
 "metadata": {
  "kernelspec": {
   "display_name": "llamabot",
   "language": "python",
   "name": "python3"
  },
  "language_info": {
   "codemirror_mode": {
    "name": "ipython",
    "version": 3
   },
   "file_extension": ".py",
   "mimetype": "text/x-python",
   "name": "python",
   "nbconvert_exporter": "python",
   "pygments_lexer": "ipython3",
   "version": "3.11.8"
  }
 },
 "nbformat": 4,
 "nbformat_minor": 2
}
