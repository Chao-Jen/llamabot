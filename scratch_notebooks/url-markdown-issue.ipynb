{
 "cells": [
  {
   "cell_type": "code",
   "execution_count": null,
   "metadata": {},
   "outputs": [],
   "source": [
    "%load_ext autoreload\n",
    "%autoreload 2"
   ]
  },
  {
   "cell_type": "code",
   "execution_count": null,
   "metadata": {},
   "outputs": [],
   "source": [
    "import panel as pn\n",
    "\n",
    "\n",
    "string = \"hey, this is a [URL](https://www.google.com). Can you see it?\"\n",
    "\n",
    "\n",
    "async def generate_text(msg, user, instance):\n",
    "    m = \"\"\n",
    "    for s in string:\n",
    "        m += s\n",
    "        yield m\n",
    "\n",
    "\n",
    "chat = pn.chat.ChatInterface(callback=generate_text, callback_exception=\"verbose\")\n",
    "chat.servable()"
   ]
  }
 ],
 "metadata": {
  "kernelspec": {
   "display_name": "llamabot",
   "language": "python",
   "name": "python3"
  },
  "language_info": {
   "codemirror_mode": {
    "name": "ipython",
    "version": 3
   },
   "file_extension": ".py",
   "mimetype": "text/x-python",
   "name": "python",
   "nbconvert_exporter": "python",
   "pygments_lexer": "ipython3",
   "version": "3.11.8"
  }
 },
 "nbformat": 4,
 "nbformat_minor": 2
}
