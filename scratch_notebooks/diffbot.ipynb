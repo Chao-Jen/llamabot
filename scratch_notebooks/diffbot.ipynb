{
 "cells": [
  {
   "cell_type": "code",
   "execution_count": null,
   "metadata": {},
   "outputs": [],
   "source": [
    "from llamabot import SimpleBot\n",
    "from llamabot.prompt_library.diffbot import diffbot, get_github_diff"
   ]
  },
  {
   "cell_type": "code",
   "execution_count": null,
   "metadata": {},
   "outputs": [],
   "source": [
    "url = \"https://github.com/pyjanitor-devs/pyjanitor/pull/1262\"\n",
    "\n",
    "\n",
    "# print(get_github_diff(url))"
   ]
  },
  {
   "cell_type": "code",
   "execution_count": null,
   "metadata": {},
   "outputs": [],
   "source": [
    "from llamabot.prompt_library.diffbot import (\n",
    "    summarize,\n",
    "    describe_advantages,\n",
    "    suggest_improvements,\n",
    "    diffbot,\n",
    ")\n",
    "\n",
    "\n",
    "diff = get_github_diff(\"https://github.com/pyjanitor-devs/pyjanitor/pull/1262\")\n",
    "print(diff)"
   ]
  },
  {
   "cell_type": "code",
   "execution_count": null,
   "metadata": {},
   "outputs": [],
   "source": [
    "from llamabot.prompt_library.git import (\n",
    "    commitbot,\n",
    "    write_commit_message,\n",
    "    compose_release_notes,\n",
    ")"
   ]
  },
  {
   "cell_type": "code",
   "execution_count": null,
   "metadata": {},
   "outputs": [],
   "source": [
    "from llamabot.prompt_manager import prompt"
   ]
  },
  {
   "cell_type": "code",
   "execution_count": null,
   "metadata": {},
   "outputs": [],
   "source": [
    "@prompt\n",
    "def structured_commit_message(diff):\n",
    "    \"\"\"Please write a commit message for the following diff.\n",
    "\n",
    "    {{ diff }}\n",
    "\n",
    "    # noqa: DAR101\n",
    "\n",
    "    Use the Conventional Commits specification to write the diff.\n",
    "\n",
    "    Return it for me in JSON format:\n",
    "\n",
    "    {\n",
    "        \"type\": \"<type>\",\n",
    "        \"scope\": \"<scope>\",\n",
    "        \"description\": \"<description>\",\n",
    "        \"breaking_change\": \"<breaking_change>\",\n",
    "        \"body\": [\"<bullet point 1 no bullet>\", \"<bullet point 2 no bullet>\",...],\n",
    "        \"footer\": \"<footer>\"\n",
    "    }\n",
    "\n",
    "    The commit contains the following structural elements,\n",
    "    to communicate intent to the consumers of your library:\n",
    "\n",
    "    fix: a commit of the type fix patches a bug in your codebase\n",
    "        (this correlates with PATCH in Semantic Versioning).\n",
    "    feat: a commit of the type feat introduces a new feature to the codebase\n",
    "        (this correlates with MINOR in Semantic Versioning).\n",
    "    BREAKING CHANGE: a commit that has a footer BREAKING CHANGE:,\n",
    "        or appends a ! after the type/scope,\n",
    "        introduces a breaking API change\n",
    "        (correlating with MAJOR in Semantic Versioning).\n",
    "        A BREAKING CHANGE can be part of commits of any type.\n",
    "\n",
    "    types other than fix: and feat: are allowed,\n",
    "    for example @commitlint/config-conventional\n",
    "    (based on the Angular convention) recommends\n",
    "    build:, chore:, ci:, docs:, style:, refactor:, perf:, test:, and others.\n",
    "\n",
    "    footers other than BREAKING CHANGE: <description> may be provided\n",
    "    and follow a convention similar to git trailer format.\n",
    "\n",
    "    Additional types are not mandated by the Conventional Commits specification,\n",
    "    and have no implicit effect in Semantic Versioning\n",
    "    (unless they include a BREAKING CHANGE).\n",
    "    A scope may be provided to a commit's type,\n",
    "    to provide additional contextual information and is contained within parenthesis,\n",
    "    e.g., feat(parser): add ability to parse arrays.\n",
    "    Within the optional body section, prefer the use of bullet points.\n",
    "\n",
    "    Final instructions:\n",
    "\n",
    "    1. Do not fence the commit message with back-ticks or quotation marks.\n",
    "    2. Do not add any other text except the commit message itself.\n",
    "    3. Only write out the commit message.\n",
    "    \"\"\""
   ]
  },
  {
   "cell_type": "code",
   "execution_count": null,
   "metadata": {},
   "outputs": [],
   "source": [
    "from llamabot import SimpleBot\n",
    "\n",
    "\n",
    "bot = SimpleBot(\n",
    "    \"You are an expert Git user\", json_mode=True,\n",
    ")\n",
    "response = bot(structured_commit_message(diff))"
   ]
  },
  {
   "cell_type": "code",
   "execution_count": null,
   "metadata": {},
   "outputs": [],
   "source": [
    "import json\n",
    "\n",
    "\n",
    "@prompt\n",
    "def rehydrate_commit_message(commit_json):\n",
    "    \"\"\"{{ commit_json[\"type\"] }}({{ commit_json[\"scope\"] }}): {{ commit_json[\"description\"] }}\n",
    "{% for item in commit_json[\"body\"] %}\n",
    "- {{ item }}{% endfor %}\n",
    "\n",
    "    {% if commit_json[\"footer\"] %}\n",
    "    {{ commit_json[\"footer\"] }}\n",
    "    {% endif %}\n",
    "    \"\"\"\n",
    "\n",
    "\n",
    "print(rehydrate_commit_message(json.loads(response.content)))"
   ]
  },
  {
   "cell_type": "code",
   "execution_count": null,
   "metadata": {},
   "outputs": [],
   "source": [
    "from llamabot import SimpleBot\n",
    "\n",
    "\n",
    "bot = SimpleBot(\"You are an expert Git user\", json_mode=True)\n",
    "response = bot(structured_commit_message(diff))"
   ]
  },
  {
   "cell_type": "code",
   "execution_count": null,
   "metadata": {},
   "outputs": [],
   "source": []
  },
  {
   "cell_type": "code",
   "execution_count": null,
   "metadata": {},
   "outputs": [],
   "source": [
    "# print(write_commit_message(diff))"
   ]
  },
  {
   "cell_type": "code",
   "execution_count": null,
   "metadata": {},
   "outputs": [],
   "source": [
    "bot = commitbot()\n",
    "bot(write_commit_message(diff))\n",
    "# diffbot(describe_advantages(diff))"
   ]
  },
  {
   "cell_type": "code",
   "execution_count": null,
   "metadata": {},
   "outputs": [],
   "source": [
    "diffbot(suggest_improvements(diff))"
   ]
  },
  {
   "cell_type": "code",
   "execution_count": null,
   "metadata": {},
   "outputs": [],
   "source": []
  },
  {
   "cell_type": "code",
   "execution_count": null,
   "metadata": {},
   "outputs": [],
   "source": []
  },
  {
   "cell_type": "code",
   "execution_count": null,
   "metadata": {},
   "outputs": [],
   "source": []
  },
  {
   "cell_type": "code",
   "execution_count": null,
   "metadata": {},
   "outputs": [],
   "source": []
  },
  {
   "cell_type": "code",
   "execution_count": null,
   "metadata": {},
   "outputs": [],
   "source": []
  },
  {
   "cell_type": "code",
   "execution_count": null,
   "metadata": {},
   "outputs": [],
   "source": []
  },
  {
   "cell_type": "code",
   "execution_count": null,
   "metadata": {},
   "outputs": [],
   "source": []
  },
  {
   "cell_type": "code",
   "execution_count": null,
   "metadata": {},
   "outputs": [],
   "source": [
    "asdfasdfadsf"
   ]
  }
 ],
 "metadata": {
  "kernelspec": {
   "display_name": "llamabot",
   "language": "python",
   "name": "python3"
  },
  "language_info": {
   "codemirror_mode": {
    "name": "ipython",
    "version": 3
   },
   "file_extension": ".py",
   "mimetype": "text/x-python",
   "name": "python",
   "nbconvert_exporter": "python",
   "pygments_lexer": "ipython3",
   "version": "3.11.8"
  }
 },
 "nbformat": 4,
 "nbformat_minor": 2
}
