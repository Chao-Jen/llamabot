{
 "cells": [
  {
   "cell_type": "code",
   "execution_count": null,
   "metadata": {},
   "outputs": [],
   "source": [
    "%load_ext autoreload\n",
    "%autoreload 2\n"
   ]
  },
  {
   "cell_type": "code",
   "execution_count": null,
   "metadata": {},
   "outputs": [],
   "source": [
    "import panel as pn\n",
    "import io\n",
    "import pandas as pd\n",
    "from llamabot import QueryBot, PromptRecorder\n",
    "\n",
    "pn.extension()"
   ]
  },
  {
   "cell_type": "code",
   "execution_count": null,
   "metadata": {},
   "outputs": [],
   "source": [
    "file_input = pn.widgets.FileInput()\n",
    "global bot\n",
    "bot = QueryBot(\n",
    "    system_message=\"You are a bot that answers questions of a PDF that is uploaded to you.\"\n",
    ")\n",
    "\n",
    "\n",
    "def update_fi_widget(event):\n",
    "    global bot\n",
    "    # Write file_input to disk at /tmp/my_file.{suffix}\n",
    "    with open(\"/tmp/my_file.pdf\", \"wb\") as f:\n",
    "        f.write(file_input.value)\n",
    "    bot.insert([\"/tmp/my_file.pdf\"])\n",
    "\n",
    "\n",
    "file_input.param.watch(update_fi_widget, \"value\")"
   ]
  },
  {
   "cell_type": "code",
   "execution_count": null,
   "metadata": {},
   "outputs": [],
   "source": [
    "file_input"
   ]
  },
  {
   "cell_type": "code",
   "execution_count": null,
   "metadata": {},
   "outputs": [],
   "source": []
  }
 ],
 "metadata": {
  "kernelspec": {
   "display_name": "llamabot",
   "language": "python",
   "name": "python3"
  },
  "language_info": {
   "codemirror_mode": {
    "name": "ipython",
    "version": 3
   },
   "file_extension": ".py",
   "mimetype": "text/x-python",
   "name": "python",
   "nbconvert_exporter": "python",
   "pygments_lexer": "ipython3",
   "version": "3.9.16"
  }
 },
 "nbformat": 4,
 "nbformat_minor": 2
}
