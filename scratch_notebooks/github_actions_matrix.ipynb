{
 "cells": [
  {
   "cell_type": "code",
   "execution_count": null,
   "metadata": {},
   "outputs": [],
   "source": [
    "%load_ext autoreload\n",
    "%autoreload 2"
   ]
  },
  {
   "cell_type": "code",
   "execution_count": null,
   "metadata": {},
   "outputs": [],
   "source": [
    "actions_files = \"\"\" \n",
    "name: Run tests on pull requests\n",
    "\n",
    "on:\n",
    "  pull_request:\n",
    "    branches: [main]\n",
    "  push:\n",
    "    branches: [main]\n",
    "\n",
    "jobs:\n",
    "  run-tests:\n",
    "    runs-on: ubuntu-latest\n",
    "    name: Run test suite\n",
    "\n",
    "    # https://github.com/marketplace/actions/setup-miniconda#use-a-default-shell\n",
    "    defaults:\n",
    "      run:\n",
    "        shell: bash -l {0}\n",
    "\n",
    "    steps:\n",
    "      - name: Checkout repository\n",
    "        uses: actions/checkout@v2\n",
    "\n",
    "      # See: https://github.com/marketplace/actions/setup-miniconda\n",
    "      - name: Setup miniconda\n",
    "        uses: conda-incubator/setup-miniconda@v2\n",
    "        with:\n",
    "          auto-update-conda: true\n",
    "          miniforge-variant: Mambaforge\n",
    "          channels: conda-forge\n",
    "          activate-environment: llamabot\n",
    "          environment-file: environment.yml\n",
    "          use-mamba: true\n",
    "\n",
    "      - name: Run tests\n",
    "        run: |\n",
    "          conda activate llamabot\n",
    "          pip install -e .\n",
    "          pytest\n",
    "\n",
    "      # https://github.com/codecov/codecov-action\n",
    "      - name: Upload code coverage\n",
    "        uses: codecov/codecov-action@v2\n",
    "        with:\n",
    "          # fail_ci_if_error: true # optional (default = false)\n",
    "          verbose: true # optional (default = false)\n",
    "\"\"\""
   ]
  },
  {
   "cell_type": "code",
   "execution_count": null,
   "metadata": {},
   "outputs": [],
   "source": [
    "from llamabot import SimpleBot\n",
    "\n",
    "bot = SimpleBot(\n",
    "    \"You are an expert CI/CD engineer who knows how to write GitHub Actions workflows.\"\n",
    ")"
   ]
  },
  {
   "cell_type": "code",
   "execution_count": null,
   "metadata": {},
   "outputs": [],
   "source": [
    "from outlines import text\n",
    "\n",
    "\n",
    "@text.prompt\n",
    "def modify_workflow_file(workflow_file: str, request: str) -> str:\n",
    "    \"\"\"Please modify the workflow file with the following request.\n",
    "\n",
    "    workflow file:\n",
    "\n",
    "    {{ workflow_file }}\n",
    "\n",
    "    request:\n",
    "\n",
    "    {{ request }}\n",
    "    \"\"\""
   ]
  },
  {
   "cell_type": "code",
   "execution_count": null,
   "metadata": {},
   "outputs": [],
   "source": [
    "bot(modify_workflow_file(actions_files, \"Add a step to run the tests.\"))"
   ]
  }
 ],
 "metadata": {
  "kernelspec": {
   "display_name": "llamabot",
   "language": "python",
   "name": "python3"
  },
  "language_info": {
   "codemirror_mode": {
    "name": "ipython",
    "version": 3
   },
   "file_extension": ".py",
   "mimetype": "text/x-python",
   "name": "python",
   "nbconvert_exporter": "python",
   "pygments_lexer": "ipython3",
   "version": "3.9.16"
  }
 },
 "nbformat": 4,
 "nbformat_minor": 2
}
