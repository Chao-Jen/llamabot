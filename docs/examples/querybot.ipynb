{
 "cells": [
  {
   "cell_type": "code",
   "execution_count": null,
   "metadata": {},
   "outputs": [],
   "source": [
    "%load_ext autoreload\n",
    "%autoreload 2"
   ]
  },
  {
   "cell_type": "code",
   "execution_count": null,
   "metadata": {},
   "outputs": [],
   "source": [
    "from llamabot import QueryBot\n",
    "import git\n",
    "from IPython.display import display, Markdown"
   ]
  },
  {
   "cell_type": "markdown",
   "metadata": {},
   "source": [
    "# Eric Ma Q&A\n",
    "\n",
    "This shows how to build a blog Q&A bot using the text contents of Eric Ma's blog."
   ]
  },
  {
   "cell_type": "markdown",
   "metadata": {},
   "source": [
    "## Setup: Download blog data"
   ]
  },
  {
   "cell_type": "code",
   "execution_count": null,
   "metadata": {},
   "outputs": [],
   "source": [
    "import tempfile\n",
    "from pathlib import Path\n",
    "\n",
    "# Create a temporary directory\n",
    "temp_dir = tempfile.TemporaryDirectory(dir=\"/tmp\")\n",
    "\n",
    "# Clone the repository into the temporary directory\n",
    "repo = git.Repo.clone_from(\"https://github.com/ericmjl/website\", temp_dir.name)\n",
    "\n",
    "# Set the root directory to the cloned repository\n",
    "root_dir = Path(temp_dir.name) / \"content\" / \"blog\""
   ]
  },
  {
   "cell_type": "code",
   "execution_count": null,
   "metadata": {},
   "outputs": [],
   "source": [
    "from pathlib import Path\n",
    "\n",
    "\n",
    "# Find all *.lr and *.md files recursively in the root directory\n",
    "def find_files_with_suffixes(directory, suffixes):\n",
    "    files = []\n",
    "    for suffix in suffixes:\n",
    "        files.extend(list(Path(directory).rglob(f\"*.{suffix}\")))\n",
    "    return files"
   ]
  },
  {
   "cell_type": "code",
   "execution_count": null,
   "metadata": {},
   "outputs": [],
   "source": [
    "lektor_files"
   ]
  },
  {
   "cell_type": "code",
   "execution_count": null,
   "metadata": {},
   "outputs": [],
   "source": [
    "from pathlib import Path\n",
    "\n",
    "\n",
    "def file_tree(directory):\n",
    "    tree = \"\"\n",
    "    indent = \"\"\n",
    "    for root, dirs, files in Path(directory).rglob(\"*\"):\n",
    "        tree += f\"{indent}{Path(root).name}/\\n\"\n",
    "        indent += \"  \"\n",
    "        for file in files:\n",
    "            tree += f\"{indent}{file.name}\\n\"\n",
    "    return tree\n",
    "\n",
    "\n",
    "# Example usage\n",
    "directory = \"/path/to/directory\"\n",
    "file_tree = get_file_tree(directory)\n",
    "print(file_tree)"
   ]
  },
  {
   "cell_type": "code",
   "execution_count": null,
   "metadata": {},
   "outputs": [],
   "source": [
    "from chromadb import QueryResult\n",
    "from slugify import slugify\n",
    "import chromadb\n",
    "\n",
    "client = chromadb.PersistentClient(path=str(Path.home() / \".llamabot\" / \"chroma.db\"))\n",
    "collection = client.create_collection(\n",
    "    slugify(\"https://github.com/ericmjl/website\"), get_or_create=True\n",
    ")\n",
    "\n",
    "results = collection.get()"
   ]
  },
  {
   "cell_type": "code",
   "execution_count": null,
   "metadata": {},
   "outputs": [],
   "source": [
    "results = collection.get()"
   ]
  },
  {
   "cell_type": "code",
   "execution_count": null,
   "metadata": {},
   "outputs": [],
   "source": [
    "type(results['documents'][0])"
   ]
  },
  {
   "cell_type": "code",
   "execution_count": null,
   "metadata": {},
   "outputs": [],
   "source": [
    "bot = QueryBot(\n",
    "    system_prompt=\"You are a digital twin of Eric Ma, the author of the blog posts that you will query.\",\n",
    "    collection_name=\"eric-ma-blog-posts\",\n",
    "    document_paths=lektor_files,\n",
    ")"
   ]
  },
  {
   "cell_type": "code",
   "execution_count": null,
   "metadata": {},
   "outputs": [],
   "source": [
    "bot(\"What is your view on building a digital portfolio?\")"
   ]
  },
  {
   "cell_type": "code",
   "execution_count": null,
   "metadata": {},
   "outputs": [],
   "source": [
    "bot(\"What were your experiences with the SciPy conference?\")"
   ]
  },
  {
   "cell_type": "code",
   "execution_count": null,
   "metadata": {},
   "outputs": [],
   "source": [
    "bot(\"What tutorials did you attend at the SciPy conference in 2023?\")"
   ]
  },
  {
   "cell_type": "markdown",
   "metadata": {},
   "source": [
    "## LlamaBot Code Query"
   ]
  },
  {
   "cell_type": "code",
   "execution_count": null,
   "metadata": {},
   "outputs": [],
   "source": [
    "from numpy import source\n",
    "from llamabot.file_finder import recursive_find\n",
    "from pyprojroot import here\n",
    "\n",
    "source_python_files = recursive_find(root_dir=here() / \"llamabot\", file_extension=\".py\")\n",
    "\n",
    "codebot = QueryBot(\n",
    "    \"You are an expert in code Q&A.\",\n",
    "    collection_name=\"llamabot\",\n",
    "    document_paths=source_python_files,\n",
    "    model_name=\"gpt-4-1106-preview\",\n",
    ")"
   ]
  },
  {
   "cell_type": "code",
   "execution_count": null,
   "metadata": {},
   "outputs": [],
   "source": [
    "codebot(\"How do I find all the files in a directory?\")"
   ]
  },
  {
   "cell_type": "code",
   "execution_count": null,
   "metadata": {},
   "outputs": [],
   "source": [
    "codebot(\"Which Bot do I use to chat with my documents?\")"
   ]
  },
  {
   "cell_type": "code",
   "execution_count": null,
   "metadata": {},
   "outputs": [],
   "source": [
    "codebot(\"Explain to me the architecture of SimpleBot.\")"
   ]
  },
  {
   "cell_type": "code",
   "execution_count": null,
   "metadata": {},
   "outputs": [],
   "source": [
    "codebot(\"What are the CLI functions available in LlamaBot?\")"
   ]
  },
  {
   "cell_type": "code",
   "execution_count": null,
   "metadata": {},
   "outputs": [],
   "source": [
    "from llamabot.bot.qabot import DocQABot\n",
    "\n",
    "codebot = DocQABot(\n",
    "    collection_name=\"llamabot\",\n",
    ")\n",
    "codebot.add_documents(document_paths=source_python_files)"
   ]
  },
  {
   "cell_type": "code",
   "execution_count": null,
   "metadata": {},
   "outputs": [],
   "source": [
    "codebot(\n",
    "    \"Does LlamaBot provide a function to find all files recursively in a directory?\"\n",
    ")"
   ]
  },
  {
   "cell_type": "code",
   "execution_count": null,
   "metadata": {},
   "outputs": [],
   "source": []
  }
 ],
 "metadata": {
  "kernelspec": {
   "display_name": "llamabot",
   "language": "python",
   "name": "python3"
  },
  "language_info": {
   "codemirror_mode": {
    "name": "ipython",
    "version": 3
   },
   "file_extension": ".py",
   "mimetype": "text/x-python",
   "name": "python",
   "nbconvert_exporter": "python",
   "pygments_lexer": "ipython3",
   "version": "3.11.7"
  }
 },
 "nbformat": 4,
 "nbformat_minor": 2
}
