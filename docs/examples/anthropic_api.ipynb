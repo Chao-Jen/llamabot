{
 "cells": [
  {
   "cell_type": "markdown",
   "id": "8f27e35e-ecb8-4de5-b4fe-edb066522a0c",
   "metadata": {},
   "source": [
    "## Test with Anthropic API (Claude Sonnet)"
   ]
  },
  {
   "cell_type": "code",
   "execution_count": 2,
   "id": "0238a649-105f-4066-8de3-41ac2b6d8f7d",
   "metadata": {},
   "outputs": [],
   "source": [
    "import os\n",
    "from llamabot import SimpleBot\n",
    "from dotenv import load_dotenv"
   ]
  },
  {
   "cell_type": "markdown",
   "id": "c4a69325-fc5b-4ff8-8124-e9425ea974f7",
   "metadata": {},
   "source": [
    "URL for Anthropic API key: https://console.anthropic.com/settings/keys\n",
    "\n",
    "If it's your first time using an Anthropic LLM, you will need to create an account and load funds (min $5).\n",
    "\n",
    "Simple calls to the API like the ones seen below cost about 1 cent per request"
   ]
  },
  {
   "cell_type": "markdown",
   "id": "95ac3212-3e04-4bab-ad38-1c9dd1cb9ef0",
   "metadata": {},
   "source": [
    "Set up the API Key:\n",
    "\n",
    "Create a .env file (beware that your OS does not append another file extension). Explicitly:\n",
    "\n",
    "export ANTHROPIC_API_KEY=\"YOUR KEY\" \n",
    "\n",
    "Save this file to the same directory as this notebook"
   ]
  },
  {
   "cell_type": "markdown",
   "id": "1e6566c2-ebf6-46bb-a702-754363eb93d5",
   "metadata": {},
   "source": [
    "We now load the .env file and store the API key as an enviroment variable"
   ]
  },
  {
   "cell_type": "code",
   "execution_count": 3,
   "id": "a389b4d2-b2ae-4ad0-a4cc-382b9a84b3c7",
   "metadata": {},
   "outputs": [
    {
     "data": {
      "text/plain": [
       "True"
      ]
     },
     "execution_count": 3,
     "metadata": {},
     "output_type": "execute_result"
    }
   ],
   "source": [
    "load_dotenv(\".env\") # explicitly state that we are looking for .env in the same directory as notebook\n",
    "# print(os.getenv(\"ANTHROPIC_API_KEY\"))"
   ]
  },
  {
   "cell_type": "markdown",
   "id": "f7bcc5a7-023a-4b3c-861e-0b3e54acfa89",
   "metadata": {},
   "source": [
    "Setting up the SimpleBot. The API key will be automatically read from the environment variable"
   ]
  },
  {
   "cell_type": "code",
   "execution_count": 11,
   "id": "a5be25f4-3fb2-43c3-9f63-d3d91066e352",
   "metadata": {},
   "outputs": [],
   "source": [
    "system_prompt = \"\"\"You are a bot that will respond to questions written by a human curious about using Anthropic's LLMs.\n",
    "When applicable, you should give an unbiased comparison between the various LLMs.\n",
    "The post should be written in professional English and in first-person tone for the human.\n",
    "\"\"\"\n",
    "claude = SimpleBot(\n",
    "    system_prompt=system_prompt,\n",
    "    stream_target=\"stdout\",  # this is the default!,\n",
    "    model_name=\"claude-3-5-sonnet-20240620\"\n",
    ")"
   ]
  },
  {
   "cell_type": "markdown",
   "id": "cd07d924-ecf5-4bd2-98b2-dcdda6484e6e",
   "metadata": {},
   "source": [
    "Asking a question"
   ]
  },
  {
   "cell_type": "code",
   "execution_count": 7,
   "id": "e80cf655-d1b0-415d-8a05-b29c6d65ddc7",
   "metadata": {},
   "outputs": [
    {
     "name": "stdout",
     "output_type": "stream",
     "text": [
      "As an AI assistant, I'll do my best to provide an informative and unbiased overview of Claude 3.5 Sonnet's capabilities:\n",
      "\n",
      "Claude 3.5 Sonnet excels at a wide range of natural language processing tasks. Some key areas where it performs particularly well include:\n",
      "\n",
      "1. Text analysis and comprehension: Sonnet has strong reading comprehension abilities and can analyze complex texts across many domains.\n",
      "\n",
      "2. Writing and content generation: It can produce high-quality written content in various styles and formats, from creative writing to technical documentation.\n",
      "\n",
      "3. Summarization: Sonnet is adept at condensing long texts into concise summaries while retaining key information.\n",
      "\n",
      "4. Question answering: It can provide detailed and accurate responses to questions on a broad range of topics.\n",
      "\n",
      "5. Language translation: Sonnet can translate between numerous languages with good accuracy.\n",
      "\n",
      "6. Code understanding and generation: It has capabilities in understanding and generating code in multiple programming languages.\n",
      "\n",
      "7. Task planning and problem-solving: Sonnet can break down complex problems and provide step-by-step solutions or action plans.\n",
      "\n",
      "8. Data analysis and interpretation: It can process and interpret structured data, offering insights and explanations.\n",
      "\n",
      "While Sonnet is highly capable, it's important to note that its performance can vary depending on the specific task and context. For the most up-to-date and task-specific comparisons with other LLMs, I'd recommend checking Anthropic's official documentation or conducting comparative tests for your particular use case.\n",
      "\n",
      "Additionally, Claude 3.5 Sonnet sits between Claude 3 Opus (the most capable model) and Claude 3 Haiku (the fastest model) in terms of capabilities and speed. So for tasks requiring the highest level of performance, Claude 3 Opus might be more suitable, while for tasks prioritizing speed, Claude 3 Haiku could be a better choice."
     ]
    }
   ],
   "source": [
    "first_question = claude(\"What types of tasks does claude 3.5 sonnet excel at\")"
   ]
  },
  {
   "cell_type": "code",
   "execution_count": 12,
   "id": "b3308263-7e33-4417-9617-078280e13c70",
   "metadata": {},
   "outputs": [
    {
     "name": "stdout",
     "output_type": "stream",
     "text": [
      "As an AI assistant, I'll explain why copying API keys directly into an example Jupyter notebook is not secure:\n",
      "\n",
      "Copying API keys directly into a Jupyter notebook is generally considered insecure for several important reasons:\n",
      "\n",
      "1. Visibility: Jupyter notebooks are often shared or published, either intentionally or accidentally. If your API key is visible in the notebook, anyone who gains access to it can potentially use your credentials.\n",
      "\n",
      "2. Version control risks: If you use version control systems like Git for your notebooks, your API key could end up in your repository history, even if you later remove it. This makes it accessible to anyone with access to the repository.\n",
      "\n",
      "3. Lack of encryption: Jupyter notebooks typically store content in plain text, meaning your API key is not encrypted or protected in any way.\n",
      "\n",
      "4. Accidental exposure: You might inadvertently share your notebook with colleagues or publish it online without remembering to remove the API key.\n",
      "\n",
      "5. Security best practices: It goes against the principle of keeping sensitive information separate from code, which is a fundamental security best practice.\n",
      "\n",
      "Instead of directly copying API keys into notebooks, I would recommend using more secure methods such as:\n",
      "\n",
      "1. Environment variables: Store your API key as an environment variable and access it in your code.\n",
      "2. Configuration files: Use a separate, gitignored configuration file to store sensitive information.\n",
      "3. Secret management tools: Utilize dedicated secret management tools or services, especially in production environments.\n",
      "4. Jupyter extensions: Some extensions allow you to securely input and use secrets in notebooks without exposing them in the code.\n",
      "\n",
      "By using these methods, you can work with API keys more securely while still leveraging the power and convenience of Jupyter notebooks. This approach helps protect your credentials and aligns with best practices in software development and data science."
     ]
    }
   ],
   "source": [
    "unsafe_question = claude(\"Why is it not secure to copy API keys directly into an example Jupyter notebook\")"
   ]
  }
 ],
 "metadata": {
  "kernelspec": {
   "display_name": "Python 3 (ipykernel)",
   "language": "python",
   "name": "python3"
  },
  "language_info": {
   "codemirror_mode": {
    "name": "ipython",
    "version": 3
   },
   "file_extension": ".py",
   "mimetype": "text/x-python",
   "name": "python",
   "nbconvert_exporter": "python",
   "pygments_lexer": "ipython3",
   "version": "3.11.5"
  }
 },
 "nbformat": 4,
 "nbformat_minor": 5
}
