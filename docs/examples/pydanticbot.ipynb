{
 "cells": [
  {
   "cell_type": "code",
   "execution_count": 18,
   "metadata": {
    "keep_output": true,
    "ExecuteTime": {
     "end_time": "2024-07-16T04:23:48.638501Z",
     "start_time": "2024-07-16T04:23:48.500637Z"
    }
   },
   "outputs": [
    {
     "name": "stdout",
     "output_type": "stream",
     "text": [
      "The autoreload extension is already loaded. To reload it, use:\n",
      "  %reload_ext autoreload\n"
     ]
    }
   ],
   "source": [
    "%load_ext autoreload\n",
    "%autoreload 2"
   ]
  },
  {
   "attachments": {},
   "cell_type": "markdown",
   "metadata": {
    "keep_output": true
   },
   "source": [
    "# LLaMaBot's PydanticBot in under 5 minutes"
   ]
  },
  {
   "attachments": {},
   "cell_type": "markdown",
   "metadata": {
    "keep_output": true
   },
   "source": [
    "We want to be able to pull structured data out of unstructured text. When the data is structured, we can the use programmatically in later steps.\n",
    "\n",
    "In this example, we'll look at a small dataset of SciPy videos uploaded to YouTube. The videos are given a title and a description. We want to extract the name of the speaker giving the talk, and the topics the talk is about.\n",
    "We want to be able to validate the data we've extracted not only matches the structured format we expect, but that it also meets some custom requirements."
   ]
  },
  {
   "cell_type": "code",
   "execution_count": 19,
   "metadata": {
    "keep_output": true,
    "ExecuteTime": {
     "end_time": "2024-07-16T04:23:48.771612Z",
     "start_time": "2024-07-16T04:23:48.640510Z"
    }
   },
   "outputs": [
    {
     "data": {
      "text/plain": "                                                          name  \\\n0ALKGR0I5MA  Basic Sound Processing in Python | SciPy 2015 ...   \nZB7BZMhfPgk  Introduction to Numerical Computing with NumPy...   \nv5ijNXvlC5A  Modern Time Series Analysis | SciPy 2019 Tutor...   \ntYYVSEHq-io  Getting Started with TensorFlow and Deep Learn...   \nxAoljeRJ3lU  A Better Default Colormap for Matplotlib | Sci...   \n5rNu16O3YNE  Introduction to Data Processing in Python with...   \nJNfxr4BQrLk  Time Series Analysis with Python Intermediate ...   \nKhAUfqhLakw  Frequentism and Bayesianism: What's the Big De...   \ngtejJ3RCddE  NumPy Beginner | SciPy 2016 Tutorial | Alexand...   \nnq6iPZVUxZU  UMAP Uniform Manifold Approximation and Projec...   \n\n                                                   description  view_count  \n0ALKGR0I5MA                                                         261832  \nZB7BZMhfPgk  NumPy provides Python with a powerful array pr...      208823  \nv5ijNXvlC5A  This tutorial will cover the newest and most s...      199372  \ntYYVSEHq-io  A friendly introduction to Deep Learning, taug...      161483  \nxAoljeRJ3lU  Complete SciPy 2015 Talk & Tutorial Playlist h...      160912  \n5rNu16O3YNE  This is a tutorial for beginners on using the ...      117260  \nJNfxr4BQrLk  Tutorial materials for the Time Series Analysi...      113018  \nKhAUfqhLakw                                                         106990  \ngtejJ3RCddE  Materials for this tutorial may be found here:...      106043  \nnq6iPZVUxZU  This talk will present a new approach to dimen...       96781  ",
      "text/html": "<div>\n<style scoped>\n    .dataframe tbody tr th:only-of-type {\n        vertical-align: middle;\n    }\n\n    .dataframe tbody tr th {\n        vertical-align: top;\n    }\n\n    .dataframe thead th {\n        text-align: right;\n    }\n</style>\n<table border=\"1\" class=\"dataframe\">\n  <thead>\n    <tr style=\"text-align: right;\">\n      <th></th>\n      <th>name</th>\n      <th>description</th>\n      <th>view_count</th>\n    </tr>\n  </thead>\n  <tbody>\n    <tr>\n      <th>0ALKGR0I5MA</th>\n      <td>Basic Sound Processing in Python | SciPy 2015 ...</td>\n      <td></td>\n      <td>261832</td>\n    </tr>\n    <tr>\n      <th>ZB7BZMhfPgk</th>\n      <td>Introduction to Numerical Computing with NumPy...</td>\n      <td>NumPy provides Python with a powerful array pr...</td>\n      <td>208823</td>\n    </tr>\n    <tr>\n      <th>v5ijNXvlC5A</th>\n      <td>Modern Time Series Analysis | SciPy 2019 Tutor...</td>\n      <td>This tutorial will cover the newest and most s...</td>\n      <td>199372</td>\n    </tr>\n    <tr>\n      <th>tYYVSEHq-io</th>\n      <td>Getting Started with TensorFlow and Deep Learn...</td>\n      <td>A friendly introduction to Deep Learning, taug...</td>\n      <td>161483</td>\n    </tr>\n    <tr>\n      <th>xAoljeRJ3lU</th>\n      <td>A Better Default Colormap for Matplotlib | Sci...</td>\n      <td>Complete SciPy 2015 Talk &amp; Tutorial Playlist h...</td>\n      <td>160912</td>\n    </tr>\n    <tr>\n      <th>5rNu16O3YNE</th>\n      <td>Introduction to Data Processing in Python with...</td>\n      <td>This is a tutorial for beginners on using the ...</td>\n      <td>117260</td>\n    </tr>\n    <tr>\n      <th>JNfxr4BQrLk</th>\n      <td>Time Series Analysis with Python Intermediate ...</td>\n      <td>Tutorial materials for the Time Series Analysi...</td>\n      <td>113018</td>\n    </tr>\n    <tr>\n      <th>KhAUfqhLakw</th>\n      <td>Frequentism and Bayesianism: What's the Big De...</td>\n      <td></td>\n      <td>106990</td>\n    </tr>\n    <tr>\n      <th>gtejJ3RCddE</th>\n      <td>NumPy Beginner | SciPy 2016 Tutorial | Alexand...</td>\n      <td>Materials for this tutorial may be found here:...</td>\n      <td>106043</td>\n    </tr>\n    <tr>\n      <th>nq6iPZVUxZU</th>\n      <td>UMAP Uniform Manifold Approximation and Projec...</td>\n      <td>This talk will present a new approach to dimen...</td>\n      <td>96781</td>\n    </tr>\n  </tbody>\n</table>\n</div>"
     },
     "execution_count": 19,
     "metadata": {},
     "output_type": "execute_result"
    }
   ],
   "source": [
    "# load in unstructured text data\n",
    "import pandas as pd\n",
    "\n",
    "df = pd.read_json(\"../scipy_videos.json\", orient=\"index\")\n",
    "df"
   ]
  },
  {
   "attachments": {},
   "cell_type": "markdown",
   "metadata": {
    "keep_output": true
   },
   "source": [
    "Using Pydantic, we can define a class and some validation rules"
   ]
  },
  {
   "cell_type": "code",
   "execution_count": 20,
   "metadata": {
    "keep_output": true,
    "ExecuteTime": {
     "end_time": "2024-07-16T04:23:48.906823Z",
     "start_time": "2024-07-16T04:23:48.774150Z"
    }
   },
   "outputs": [],
   "source": [
    "from typing import List, Optional\n",
    "from pydantic import BaseModel, Field, field_validator\n",
    "\n",
    "class TopicExtract(BaseModel):\n",
    "    \"\"\" The name of the speaker presenting this conference talk, and a list of topics that best describe what this talk is about.\"\"\"\n",
    "    name: Optional[str] = Field(default=None, description=\"The name of the speaker giving this talk. If there is no speaker named, leave empty.\")\n",
    "    topics: List[str] = Field(\n",
    "        description=\"A list of upto 5 topics that this text is about. Each topic should be at most 1 or 2 word descriptions.\")\n",
    "\n",
    "    @field_validator('name')\n",
    "    def validate_name(cls, name):\n",
    "        return name\n",
    "    \n",
    "    @field_validator('topics')\n",
    "    def validate_topics(cls, topics):\n",
    "        # validate that the list of topics contains atleast 1, and no more than 5 topics \n",
    "        if len(topics) <= 0 or len(topics) > 5:\n",
    "            raise ValueError('The list of topics can be no more than 5 items')\n",
    "\n",
    "        # for each topic the model generated, ensure that the topic contains no more than 2 words\n",
    "        for topic in topics:\n",
    "            if len(topic.split()) > 2:\n",
    "                # make the validation message helpful to the LLM.\n",
    "                # Here we repeat which topic is failing validation, and remind it what it must do to pass the validation.\n",
    "                raise ValueError(f'The topic \"{topic}\" has too many words, A topic can contain AT MOST 2 words')\n",
    "        return topics"
   ]
  },
  {
   "cell_type": "markdown",
   "metadata": {},
   "source": [
    "Now we can initialize the PydanticBot and assign this model to it."
   ]
  },
  {
   "cell_type": "code",
   "outputs": [],
   "source": [
    "from llamabot.prompt_manager import prompt\n",
    "from llamabot.bot.pydanticbot import PydanticBot\n",
    "\n",
    "\n",
    "system_prompt = \"You are an expert topic labeller. You read text and extract the topics the text is about.\"\n",
    "\n",
    "bot = PydanticBot(\n",
    "    system_prompt=system_prompt,\n",
    "    session_name=\"session_name\",\n",
    "    model_name = \"ollama/llama3:latest\",\n",
    "    temperature=0,\n",
    "    stream_target=\"stdout\",\n",
    "    pydantic_model=TopicExtract\n",
    ")"
   ],
   "metadata": {
    "collapsed": false,
    "ExecuteTime": {
     "end_time": "2024-07-16T04:23:49.028109Z",
     "start_time": "2024-07-16T04:23:48.909041Z"
    }
   },
   "execution_count": 21
  },
  {
   "attachments": {},
   "cell_type": "markdown",
   "metadata": {
    "keep_output": true
   },
   "source": [
    "Now we can pass in our text, and extract the topics"
   ]
  },
  {
   "cell_type": "code",
   "execution_count": 22,
   "metadata": {
    "keep_output": true,
    "ExecuteTime": {
     "end_time": "2024-07-16T04:24:57.673654Z",
     "start_time": "2024-07-16T04:23:49.031375Z"
    }
   },
   "outputs": [
    {
     "name": "stdout",
     "output_type": "stream",
     "text": [
      "{\n",
      "\"description\": \"Basic Sound Processing in Python | SciPy 2015 | Allen Downey\",\n",
      "\"name\": \"Allen Downey\",\n",
      "\"topics\": [\n",
      "\"Sound Processing\",\n",
      "\"Python\",\n",
      "\"SciPy\"\n",
      "]\n",
      "}{\n",
      "\"name\": \"Alex Chabot-Leclerc\",\n",
      "\"topics\": [\n",
      "\"Numerical Computing\",\n",
      "\"NumPy\",\n",
      "\"SciPy\",\n",
      "\"Tutorial\"\n",
      "]\n",
      "}{\"name\": \"Aileen Nielsen\", \"topics\": [\"Time Series Analysis\", \"Machine Learning\", \"Deep Learning\", \"Bayesian Methods\", \"Python\"]}\n",
      "\n",
      " \n",
      " \n",
      " \n",
      " \n",
      "\n",
      " \n",
      " \n",
      "\n",
      " \n",
      " \n",
      "\n",
      " \n",
      " \n",
      " \n",
      " \n",
      "\n",
      " \n",
      " \n",
      "\n",
      " \n",
      " \n",
      "\n",
      " \n",
      " \n",
      " \n",
      " \n",
      "\n",
      " \n",
      " \n",
      "\n",
      " \n",
      " \n",
      "\n",
      " \n",
      " \n",
      " \n",
      " \n",
      "\n",
      " \n",
      " \n",
      "\n",
      " \n",
      "{\"name\": \"Aileen Nielsen\", \"topics\": [\"Time Series\", \"Machine Learning\", \"Deep Learning\", \"Bayesian\", \"Python\"]}{\n",
      "\"name\": \"Josh Gordon\",\n",
      "\"topics\": [\n",
      "\"TensorFlow\",\n",
      "\"Deep Learning\",\n",
      "\"Machine Learning\",\n",
      "\"Computer Vision\",\n",
      "\"Natural Language Processing\"\n",
      "]\n",
      "}{\"name\": \"Josh Gordon\", \"topics\": [\"TensorFlow\", \"Deep Learning\", \"Machine Learning\", \"Computer Vision\", \"Natural Lang\"]}\n",
      "\n",
      " \n",
      " \n",
      "\n",
      " \n",
      " \n",
      "\n",
      " \n",
      "\n",
      " \n",
      "\n",
      " \n",
      "\n",
      " \n",
      "\n",
      " \n",
      "\n",
      " \n",
      " \n",
      "\n",
      " \n",
      "\n",
      " \n",
      "\n",
      " \n",
      "\n",
      " \n",
      "\n",
      " \n",
      "\n",
      " \n",
      "\n",
      " \n",
      " \n",
      "\n",
      " \n",
      "\n",
      " \n",
      "\n",
      " \n",
      "\n",
      " \n",
      "\n",
      " \n",
      "\n",
      " \n",
      "\n",
      " \n",
      " \n",
      "\n",
      " \n",
      "\n",
      " \n",
      "\n",
      " \n",
      "\n",
      " \n",
      "{\n",
      "\"name\": \"Nathaniel Smith and Stéfan van der Walt\",\n",
      "\"topics\": [\n",
      "    \"Matplotlib\",\n",
      "    \"Colormap\",\n",
      "    \"Visualization\"\n",
      "]\n",
      "}{\n",
      "\"name\": \"Daniel Chen\",\n",
      "\"topics\": [\n",
      "\"Data Processing\",\n",
      "\"Pandas Tutorial\",\n",
      "\"Python Data Manipulation\",\n",
      "\"Data Analysis\",\n",
      "\"Machine Learning\"\n",
      "]\n",
      "}{\"name\": \"Daniel Chen\", \"topics\": [\"Data Processing\", \"Pandas Tutorial\", \"Data Analysis\", \"Machine Learning\", \"Data Manipulation\"]}{\n",
      "\"name\": \"Aileen Nielsen\",\n",
      "\"topics\": [\n",
      "    \"Time Series Analysis\",\n",
      "    \"Python\",\n",
      "    \"SciPy\"\n",
      "]\n",
      "}{\"description\": \"Tutorial materials for the Time Series Analysis tutorial including notebooks may be found here: https://github.com/AileenNielsen/TimeSeriesAnalysisWithPython\\nSee the complete SciPy 2016 Conference talk & tutorial playlist here: https://www.youtube.com/playlist?list=PLYx7XA2nY5Gf37zYZMw6OqGFRPjB1jCy6.\\n\", \"name\": \"Aileen Nielsen\", \"topics\": [\"Time Series\", \"Python\", \"SciPy\"]}{\n",
      "\"name\": \"Jake VanderPlas\",\n",
      "\"topics\": [\n",
      "\"Statistics\",\n",
      "\"Machine Learning\",\n",
      "\"Bias Variance Tradeoff\"\n",
      "]\n",
      "}{\"description\": {\"name\": \"Jake VanderPlas\", \"topics\": [\"Statistics\", \"Machine Learning\", \"Bias\"]}}{\"description\": {\"name\": \"Jake VanderPlas\", \"topics\": [\"Statistics\", \"Machine Learning\", \"Bayesianism\"]}}"
     ]
    },
    {
     "ename": "ValidationError",
     "evalue": "1 validation error for TopicExtract\ntopics\n  Field required [type=missing, input_value={'description': {'name': ...rning', 'Bayesianism']}}, input_type=dict]\n    For further information visit https://errors.pydantic.dev/2.8/v/missing",
     "output_type": "error",
     "traceback": [
      "\u001B[1;31m---------------------------------------------------------------------------\u001B[0m",
      "\u001B[1;31mValidationError\u001B[0m                           Traceback (most recent call last)",
      "Cell \u001B[1;32mIn[22], line 5\u001B[0m\n\u001B[0;32m      2\u001B[0m \u001B[38;5;28;01mfor\u001B[39;00m index, video_row \u001B[38;5;129;01min\u001B[39;00m df\u001B[38;5;241m.\u001B[39miterrows():\n\u001B[0;32m      3\u001B[0m     video_text \u001B[38;5;241m=\u001B[39m \u001B[38;5;124mf\u001B[39m\u001B[38;5;124m\"\u001B[39m\u001B[38;5;124mname: \u001B[39m\u001B[38;5;132;01m{\u001B[39;00mvideo_row[\u001B[38;5;124m'\u001B[39m\u001B[38;5;124mname\u001B[39m\u001B[38;5;124m'\u001B[39m]\u001B[38;5;132;01m}\u001B[39;00m\u001B[38;5;130;01m\\n\u001B[39;00m\u001B[38;5;124mdescription: \u001B[39m\u001B[38;5;132;01m{\u001B[39;00mvideo_row[\u001B[38;5;124m'\u001B[39m\u001B[38;5;124mdescription\u001B[39m\u001B[38;5;124m'\u001B[39m]\u001B[38;5;132;01m}\u001B[39;00m\u001B[38;5;124m\"\u001B[39m\n\u001B[1;32m----> 5\u001B[0m     extract \u001B[38;5;241m=\u001B[39m \u001B[43mbot\u001B[49m\u001B[43m(\u001B[49m\u001B[43mvideo_text\u001B[49m\u001B[43m)\u001B[49m\n\u001B[0;32m      7\u001B[0m     video_extracts\u001B[38;5;241m.\u001B[39mappend(extract)\n",
      "File \u001B[1;32m~\\PycharmProjects\\llamabot\\llamabot\\bot\\pydanticbot.py:62\u001B[0m, in \u001B[0;36mPydanticBot.__call__\u001B[1;34m(self, message)\u001B[0m\n\u001B[0;32m     59\u001B[0m \u001B[38;5;28;01mexcept\u001B[39;00m ValidationError \u001B[38;5;28;01mas\u001B[39;00m e:\n\u001B[0;32m     60\u001B[0m     \u001B[38;5;66;03m# we've exceeded the maximum number of attempts, we raise the error the higher\u001B[39;00m\n\u001B[0;32m     61\u001B[0m     \u001B[38;5;28;01mif\u001B[39;00m attempt \u001B[38;5;241m>\u001B[39m\u001B[38;5;241m=\u001B[39m \u001B[38;5;28mself\u001B[39m\u001B[38;5;241m.\u001B[39mnum_attempts \u001B[38;5;241m-\u001B[39m \u001B[38;5;241m1\u001B[39m:\n\u001B[1;32m---> 62\u001B[0m         \u001B[38;5;28;01mraise\u001B[39;00m e\n\u001B[0;32m     64\u001B[0m     \u001B[38;5;66;03m# if we failed, we give the model the validation error, and try again\u001B[39;00m\n\u001B[0;32m     65\u001B[0m     messages\u001B[38;5;241m.\u001B[39mextend([\n\u001B[0;32m     66\u001B[0m         response,\n\u001B[0;32m     67\u001B[0m         \u001B[38;5;28mself\u001B[39m\u001B[38;5;241m.\u001B[39mget_validation_error_message(e)\n\u001B[0;32m     68\u001B[0m     ])\n",
      "File \u001B[1;32m~\\PycharmProjects\\llamabot\\llamabot\\bot\\pydanticbot.py:57\u001B[0m, in \u001B[0;36mPydanticBot.__call__\u001B[1;34m(self, message)\u001B[0m\n\u001B[0;32m     55\u001B[0m     \u001B[38;5;66;03m# parse the response, and validate it against the pydantic model\u001B[39;00m\n\u001B[0;32m     56\u001B[0m     codeblock \u001B[38;5;241m=\u001B[39m \u001B[38;5;28mself\u001B[39m\u001B[38;5;241m.\u001B[39m_extract_json_from_response(response)\n\u001B[1;32m---> 57\u001B[0m     obj \u001B[38;5;241m=\u001B[39m \u001B[38;5;28;43mself\u001B[39;49m\u001B[38;5;241;43m.\u001B[39;49m\u001B[43mpydantic_model\u001B[49m\u001B[38;5;241;43m.\u001B[39;49m\u001B[43mmodel_validate_json\u001B[49m\u001B[43m(\u001B[49m\u001B[43mcodeblock\u001B[49m\u001B[43m)\u001B[49m\n\u001B[0;32m     58\u001B[0m     \u001B[38;5;28;01mreturn\u001B[39;00m obj\n\u001B[0;32m     59\u001B[0m \u001B[38;5;28;01mexcept\u001B[39;00m ValidationError \u001B[38;5;28;01mas\u001B[39;00m e:\n\u001B[0;32m     60\u001B[0m     \u001B[38;5;66;03m# we've exceeded the maximum number of attempts, we raise the error the higher\u001B[39;00m\n",
      "File \u001B[1;32m~\\anaconda3\\envs\\llamabot\\Lib\\site-packages\\pydantic\\main.py:597\u001B[0m, in \u001B[0;36mBaseModel.model_validate_json\u001B[1;34m(cls, json_data, strict, context)\u001B[0m\n\u001B[0;32m    595\u001B[0m \u001B[38;5;66;03m# `__tracebackhide__` tells pytest and some other tools to omit this function from tracebacks\u001B[39;00m\n\u001B[0;32m    596\u001B[0m __tracebackhide__ \u001B[38;5;241m=\u001B[39m \u001B[38;5;28;01mTrue\u001B[39;00m\n\u001B[1;32m--> 597\u001B[0m \u001B[38;5;28;01mreturn\u001B[39;00m \u001B[38;5;28;43mcls\u001B[39;49m\u001B[38;5;241;43m.\u001B[39;49m\u001B[43m__pydantic_validator__\u001B[49m\u001B[38;5;241;43m.\u001B[39;49m\u001B[43mvalidate_json\u001B[49m\u001B[43m(\u001B[49m\u001B[43mjson_data\u001B[49m\u001B[43m,\u001B[49m\u001B[43m \u001B[49m\u001B[43mstrict\u001B[49m\u001B[38;5;241;43m=\u001B[39;49m\u001B[43mstrict\u001B[49m\u001B[43m,\u001B[49m\u001B[43m \u001B[49m\u001B[43mcontext\u001B[49m\u001B[38;5;241;43m=\u001B[39;49m\u001B[43mcontext\u001B[49m\u001B[43m)\u001B[49m\n",
      "\u001B[1;31mValidationError\u001B[0m: 1 validation error for TopicExtract\ntopics\n  Field required [type=missing, input_value={'description': {'name': ...rning', 'Bayesianism']}}, input_type=dict]\n    For further information visit https://errors.pydantic.dev/2.8/v/missing"
     ]
    }
   ],
   "source": [
    "video_extracts = []\n",
    "for index, video_row in df.iterrows():\n",
    "    video_text = f\"name: {video_row['name']}\\ndescription: {video_row['description']}\"\n",
    "\n",
    "    extract = bot(video_text)\n",
    "    \n",
    "    video_extracts.append(extract)"
   ]
  },
  {
   "cell_type": "code",
   "execution_count": null,
   "metadata": {},
   "outputs": [],
   "source": [
    "for video in video_extracts:\n",
    "    print(video)"
   ]
  }
 ],
 "metadata": {
  "kernelspec": {
   "display_name": "llamabot",
   "keep_output": true,
   "language": "python",
   "name": "python3"
  },
  "language_info": {
   "codemirror_mode": {
    "name": "ipython",
    "version": 3
   },
   "file_extension": ".py",
   "mimetype": "text/x-python",
   "name": "python",
   "nbconvert_exporter": "python",
   "pygments_lexer": "ipython3",
   "version": "3.11.8"
  }
 },
 "nbformat": 4,
 "nbformat_minor": 2
}
