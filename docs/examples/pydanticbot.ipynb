{
 "cells": [
  {
   "cell_type": "code",
   "execution_count": 1,
   "metadata": {
    "keep_output": true,
    "ExecuteTime": {
     "end_time": "2024-07-17T15:26:38.967900Z",
     "start_time": "2024-07-17T15:26:38.848450Z"
    }
   },
   "outputs": [],
   "source": [
    "%load_ext autoreload\n",
    "%autoreload 2"
   ]
  },
  {
   "attachments": {},
   "cell_type": "markdown",
   "metadata": {
    "keep_output": true
   },
   "source": [
    "# LLaMaBot's PydanticBot in under 5 minutes"
   ]
  },
  {
   "attachments": {},
   "cell_type": "markdown",
   "metadata": {
    "keep_output": true
   },
   "source": [
    "We want to be able to pull structured data out of unstructured text. When the data is structured, we can the use programmatically in later steps.\n",
    "\n",
    "In this example, we'll look at a small dataset of SciPy videos uploaded to YouTube. The videos are given a title and a description. We want to extract the name of the speaker giving the talk, and the topics the talk is about.\n",
    "We want to be able to validate the data we've extracted not only matches the structured format we expect, but that it also meets some custom requirements."
   ]
  },
  {
   "cell_type": "code",
   "execution_count": 2,
   "metadata": {
    "keep_output": true,
    "ExecuteTime": {
     "end_time": "2024-07-17T15:26:40.356236Z",
     "start_time": "2024-07-17T15:26:38.969908Z"
    }
   },
   "outputs": [
    {
     "data": {
      "text/plain": "                                                          name  \\\n0ALKGR0I5MA  Basic Sound Processing in Python | SciPy 2015 ...   \nZB7BZMhfPgk  Introduction to Numerical Computing with NumPy...   \nv5ijNXvlC5A  Modern Time Series Analysis | SciPy 2019 Tutor...   \ntYYVSEHq-io  Getting Started with TensorFlow and Deep Learn...   \nxAoljeRJ3lU  A Better Default Colormap for Matplotlib | Sci...   \n5rNu16O3YNE  Introduction to Data Processing in Python with...   \nJNfxr4BQrLk  Time Series Analysis with Python Intermediate ...   \nKhAUfqhLakw  Frequentism and Bayesianism: What's the Big De...   \ngtejJ3RCddE  NumPy Beginner | SciPy 2016 Tutorial | Alexand...   \nnq6iPZVUxZU  UMAP Uniform Manifold Approximation and Projec...   \n\n                                                   description  view_count  \n0ALKGR0I5MA                                                         261832  \nZB7BZMhfPgk  NumPy provides Python with a powerful array pr...      208823  \nv5ijNXvlC5A  This tutorial will cover the newest and most s...      199372  \ntYYVSEHq-io  A friendly introduction to Deep Learning, taug...      161483  \nxAoljeRJ3lU  Complete SciPy 2015 Talk & Tutorial Playlist h...      160912  \n5rNu16O3YNE  This is a tutorial for beginners on using the ...      117260  \nJNfxr4BQrLk  Tutorial materials for the Time Series Analysi...      113018  \nKhAUfqhLakw                                                         106990  \ngtejJ3RCddE  Materials for this tutorial may be found here:...      106043  \nnq6iPZVUxZU  This talk will present a new approach to dimen...       96781  ",
      "text/html": "<div>\n<style scoped>\n    .dataframe tbody tr th:only-of-type {\n        vertical-align: middle;\n    }\n\n    .dataframe tbody tr th {\n        vertical-align: top;\n    }\n\n    .dataframe thead th {\n        text-align: right;\n    }\n</style>\n<table border=\"1\" class=\"dataframe\">\n  <thead>\n    <tr style=\"text-align: right;\">\n      <th></th>\n      <th>name</th>\n      <th>description</th>\n      <th>view_count</th>\n    </tr>\n  </thead>\n  <tbody>\n    <tr>\n      <th>0ALKGR0I5MA</th>\n      <td>Basic Sound Processing in Python | SciPy 2015 ...</td>\n      <td></td>\n      <td>261832</td>\n    </tr>\n    <tr>\n      <th>ZB7BZMhfPgk</th>\n      <td>Introduction to Numerical Computing with NumPy...</td>\n      <td>NumPy provides Python with a powerful array pr...</td>\n      <td>208823</td>\n    </tr>\n    <tr>\n      <th>v5ijNXvlC5A</th>\n      <td>Modern Time Series Analysis | SciPy 2019 Tutor...</td>\n      <td>This tutorial will cover the newest and most s...</td>\n      <td>199372</td>\n    </tr>\n    <tr>\n      <th>tYYVSEHq-io</th>\n      <td>Getting Started with TensorFlow and Deep Learn...</td>\n      <td>A friendly introduction to Deep Learning, taug...</td>\n      <td>161483</td>\n    </tr>\n    <tr>\n      <th>xAoljeRJ3lU</th>\n      <td>A Better Default Colormap for Matplotlib | Sci...</td>\n      <td>Complete SciPy 2015 Talk &amp; Tutorial Playlist h...</td>\n      <td>160912</td>\n    </tr>\n    <tr>\n      <th>5rNu16O3YNE</th>\n      <td>Introduction to Data Processing in Python with...</td>\n      <td>This is a tutorial for beginners on using the ...</td>\n      <td>117260</td>\n    </tr>\n    <tr>\n      <th>JNfxr4BQrLk</th>\n      <td>Time Series Analysis with Python Intermediate ...</td>\n      <td>Tutorial materials for the Time Series Analysi...</td>\n      <td>113018</td>\n    </tr>\n    <tr>\n      <th>KhAUfqhLakw</th>\n      <td>Frequentism and Bayesianism: What's the Big De...</td>\n      <td></td>\n      <td>106990</td>\n    </tr>\n    <tr>\n      <th>gtejJ3RCddE</th>\n      <td>NumPy Beginner | SciPy 2016 Tutorial | Alexand...</td>\n      <td>Materials for this tutorial may be found here:...</td>\n      <td>106043</td>\n    </tr>\n    <tr>\n      <th>nq6iPZVUxZU</th>\n      <td>UMAP Uniform Manifold Approximation and Projec...</td>\n      <td>This talk will present a new approach to dimen...</td>\n      <td>96781</td>\n    </tr>\n  </tbody>\n</table>\n</div>"
     },
     "execution_count": 2,
     "metadata": {},
     "output_type": "execute_result"
    }
   ],
   "source": [
    "# load in unstructured text data\n",
    "import pandas as pd\n",
    "\n",
    "df = pd.read_json(\"../scipy_videos.json\", orient=\"index\")\n",
    "df"
   ]
  },
  {
   "attachments": {},
   "cell_type": "markdown",
   "metadata": {
    "keep_output": true
   },
   "source": [
    "Using Pydantic, we can define a class and some validation rules"
   ]
  },
  {
   "cell_type": "code",
   "execution_count": 3,
   "metadata": {
    "keep_output": true,
    "ExecuteTime": {
     "end_time": "2024-07-17T15:26:40.912306Z",
     "start_time": "2024-07-17T15:26:40.359756Z"
    }
   },
   "outputs": [],
   "source": [
    "from typing import List, Optional\n",
    "from pydantic import BaseModel, Field, field_validator\n",
    "\n",
    "class TopicExtract(BaseModel):\n",
    "    \"\"\" This object extracts the name of the speaker presenting the video, and a list of topics that best describe what this talk is about.\"\"\"\n",
    "    \n",
    "    speaker_name: Optional[str] = Field(default=None, description=\"The name of the speaker giving this talk. If there is no speaker named, leave empty.\")\n",
    "    topics: List[str] = Field(\n",
    "        description=\"A list of upto 5 topics that this text is about. Each topic should be at most 1 or 2 word descriptions.\")\n",
    "\n",
    "    @field_validator('speaker_name')\n",
    "    def validate_name(cls, speaker_name):\n",
    "        return speaker_name\n",
    "    \n",
    "    @field_validator('topics')\n",
    "    def validate_topics(cls, topics):\n",
    "        # validate that the list of topics contains atleast 1, and no more than 5 topics \n",
    "        if len(topics) <= 0 or len(topics) > 5:\n",
    "            raise ValueError('The list of topics can be no more than 5 items')\n",
    "\n",
    "        # for each topic the model generated, ensure that the topic contains no more than 2 words\n",
    "        for topic in topics:\n",
    "            if len(topic.split()) > 2:\n",
    "                # make the validation message helpful to the LLM.\n",
    "                # Here we repeat which topic is failing validation, and remind it what it must do to pass the validation.\n",
    "                raise ValueError(f'The topic \"{topic}\" has too many words, A topic can contain AT MOST 2 words')\n",
    "        return topics"
   ]
  },
  {
   "cell_type": "markdown",
   "metadata": {},
   "source": [
    "Now we can initialize the PydanticBot and assign this model to it."
   ]
  },
  {
   "cell_type": "code",
   "outputs": [],
   "source": [
    "from llamabot.prompt_manager import prompt\n",
    "from llamabot.bot.pydanticbot import PydanticBot\n",
    "\n",
    "\n",
    "system_prompt = \"You are an expert topic labeller. You read a video title and description and extract the speakers name and the topics the video is about.\"\n",
    "\n",
    "bot = PydanticBot(\n",
    "    system_prompt=system_prompt,\n",
    "    session_name=\"session_name\",\n",
    "    model_name = \"ollama/llama3:latest\",\n",
    "    temperature=0,\n",
    "    stream_target=\"stdout\",\n",
    "    pydantic_model=TopicExtract\n",
    ")"
   ],
   "metadata": {
    "collapsed": false,
    "ExecuteTime": {
     "end_time": "2024-07-17T15:26:42.281606Z",
     "start_time": "2024-07-17T15:26:40.918315Z"
    }
   },
   "execution_count": 4
  },
  {
   "attachments": {},
   "cell_type": "markdown",
   "metadata": {
    "keep_output": true
   },
   "source": [
    "Now we can pass in our text, and extract the topics"
   ]
  },
  {
   "cell_type": "code",
   "execution_count": 5,
   "metadata": {
    "keep_output": true,
    "ExecuteTime": {
     "end_time": "2024-07-17T15:27:54.678216Z",
     "start_time": "2024-07-17T15:26:42.285118Z"
    }
   },
   "outputs": [
    {
     "name": "stdout",
     "output_type": "stream",
     "text": [
      "{\"speaker_name\": \"Allen Downey\", \"topics\": [\"Basic Sound Processing\", \"Python\", \"SciPy\", \"Audio Processing\"]}{\"speaker_name\": \"Allen Downey\", \"topics\": [\"Python\", \"SciPy\", \"Audio Processing\"]}{\"speaker_name\": \"Alex Chabot-Leclerc\", \"topics\": [\"Numerical Computing\", \"NumPy\", \"SciPy\", \"Array Processing\", \"Python\"]}\n",
      "{\"speaker_name\": \"Aileen Nielsen\", \"topics\": [\"Time Series Analysis\", \"Bayesian Methods\", \"Machine Learning\", \"Deep Learning\", \"Python\"]}\n",
      "{\"speaker_name\": \"Aileen Nielsen\", \"topics\": [\"Time Series\", \"Bayesian Methods\", \"Machine Learning\", \"Deep Learning\", \"Python\"]}{\"speaker_name\": \"Josh Gordon\", \"topics\": [\"Deep Learning\", \"TensorFlow\", \"Machine Learning\", \"Computer Vision\", \"Natural Language Processing\"]}{\"speaker_name\": \"Josh Gordon\", \"topics\": [\"Deep Learning\", \"TensorFlow\", \"Machine Learning\", \"Computer Vision\", \"Natural Language Processing\"]}{\"speaker_name\": \"Josh Gordon\", \"topics\": [\"Deep Learning\", \"TensorFlow\", \"Machine Learning\", \"Computer Vision\", \"Natural Lang\"]}{\"speaker_name\": \"Nathaniel Smith and Stéfan van der Walt\", \"topics\": [\"Matplotlib\", \"Default Colormap\", \"SciPy\"]}\n",
      "\n",
      " \n",
      " \n",
      "\n",
      " \n",
      "\n",
      " \n",
      "\n",
      " \n",
      "\n",
      " \n",
      " \n",
      "\n",
      " \n",
      "\n",
      " \n",
      "\n",
      " \n",
      "\n",
      " \n",
      "\n",
      " \n",
      "\n",
      " \n",
      "\n",
      " \n",
      " \n",
      "\n",
      " \n",
      "\n",
      " \n",
      "\n",
      " \n",
      "\n",
      " \n",
      "\n",
      " \n",
      "\n",
      " \n",
      " \n",
      "\n",
      " \n",
      "\n",
      " \n",
      "\n",
      " \n",
      "\n",
      " \n",
      "\n",
      " \n",
      "\n",
      " \n",
      "\n",
      " \n",
      " \n",
      "\n",
      " \n",
      "{\"speaker_name\": \"Daniel Chen\", \"topics\": [\"Data Processing\", \"Python\", \"Pandas\", \"Data Manipulation\", \"Data Analysis\"]}{\n",
      "\"speaker_name\": \"Aileen Nielsen\",\n",
      "\"topics\": [\n",
      "  \"Time Series Analysis\",\n",
      "  \"Python\",\n",
      "  \"SciPy\"\n",
      "]\n",
      "}{\"speaker_name\": \"Aileen Nielsen\", \"topics\": [\"Time Series\", \"Python\", \"SciPy\"]}{\"speaker_name\": \"Jake VanderPlas\", \"topics\": [\"Frequentism\", \"Bayesianism\", \"Statistics\", \"Machine Learning\", \"SciPy\"]}\n",
      "\n",
      " \n",
      "\n",
      "\n",
      "\n",
      "\n",
      "{\n",
      "\"speaker_name\": \"Alexandre Chabot LeClerc\",\n",
      "\"topics\": [\n",
      "  \"NumPy\",\n",
      "  \"SciPy\",\n",
      "  \"Python\",\n",
      "  \"Array Processing\",\n",
      "  \"Mathematical Functions\"\n",
      "]\n",
      "}{\"speaker_name\": null, \"topics\": [\"Dimension Reduction\", \"Manifold Learning\", \"Topology\", \"Data Visualization\", \"Scikit-Learn\"]}"
     ]
    }
   ],
   "source": [
    "video_extracts = []\n",
    "for index, video_row in df.iterrows():\n",
    "    video_text = f\"video title: {video_row['name']}\\nvideo description: {video_row['description']}\"\n",
    "\n",
    "    extract = bot(video_text)\n",
    "    \n",
    "    video_extracts.append(extract)"
   ]
  },
  {
   "cell_type": "code",
   "execution_count": 7,
   "metadata": {
    "ExecuteTime": {
     "end_time": "2024-07-17T15:27:58.711487Z",
     "start_time": "2024-07-17T15:27:58.498542Z"
    }
   },
   "outputs": [
    {
     "name": "stdout",
     "output_type": "stream",
     "text": [
      "speaker_name='Allen Downey' topics=['Python', 'SciPy', 'Audio Processing']\n",
      "speaker_name='Alex Chabot-Leclerc' topics=['Numerical Computing', 'NumPy', 'SciPy', 'Array Processing', 'Python']\n",
      "speaker_name='Aileen Nielsen' topics=['Time Series', 'Bayesian Methods', 'Machine Learning', 'Deep Learning', 'Python']\n",
      "speaker_name='Josh Gordon' topics=['Deep Learning', 'TensorFlow', 'Machine Learning', 'Computer Vision', 'Natural Lang']\n",
      "speaker_name='Nathaniel Smith and Stéfan van der Walt' topics=['Matplotlib', 'Default Colormap', 'SciPy']\n",
      "speaker_name='Daniel Chen' topics=['Data Processing', 'Python', 'Pandas', 'Data Manipulation', 'Data Analysis']\n",
      "speaker_name='Aileen Nielsen' topics=['Time Series', 'Python', 'SciPy']\n",
      "speaker_name='Jake VanderPlas' topics=['Frequentism', 'Bayesianism', 'Statistics', 'Machine Learning', 'SciPy']\n",
      "speaker_name='Alexandre Chabot LeClerc' topics=['NumPy', 'SciPy', 'Python', 'Array Processing', 'Mathematical Functions']\n",
      "speaker_name=None topics=['Dimension Reduction', 'Manifold Learning', 'Topology', 'Data Visualization', 'Scikit-Learn']\n"
     ]
    }
   ],
   "source": [
    "for video in video_extracts:\n",
    "    print(video)"
   ]
  }
 ],
 "metadata": {
  "kernelspec": {
   "display_name": "llamabot",
   "keep_output": true,
   "language": "python",
   "name": "python3"
  },
  "language_info": {
   "codemirror_mode": {
    "name": "ipython",
    "version": 3
   },
   "file_extension": ".py",
   "mimetype": "text/x-python",
   "name": "python",
   "nbconvert_exporter": "python",
   "pygments_lexer": "ipython3",
   "version": "3.11.8"
  }
 },
 "nbformat": 4,
 "nbformat_minor": 2
}
