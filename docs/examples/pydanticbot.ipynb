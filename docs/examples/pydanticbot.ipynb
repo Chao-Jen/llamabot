{
 "cells": [
  {
   "cell_type": "code",
   "execution_count": 1,
   "metadata": {
    "keep_output": true,
    "ExecuteTime": {
     "end_time": "2024-07-15T17:43:35.561833Z",
     "start_time": "2024-07-15T17:43:35.480372Z"
    }
   },
   "outputs": [],
   "source": [
    "%load_ext autoreload\n",
    "%autoreload 2"
   ]
  },
  {
   "attachments": {},
   "cell_type": "markdown",
   "metadata": {
    "keep_output": true
   },
   "source": [
    "# LLaMaBot's PydanticBot in under 5 minutes"
   ]
  },
  {
   "attachments": {},
   "cell_type": "markdown",
   "metadata": {
    "keep_output": true
   },
   "source": [
    "We want to be able to pull structured data out of unstructured text. When the data is structured, we can the use programmatically in later steps.\n",
    "\n",
    "In this example, we'll look at a small dataset of SciPy videos uploaded to YouTube. The videos are given a title and a description. We want to extract the name of the speaker giving the talk, and the topics the talk is about.\n",
    "We want to be able to validate the data we've extracted not only matches the structured format we expect, but that it also meets some custom requirements."
   ]
  },
  {
   "cell_type": "code",
   "execution_count": 12,
   "metadata": {
    "keep_output": true,
    "ExecuteTime": {
     "end_time": "2024-07-15T18:42:57.389318Z",
     "start_time": "2024-07-15T18:42:57.231374Z"
    }
   },
   "outputs": [
    {
     "data": {
      "text/plain": "                                                          name  \\\n0ALKGR0I5MA  Basic Sound Processing in Python | SciPy 2015 ...   \nZB7BZMhfPgk  Introduction to Numerical Computing with NumPy...   \nv5ijNXvlC5A  Modern Time Series Analysis | SciPy 2019 Tutor...   \ntYYVSEHq-io  Getting Started with TensorFlow and Deep Learn...   \nxAoljeRJ3lU  A Better Default Colormap for Matplotlib | Sci...   \n5rNu16O3YNE  Introduction to Data Processing in Python with...   \nJNfxr4BQrLk  Time Series Analysis with Python Intermediate ...   \nKhAUfqhLakw  Frequentism and Bayesianism: What's the Big De...   \ngtejJ3RCddE  NumPy Beginner | SciPy 2016 Tutorial | Alexand...   \nnq6iPZVUxZU  UMAP Uniform Manifold Approximation and Projec...   \n\n                                                   description  view_count  \n0ALKGR0I5MA                                                         261832  \nZB7BZMhfPgk  NumPy provides Python with a powerful array pr...      208823  \nv5ijNXvlC5A  This tutorial will cover the newest and most s...      199372  \ntYYVSEHq-io  A friendly introduction to Deep Learning, taug...      161483  \nxAoljeRJ3lU  Complete SciPy 2015 Talk & Tutorial Playlist h...      160912  \n5rNu16O3YNE  This is a tutorial for beginners on using the ...      117260  \nJNfxr4BQrLk  Tutorial materials for the Time Series Analysi...      113018  \nKhAUfqhLakw                                                         106990  \ngtejJ3RCddE  Materials for this tutorial may be found here:...      106043  \nnq6iPZVUxZU  This talk will present a new approach to dimen...       96781  ",
      "text/html": "<div>\n<style scoped>\n    .dataframe tbody tr th:only-of-type {\n        vertical-align: middle;\n    }\n\n    .dataframe tbody tr th {\n        vertical-align: top;\n    }\n\n    .dataframe thead th {\n        text-align: right;\n    }\n</style>\n<table border=\"1\" class=\"dataframe\">\n  <thead>\n    <tr style=\"text-align: right;\">\n      <th></th>\n      <th>name</th>\n      <th>description</th>\n      <th>view_count</th>\n    </tr>\n  </thead>\n  <tbody>\n    <tr>\n      <th>0ALKGR0I5MA</th>\n      <td>Basic Sound Processing in Python | SciPy 2015 ...</td>\n      <td></td>\n      <td>261832</td>\n    </tr>\n    <tr>\n      <th>ZB7BZMhfPgk</th>\n      <td>Introduction to Numerical Computing with NumPy...</td>\n      <td>NumPy provides Python with a powerful array pr...</td>\n      <td>208823</td>\n    </tr>\n    <tr>\n      <th>v5ijNXvlC5A</th>\n      <td>Modern Time Series Analysis | SciPy 2019 Tutor...</td>\n      <td>This tutorial will cover the newest and most s...</td>\n      <td>199372</td>\n    </tr>\n    <tr>\n      <th>tYYVSEHq-io</th>\n      <td>Getting Started with TensorFlow and Deep Learn...</td>\n      <td>A friendly introduction to Deep Learning, taug...</td>\n      <td>161483</td>\n    </tr>\n    <tr>\n      <th>xAoljeRJ3lU</th>\n      <td>A Better Default Colormap for Matplotlib | Sci...</td>\n      <td>Complete SciPy 2015 Talk &amp; Tutorial Playlist h...</td>\n      <td>160912</td>\n    </tr>\n    <tr>\n      <th>5rNu16O3YNE</th>\n      <td>Introduction to Data Processing in Python with...</td>\n      <td>This is a tutorial for beginners on using the ...</td>\n      <td>117260</td>\n    </tr>\n    <tr>\n      <th>JNfxr4BQrLk</th>\n      <td>Time Series Analysis with Python Intermediate ...</td>\n      <td>Tutorial materials for the Time Series Analysi...</td>\n      <td>113018</td>\n    </tr>\n    <tr>\n      <th>KhAUfqhLakw</th>\n      <td>Frequentism and Bayesianism: What's the Big De...</td>\n      <td></td>\n      <td>106990</td>\n    </tr>\n    <tr>\n      <th>gtejJ3RCddE</th>\n      <td>NumPy Beginner | SciPy 2016 Tutorial | Alexand...</td>\n      <td>Materials for this tutorial may be found here:...</td>\n      <td>106043</td>\n    </tr>\n    <tr>\n      <th>nq6iPZVUxZU</th>\n      <td>UMAP Uniform Manifold Approximation and Projec...</td>\n      <td>This talk will present a new approach to dimen...</td>\n      <td>96781</td>\n    </tr>\n  </tbody>\n</table>\n</div>"
     },
     "execution_count": 12,
     "metadata": {},
     "output_type": "execute_result"
    }
   ],
   "source": [
    "# load in unstructured text data\n",
    "import pandas as pd\n",
    "\n",
    "df = pd.read_json(\"../scipy_videos.json\", orient=\"index\")\n",
    "df"
   ]
  },
  {
   "attachments": {},
   "cell_type": "markdown",
   "metadata": {
    "keep_output": true
   },
   "source": [
    "Using Pydantic, we can define a class and some validation rules"
   ]
  },
  {
   "cell_type": "code",
   "execution_count": 13,
   "metadata": {
    "keep_output": true,
    "ExecuteTime": {
     "end_time": "2024-07-15T18:50:13.374296Z",
     "start_time": "2024-07-15T18:50:13.215171Z"
    }
   },
   "outputs": [],
   "source": [
    "from typing import List\n",
    "from pydantic import BaseModel, Field, field_validator\n",
    "\n",
    "class TopicExtract(BaseModel):\n",
    "    \"\"\" The name of the speaker presenting this conference talk, and a list of topics that best describe what this talk is about.\"\"\"\n",
    "    name: str = Field(description=\"The name of the speaker giving this talk.\")\n",
    "    topics: List[str] = Field(\n",
    "        description=\"A list of upto 5 topics that this text is about. Each topic should be at most 1 or 2 word descriptions.\")\n",
    "\n",
    "    @field_validator('name')\n",
    "    def validate_name(cls, name):\n",
    "        return name\n",
    "    \n",
    "    @field_validator('topics')\n",
    "    def validate_topics(cls, topics):\n",
    "        # validate that the list of topics contains atleast 1, and no more than 5 topics \n",
    "        if len(topics) <= 0 or len(topics) > 5:\n",
    "            raise ValueError('The list of topics can be no more than 5 items')\n",
    "\n",
    "        # for each topic the model generated, ensure that the topic contains no more than 2 words\n",
    "        for topic in topics:\n",
    "            if len(topic.split()) > 2:\n",
    "                # make the validation message helpful to the LLM.\n",
    "                # Here we repeat which topic is failing validation, and remind it what it must do to pass the validation.\n",
    "                raise ValueError(f'The topic \"{topic}\" has too many words, A topic can contain AT MOST 2 words')\n",
    "        return topics"
   ]
  },
  {
   "cell_type": "markdown",
   "metadata": {},
   "source": [
    "Now we can initialize the PydanticBot and assign this model to it."
   ]
  },
  {
   "cell_type": "code",
   "outputs": [],
   "source": [
    "from llamabot.prompt_manager import prompt\n",
    "from llamabot.bot.pydanticbot import PydanticBot\n",
    "\n",
    "\n",
    "@prompt\n",
    "def write_system_schema_prompt(schema):\n",
    "    \"\"\"You are an expert topic labeller.\n",
    "    You read text and extract the topics the text is about.\"\n",
    "    \n",
    "    Your task is to return the topics in a json object that matches the following json_schema:\n",
    "    ```{{ schema }}```\n",
    "\n",
    "    Only return an INSTANCE of the schema, do not return the schema itself.\n",
    "    \"\"\"\n",
    "\n",
    "bot = PydanticBot(\n",
    "    system_prompt=write_system_schema_prompt(TopicExtract.schema_json()),\n",
    "    session_name=\"session_name\",\n",
    "    model_name = \"ollama/llama3:latest\",\n",
    "    temperature=0,\n",
    "    stream_target=\"stdout\",\n",
    "    pydantic_model=TopicExtract\n",
    ")"
   ],
   "metadata": {
    "collapsed": false,
    "ExecuteTime": {
     "end_time": "2024-07-15T18:50:16.902680Z",
     "start_time": "2024-07-15T18:50:16.743409Z"
    }
   },
   "execution_count": 14
  },
  {
   "attachments": {},
   "cell_type": "markdown",
   "metadata": {
    "keep_output": true
   },
   "source": [
    "Now we can pass in our text, and extract the topics"
   ]
  },
  {
   "cell_type": "code",
   "execution_count": 18,
   "metadata": {
    "keep_output": true,
    "ExecuteTime": {
     "end_time": "2024-07-15T18:58:06.279459Z",
     "start_time": "2024-07-15T18:57:03.022639Z"
    }
   },
   "outputs": [
    {
     "name": "stdout",
     "output_type": "stream",
     "text": [
      "{\n",
      "\"name\": \"Allen Downey\",\n",
      "\"topics\": [\n",
      "\"Sound Processing\",\n",
      "\"Python\",\n",
      "\"SciPy\"\n",
      "]\n",
      "}{\n",
      "\"name\": \"Alex Chabot-Leclerc\",\n",
      "\"topics\": [\n",
      "    \"Numerical Computing\",\n",
      "    \"NumPy\",\n",
      "    \"SciPy\",\n",
      "    \"Python\",\n",
      "    \"Array Processing\"\n",
      "]\n",
      "}{\n",
      "\"name\": \"Aileen Nielsen\",\n",
      "\"topics\": [\n",
      "\"Time Series Analysis\",\n",
      "\"Bayesian Methods\",\n",
      "\"Machine Learning\",\n",
      "\"Deep Learning\"\n",
      "]\n",
      "}{\"name\": \"Aileen Nielsen\", \"topics\": [\"Time Series\", \"Bayesian Methods\", \"Machine Learning\", \"Deep Learning\"]}{\n",
      "\"name\": \"Josh Gordon\",\n",
      "\"topics\": [\n",
      "    \"TensorFlow\",\n",
      "    \"Deep Learning\",\n",
      "    \"Machine Learning\",\n",
      "    \"Computer Vision\",\n",
      "    \"Natural Language Processing\"\n",
      "]\n",
      "}{\"name\": \"Josh Gordon\", \"topics\": [\"TensorFlow\", \"Deep Learning\", \"Machine Learning\", \"Computer Vision\", \"NLP\"]}{\n",
      "\"name\": \"Nathaniel Smith and Stéfan van der Walt\",\n",
      "\"topics\": [\n",
      "    \"Matplotlib\",\n",
      "    \"Colormap\",\n",
      "    \"SciPy\"\n",
      "]\n",
      "}{\n",
      "\"name\": \"Daniel Chen\",\n",
      "\"topics\": [\n",
      "\"Data Processing\",\n",
      "\"Pandas Tutorial\",\n",
      "\"Python Data Manipulation\",\n",
      "\"Data Analysis\",\n",
      "\"SciPy\"\n",
      "]\n",
      "}{\"name\": \"Daniel Chen\", \"topics\": [\"Data Processing\", \"Pandas Tutorial\", \"Data Analysis\", \"SciPy\", \"Machine Learning\"]}{\n",
      "\"name\": \"Aileen Nielsen\",\n",
      "\"topics\": [\n",
      "    \"Time Series Analysis\",\n",
      "    \"Python Tutorial\",\n",
      "    \"SciPy 2016\"\n",
      "]\n",
      "}{\"name\": \"Aileen Nielsen\", \"topics\": [\"Time Series\", \"Python Tutorial\", \"SciPy\"]}\n",
      "\n",
      " \n",
      " \n",
      "\n",
      " \n",
      " \n",
      "\n",
      " \n",
      " \n",
      "\n",
      " \n",
      " \n",
      " \n",
      " \n",
      "\n",
      " \n",
      " \n",
      "\n",
      " \n",
      " \n",
      "\n",
      " \n",
      " \n",
      "\n",
      " \n",
      " \n",
      "\n",
      " \n",
      " \n",
      "\n",
      " \n",
      " \n",
      "\n",
      " \n",
      " \n",
      "\n",
      " \n",
      " \n",
      "\n",
      " \n",
      " \n",
      "\n",
      " \n",
      " \n",
      "\n",
      " \n",
      "{\n",
      "\"name\": \"Jake VanderPlas\",\n",
      "\"topics\": [\n",
      "\"Statistics\",\n",
      "\"Hypothesis Testing\",\n",
      "\"Bayesian Methods\",\n",
      "\"Frequentist Statistics\",\n",
      "\"Methodology\"\n",
      "]\n",
      "}{\n",
      "\"name\": \"NumPy Beginner | SciPy 2016 Tutorial | Alexandre Chabot LeClerc\",\n",
      "\"topics\": [\n",
      "    \"NumPy\",\n",
      "    \"SciPy\",\n",
      "    \"Python\",\n",
      "    \"Array Processing\",\n",
      "    \"Mathematics\"\n",
      "]\n",
      "}{\n",
      "\"name\": \"UMAP Uniform Manifold Approximation and Projection for Dimension Reduction | SciPy 2018\",\n",
      "\"topics\": [\n",
      "    \"Dimension Reduction\",\n",
      "    \"Manifold Learning\",\n",
      "    \"Topology\",\n",
      "    \"Data Visualization\",\n",
      "    \"Machine Learning\"\n",
      "]\n",
      "}"
     ]
    }
   ],
   "source": [
    "video_extracts = []\n",
    "for index, video_row in df.iterrows():\n",
    "    video_text = f\"name: {video_row['name']}\\ndescription: {video_row['description']}\"\n",
    "\n",
    "    bot = PydanticBot(\n",
    "        system_prompt=write_system_schema_prompt(TopicExtract.schema_json()),\n",
    "        session_name=index,\n",
    "        model_name = \"ollama/llama3:latest\",\n",
    "        temperature=0,\n",
    "        stream_target=\"stdout\",\n",
    "        pydantic_model=TopicExtract\n",
    "    )\n",
    "    extract = bot(video_text, num_attempts=3)\n",
    "    \n",
    "    video_extracts.append(extract)"
   ]
  },
  {
   "cell_type": "code",
   "execution_count": 19,
   "metadata": {
    "ExecuteTime": {
     "end_time": "2024-07-15T18:58:17.522376Z",
     "start_time": "2024-07-15T18:58:17.223071Z"
    }
   },
   "outputs": [
    {
     "name": "stdout",
     "output_type": "stream",
     "text": [
      "name='Allen Downey' topics=['Sound Processing', 'Python', 'SciPy']\n",
      "name='Alex Chabot-Leclerc' topics=['Numerical Computing', 'NumPy', 'SciPy', 'Python', 'Array Processing']\n",
      "name='Aileen Nielsen' topics=['Time Series', 'Bayesian Methods', 'Machine Learning', 'Deep Learning']\n",
      "name='Josh Gordon' topics=['TensorFlow', 'Deep Learning', 'Machine Learning', 'Computer Vision', 'NLP']\n",
      "name='Nathaniel Smith and Stéfan van der Walt' topics=['Matplotlib', 'Colormap', 'SciPy']\n",
      "name='Daniel Chen' topics=['Data Processing', 'Pandas Tutorial', 'Data Analysis', 'SciPy', 'Machine Learning']\n",
      "name='Aileen Nielsen' topics=['Time Series', 'Python Tutorial', 'SciPy']\n",
      "name='Jake VanderPlas' topics=['Statistics', 'Hypothesis Testing', 'Bayesian Methods', 'Frequentist Statistics', 'Methodology']\n",
      "name='NumPy Beginner | SciPy 2016 Tutorial | Alexandre Chabot LeClerc' topics=['NumPy', 'SciPy', 'Python', 'Array Processing', 'Mathematics']\n",
      "name='UMAP Uniform Manifold Approximation and Projection for Dimension Reduction | SciPy 2018' topics=['Dimension Reduction', 'Manifold Learning', 'Topology', 'Data Visualization', 'Machine Learning']\n"
     ]
    }
   ],
   "source": [
    "for video in video_extracts:\n",
    "    print(video)"
   ]
  }
 ],
 "metadata": {
  "kernelspec": {
   "display_name": "llamabot",
   "keep_output": true,
   "language": "python",
   "name": "python3"
  },
  "language_info": {
   "codemirror_mode": {
    "name": "ipython",
    "version": 3
   },
   "file_extension": ".py",
   "mimetype": "text/x-python",
   "name": "python",
   "nbconvert_exporter": "python",
   "pygments_lexer": "ipython3",
   "version": "3.11.8"
  }
 },
 "nbformat": 4,
 "nbformat_minor": 2
}
