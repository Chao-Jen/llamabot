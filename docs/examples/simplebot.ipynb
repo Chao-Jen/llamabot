{
 "cells": [
  {
   "cell_type": "code",
   "execution_count": null,
   "metadata": {
    "keep_output": true
   },
   "outputs": [],
   "source": [
    "%load_ext autoreload\n",
    "%autoreload 2\n"
   ]
  },
  {
   "attachments": {},
   "cell_type": "markdown",
   "metadata": {
    "keep_output": true
   },
   "source": [
    "# LLaMaBot's SimpleBot in under 5 minutes"
   ]
  },
  {
   "attachments": {},
   "cell_type": "markdown",
   "metadata": {
    "keep_output": true
   },
   "source": [
    "Let's say we have the text of a blog..."
   ]
  },
  {
   "cell_type": "code",
   "execution_count": null,
   "metadata": {
    "keep_output": true
   },
   "outputs": [],
   "source": [
    "with open(\"../../data/blog_text.txt\", \"r+\") as f:\n",
    "    blog_text = f.read()\n",
    "blog_text[0:100] + \"...\"\n"
   ]
  },
  {
   "attachments": {},
   "cell_type": "markdown",
   "metadata": {
    "keep_output": true
   },
   "source": [
    "And we'd like to create a function that takes in the text and gives us a draft LinkedIn post,\n",
    "complete with emojis,\n",
    "that is designed to entice others to read the blog post.\n",
    "LLaMaBot's `SimpleBot` lets us build that function easily."
   ]
  },
  {
   "cell_type": "code",
   "execution_count": null,
   "metadata": {
    "keep_output": true
   },
   "outputs": [],
   "source": [
    "from llamabot import SimpleBot\n",
    "\n",
    "linkedin = SimpleBot(\n",
    "    \"\"\"You are a LinkedIn post generator bot.\n",
    "A human will give you the text of a blog post that they've authored,\n",
    "and you will compose a LinkedIn post that advertises it.\n",
    "The post is intended to hook a reader into reading the blog post.\n",
    "The LinkedIn post should be written with one line per sentence.\n",
    "Each sentence should begin with an emoji appropriate to that sentence.\n",
    "The post should be written in professional English and in first-person tone for the human.\n",
    "\"\"\"\n",
    ")\n"
   ]
  },
  {
   "attachments": {},
   "cell_type": "markdown",
   "metadata": {
    "keep_output": true
   },
   "source": [
    "With `linkedin`, we can now pass in the blog text and - voila! - get back a draft LinkedIn post."
   ]
  },
  {
   "cell_type": "code",
   "execution_count": null,
   "metadata": {
    "keep_output": true
   },
   "outputs": [],
   "source": [
    "linkedin_post = linkedin(blog_text)\n"
   ]
  },
  {
   "attachments": {},
   "cell_type": "markdown",
   "metadata": {
    "keep_output": true
   },
   "source": [
    "Now, you can edit it to your hearts content! :-)"
   ]
  }
 ],
 "metadata": {
  "kernelspec": {
   "display_name": "llamabot",
   "keep_output": true,
   "language": "python",
   "name": "python3"
  },
  "language_info": {
   "codemirror_mode": {
    "name": "ipython",
    "version": 3
   },
   "file_extension": ".py",
   "mimetype": "text/x-python",
   "name": "python",
   "nbconvert_exporter": "python",
   "pygments_lexer": "ipython3",
   "version": "3.11.5"
  }
 },
 "nbformat": 4,
 "nbformat_minor": 2
}
