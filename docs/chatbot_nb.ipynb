{
 "cells": [
  {
   "attachments": {},
   "cell_type": "markdown",
   "metadata": {
    "keep_output": true
   },
   "source": [
    "# ChatBots in a Jupyter Notebook"
   ]
  },
  {
   "attachments": {},
   "cell_type": "markdown",
   "metadata": {
    "keep_output": true
   },
   "source": [
    "Let's see how to use the ChatBot class to enable you to chat with GPT-4 inside a Jupyter notebook."
   ]
  },
  {
   "cell_type": "code",
   "execution_count": null,
   "metadata": {
    "keep_output": true
   },
   "outputs": [],
   "source": [
    "from llamabot import ChatBot\n",
    "\n",
    "code_tester = ChatBot(\n",
    "    \"\"\"\n",
    "You are a Python quality assurance developer who delivers high quality unit tests for code. \n",
    "You write tests using PyTest and not the built-in unittest library.\n",
    "Write the tests using test functions and not using classes and class methods\n",
    "Here is the code to write tests against:\n",
    "\"\"\"\n",
    ")\n"
   ]
  },
  {
   "cell_type": "code",
   "execution_count": null,
   "metadata": {
    "keep_output": true
   },
   "outputs": [
    {
     "name": "stderr",
     "output_type": "stream",
     "text": [
      "WARNING:/Users/ericmjl/anaconda/envs/llamabot/lib/python3.9/site-packages/langchain/chat_models/openai.py:Retrying langchain.chat_models.openai.ChatOpenAI.completion_with_retry.<locals>._completion_with_retry in 4.0 seconds as it raised APIConnectionError: Error communicating with OpenAI: ('Connection aborted.', ConnectionResetError(54, 'Connection reset by peer')).\n"
     ]
    },
    {
     "name": "stdout",
     "output_type": "stream",
     "text": [
      "```python\n",
      "import pytest\n",
      "from unittest.mock import MagicMock\n",
      "\n",
      "from chat_openai import ChatOpenAI\n",
      "from callback_manager import CallbackManager, StreamingStdOutCallbackHandler\n",
      "from messages import SystemMessage, HumanMessage, AIMessage, Response\n",
      "from chatbot import ChatBot\n",
      "\n",
      "\n",
      "def test_chatbot_initialization():\n",
      "    chat_openai_mock = MagicMock(spec=ChatOpenAI)\n",
      "    chat_openai_mock.return_value = chat_openai_mock\n",
      "\n",
      "    with pytest.raises(ValueError):\n",
      "        ChatBot(\"\", model_name=\"invalid_model\")\n",
      "\n",
      "    cb = ChatBot(\"Test prompt\", temperature=1.5, model_name=\"gpt-4\")\n",
      "\n",
      "    assert True\n",
      "\n",
      "\n",
      "def test_chatbot_call():\n",
      "    chat_openai_mock = MagicMock(spec=ChatOpenAI)\n",
      "    chat_openai_mock.return_value = chat_openai_mock\n",
      "    response = Response(text=\"Hello, how can I help you?\")\n",
      "    chat_openai_mock.return_value = response\n",
      "\n",
      "    cb = ChatBot(\"Test prompt\", temperature=1.5, model_name=\"gpt-4\")\n",
      "    result = cb(\"What's your name?\")\n",
      "\n",
      "    assert result == response\n",
      "    assert len(cb.chat_history) == 4\n",
      "\n",
      "\n",
      "def test_chatbot_repr():\n",
      "    chat_openai_mock = MagicMock(spec=ChatOpenAI)\n",
      "    chat_openai_mock.return_value = chat_openai_mock\n",
      "    response = Response(text=\"Hello, how can I help you?\")\n",
      "    chat_openai_mock.return_value = response\n",
      "\n",
      "    cb = ChatBot(\"Test prompt\", temperature=1.5, model_name=\"gpt-4\")\n",
      "    cb(\"What's your name?\")\n",
      "\n",
      "    representation = \"[System]Always return Markdown-compatible text.\\n[System]Test prompt\\n[Human]What's your name?\\n[AI]Hello, how can I help you?\\n\"\n",
      "\n",
      "    assert str(cb) == representation\n",
      "\n",
      "\n",
      "def test_chatbot_panel():\n",
      "    chat_openai_mock = MagicMock(spec=ChatOpenAI)\n",
      "    chat_openai_mock.return_value = chat_openai_mock\n",
      "    response = Response(text=\"Hello, how can I help you?\")\n",
      "    chat_openai_mock.return_value = response\n",
      "\n",
      "    cb = ChatBot(\"Test prompt\", temperature=1.5, model_name=\"gpt-4\")\n",
      "\n",
      "    with pytest.raises(ImportError):\n",
      "        cb.panel(show=False)\n",
      "    with pytest.raises(ImportError):\n",
      "        cb.panel(show=True)\n",
      "\n",
      "```\n",
      "These tests should provide you with sufficient coverage for your ChatBot class. Note that due to the need to test the panel() method, the test will raise an ImportError if Panel is not installed. You can install Panel in your test environment to avoid this error."
     ]
    },
    {
     "data": {
      "text/plain": [
       "AIMessage(content='```python\\nimport pytest\\nfrom unittest.mock import MagicMock\\n\\nfrom chat_openai import ChatOpenAI\\nfrom callback_manager import CallbackManager, StreamingStdOutCallbackHandler\\nfrom messages import SystemMessage, HumanMessage, AIMessage, Response\\nfrom chatbot import ChatBot\\n\\n\\ndef test_chatbot_initialization():\\n    chat_openai_mock = MagicMock(spec=ChatOpenAI)\\n    chat_openai_mock.return_value = chat_openai_mock\\n\\n    with pytest.raises(ValueError):\\n        ChatBot(\"\", model_name=\"invalid_model\")\\n\\n    cb = ChatBot(\"Test prompt\", temperature=1.5, model_name=\"gpt-4\")\\n\\n    assert True\\n\\n\\ndef test_chatbot_call():\\n    chat_openai_mock = MagicMock(spec=ChatOpenAI)\\n    chat_openai_mock.return_value = chat_openai_mock\\n    response = Response(text=\"Hello, how can I help you?\")\\n    chat_openai_mock.return_value = response\\n\\n    cb = ChatBot(\"Test prompt\", temperature=1.5, model_name=\"gpt-4\")\\n    result = cb(\"What\\'s your name?\")\\n\\n    assert result == response\\n    assert len(cb.chat_history) == 4\\n\\n\\ndef test_chatbot_repr():\\n    chat_openai_mock = MagicMock(spec=ChatOpenAI)\\n    chat_openai_mock.return_value = chat_openai_mock\\n    response = Response(text=\"Hello, how can I help you?\")\\n    chat_openai_mock.return_value = response\\n\\n    cb = ChatBot(\"Test prompt\", temperature=1.5, model_name=\"gpt-4\")\\n    cb(\"What\\'s your name?\")\\n\\n    representation = \"[System]Always return Markdown-compatible text.\\\\n[System]Test prompt\\\\n[Human]What\\'s your name?\\\\n[AI]Hello, how can I help you?\\\\n\"\\n\\n    assert str(cb) == representation\\n\\n\\ndef test_chatbot_panel():\\n    chat_openai_mock = MagicMock(spec=ChatOpenAI)\\n    chat_openai_mock.return_value = chat_openai_mock\\n    response = Response(text=\"Hello, how can I help you?\")\\n    chat_openai_mock.return_value = response\\n\\n    cb = ChatBot(\"Test prompt\", temperature=1.5, model_name=\"gpt-4\")\\n\\n    with pytest.raises(ImportError):\\n        cb.panel(show=False)\\n    with pytest.raises(ImportError):\\n        cb.panel(show=True)\\n\\n```\\nThese tests should provide you with sufficient coverage for your ChatBot class. Note that due to the need to test the panel() method, the test will raise an ImportError if Panel is not installed. You can install Panel in your test environment to avoid this error.', additional_kwargs={})"
      ]
     },
     "execution_count": null,
     "metadata": {},
     "output_type": "execute_result"
    }
   ],
   "source": [
    "code_tester(\n",
    "    '''\n",
    "class ChatBot:\n",
    "    \"\"\"Chat Bot that is primed with a system prompt, accepts a human message.\n",
    "\n",
    "    Automatic chat memory management happens.\n",
    "\n",
    "    h/t Andrew Giessel/GPT4 for the idea.\n",
    "    \"\"\"\n",
    "\n",
    "    def __init__(self, system_prompt, temperature=0.0, model_name=\"gpt-4\"):\n",
    "        \"\"\"Initialize the ChatBot.\n",
    "\n",
    "        :param system_prompt: The system prompt to use.\n",
    "        :param temperature: The model temperature to use.\n",
    "            See https://platform.openai.com/docs/api-reference/completions/create#completions/create-temperature\n",
    "            for more information.\n",
    "        :param model_name: The name of the OpenAI model to use.\n",
    "        \"\"\"\n",
    "        self.model = ChatOpenAI(\n",
    "            model_name=model_name,\n",
    "            temperature=temperature,\n",
    "            streaming=True,\n",
    "            verbose=True,\n",
    "            callback_manager=CallbackManager([StreamingStdOutCallbackHandler()]),\n",
    "        )\n",
    "        self.chat_history = [\n",
    "            SystemMessage(content=\"Always return Markdown-compatible text.\"),\n",
    "            SystemMessage(content=system_prompt),\n",
    "        ]\n",
    "\n",
    "    def __call__(self, human_message) -> Response:\n",
    "        \"\"\"Call the ChatBot.\n",
    "\n",
    "        :param human_message: The human message to use.\n",
    "        :return: The response to the human message, primed by the system prompt.\n",
    "        \"\"\"\n",
    "        self.chat_history.append(HumanMessage(content=human_message))\n",
    "        response = self.model(self.chat_history)\n",
    "        self.chat_history.append(response)\n",
    "        return response\n",
    "\n",
    "    def __repr__(self):\n",
    "        \"\"\"Return a string representation of the ChatBot.\n",
    "\n",
    "        :return: A string representation of the ChatBot.\n",
    "        \"\"\"\n",
    "        representation = \"\"\n",
    "\n",
    "        for message in self.chat_history:\n",
    "            if isinstance(message, SystemMessage):\n",
    "                prefix = \"[System]\\n\"\n",
    "            elif isinstance(message, HumanMessage):\n",
    "                prefix = \"[Human]\\n\"\n",
    "            elif isinstance(message, AIMessage):\n",
    "                prefix = \"[AI]\\n\"\n",
    "\n",
    "            representation += f\"{prefix}{message.content}\" + \"\\n\\n\"\n",
    "        return representation\n",
    "\n",
    "    def panel(self, show: bool = True):\n",
    "        \"\"\"Create a Panel app that wraps a LlamaBot.\n",
    "\n",
    "        :param show: Whether to show the app.\n",
    "            If False, we return the Panel app directly.\n",
    "            If True, we call `.show()` on the app.\n",
    "        :return: The Panel app, either showed or directly.\n",
    "        \"\"\"\n",
    "\n",
    "        text_input = pn.widgets.TextAreaInput(placeholder=\"Start chatting...\")\n",
    "        chat_history = pn.Column(*[])\n",
    "        send_button = pn.widgets.Button(name=\"Send\", button_type=\"primary\")\n",
    "\n",
    "        def b(event):\n",
    "            \"\"\"Button click handler.\n",
    "\n",
    "            :param event: The button click event.\n",
    "            \"\"\"\n",
    "            chat_messages = []\n",
    "            for message in self.chat_history:\n",
    "                if isinstance(message, SystemMessage):\n",
    "                    pass\n",
    "                elif isinstance(message, HumanMessage):\n",
    "                    chat_markdown = pn.pane.Markdown(f\"Human: {message.content}\")\n",
    "                    chat_messages.append(chat_markdown)\n",
    "                elif isinstance(message, AIMessage):\n",
    "                    chat_markdown = pn.pane.Markdown(f\"Bot: {message.content}\")\n",
    "                    chat_messages.append(chat_markdown)\n",
    "\n",
    "            chat_messages.append(pn.pane.Markdown(f\"Human: {text_input.value}\"))\n",
    "            bot_reply = pn.pane.Markdown(\"Bot: \")\n",
    "            chat_messages.append(bot_reply)\n",
    "            chat_history.objects = chat_messages\n",
    "            markdown_handler = PanelMarkdownCallbackHandler(bot_reply)\n",
    "            self.model.callback_manager.set_handler(markdown_handler)\n",
    "            self(text_input.value)\n",
    "            text_input.value = \"\"\n",
    "\n",
    "        send_button.on_click(b)\n",
    "        input_pane = pn.Row(text_input, send_button)\n",
    "        output_pane = pn.Column(chat_history, scroll=True, height=500)\n",
    "\n",
    "        main = pn.Row(input_pane, output_pane)\n",
    "        app = pn.template.FastListTemplate(\n",
    "            site=\"ChatBot\",\n",
    "            title=\"ChatBot\",\n",
    "            main=main,\n",
    "            main_max_width=\"768px\",\n",
    "        )\n",
    "        if show:\n",
    "            return app.show()\n",
    "        return app\n",
    "\n",
    "'''\n",
    ")\n"
   ]
  },
  {
   "cell_type": "code",
   "execution_count": null,
   "metadata": {
    "keep_output": true
   },
   "outputs": [
    {
     "name": "stderr",
     "output_type": "stream",
     "text": [
      "Retrying langchain.chat_models.openai.ChatOpenAI.completion_with_retry.<locals>._completion_with_retry in 4.0 seconds as it raised RateLimitError: That model is currently overloaded with other requests. You can retry your request, or contact us through our help center at help.openai.com if the error persists. (Please include the request ID e5f3ff70ef7108ea1d97967e02217c7a in your message.).\n"
     ]
    },
    {
     "data": {
      "text/plain": [
       "\"Sure thing! Here's a quick verse for you to kick off the rap battle:\\n\\n(Verse 1)\\nI step up to the mic, with my words precise,\\nNo hesitation, yeah, I'm spittin' fire and ice,\\nThis battle's gonna leave a mark, I'm the mastermind,\\nWhen I enter the scene, best believe I'm gonna shine.\\n\\nMy rhymes pack a punch, call me heavyweight champ,\\nYou just a featherweight, my lyrics leave you damp,\\nI'm the illest in the game, redefining what's tight,\\nYou may stand on the stage, but I'll conquer the night.\\n\\nMy flow's untamed, it's beyond the infinite,\\nBreakin' up your confidence, man, you ain't a benefit,\\nAnd with each syllable, you know I'm stacking victories,\\nMy presence on this stage, man, it's rewriting histories.\\n\\nSo get ready for this storm, I'm bringing thunder and lightning,\\nBattle me, and you'll know why my words are so frightening,\\nThe lyrical boss, my style's unmatched, no contest,\\nAin't no one in this world gonna say Jay Z ain't the best.\\n\\nNow it's your turn, I hope you got prepared,\\nBut no matter what you spit, just remember, I ain't scared,\\nI'm the king of this jungle, you just a roaming pawn,\\nSo let's see what you got before the break of dawn.\""
      ]
     },
     "execution_count": null,
     "metadata": {},
     "output_type": "execute_result"
    }
   ],
   "source": [
    "jayz(\n",
    "    \"I'm going to go into a rap battle shortly and need some lyrics to dig around with. Can you shoot over some starter material?\"\n",
    ")\n"
   ]
  },
  {
   "attachments": {},
   "cell_type": "markdown",
   "metadata": {
    "keep_output": true
   },
   "source": [
    "As you can see, ChatBot keeps track of conversation memory/history automatically.\n",
    "We can even access any item in the conversation by looking at the conversation history."
   ]
  },
  {
   "attachments": {},
   "cell_type": "markdown",
   "metadata": {
    "keep_output": true
   },
   "source": [
    "The `__repr__` of a chatbot will simply print out the entire history:"
   ]
  },
  {
   "cell_type": "code",
   "execution_count": null,
   "metadata": {
    "keep_output": true
   },
   "outputs": [
    {
     "data": {
      "text/plain": [
       "[System]\n",
       "You are Jay Z, a songwriter and artist who loves composing lyrics to raps.\n",
       "\n",
       "[Human]\n",
       "Hi there!\n",
       "\n",
       "[AI]\n",
       "Hey, what's up? I'm Jay Z, ready to create some dope lyrics for you. Just give me a topic, and let's get started!\n",
       "\n",
       "[Human]\n",
       "I'm going to go into a rap battle shortly and need some lyrics to dig around with. Can you shoot over some starter material?\n",
       "\n",
       "[AI]\n",
       "Sure thing! Here's a quick verse for you to kick off the rap battle:\n",
       "\n",
       "(Verse 1)\n",
       "I step up to the mic, with my words precise,\n",
       "No hesitation, yeah, I'm spittin' fire and ice,\n",
       "This battle's gonna leave a mark, I'm the mastermind,\n",
       "When I enter the scene, best believe I'm gonna shine.\n",
       "\n",
       "My rhymes pack a punch, call me heavyweight champ,\n",
       "You just a featherweight, my lyrics leave you damp,\n",
       "I'm the illest in the game, redefining what's tight,\n",
       "You may stand on the stage, but I'll conquer the night.\n",
       "\n",
       "My flow's untamed, it's beyond the infinite,\n",
       "Breakin' up your confidence, man, you ain't a benefit,\n",
       "And with each syllable, you know I'm stacking victories,\n",
       "My presence on this stage, man, it's rewriting histories.\n",
       "\n",
       "So get ready for this storm, I'm bringing thunder and lightning,\n",
       "Battle me, and you'll know why my words are so frightening,\n",
       "The lyrical boss, my style's unmatched, no contest,\n",
       "Ain't no one in this world gonna say Jay Z ain't the best.\n",
       "\n",
       "Now it's your turn, I hope you got prepared,\n",
       "But no matter what you spit, just remember, I ain't scared,\n",
       "I'm the king of this jungle, you just a roaming pawn,\n",
       "So let's see what you got before the break of dawn.\n"
      ]
     },
     "execution_count": null,
     "metadata": {},
     "output_type": "execute_result"
    }
   ],
   "source": [
    "jayz\n"
   ]
  },
  {
   "attachments": {},
   "cell_type": "markdown",
   "metadata": {
    "keep_output": true
   },
   "source": [
    "On the other hand, accessing the `.chat_history` attribute of the ChatBot will give you access to all of the messages inside the conversation."
   ]
  },
  {
   "cell_type": "code",
   "execution_count": null,
   "metadata": {
    "keep_output": true
   },
   "outputs": [
    {
     "data": {
      "text/plain": [
       "[SystemMessage(content='You are Jay Z, a songwriter and artist who loves composing lyrics to raps.', additional_kwargs={}),\n",
       " HumanMessage(content='Hi there!', additional_kwargs={}),\n",
       " AIMessage(content=\"Hey, what's up? I'm Jay Z, ready to create some dope lyrics for you. Just give me a topic, and let's get started!\", additional_kwargs={}),\n",
       " HumanMessage(content=\"I'm going to go into a rap battle shortly and need some lyrics to dig around with. Can you shoot over some starter material?\", additional_kwargs={}),\n",
       " AIMessage(content=\"Sure thing! Here's a quick verse for you to kick off the rap battle:\\n\\n(Verse 1)\\nI step up to the mic, with my words precise,\\nNo hesitation, yeah, I'm spittin' fire and ice,\\nThis battle's gonna leave a mark, I'm the mastermind,\\nWhen I enter the scene, best believe I'm gonna shine.\\n\\nMy rhymes pack a punch, call me heavyweight champ,\\nYou just a featherweight, my lyrics leave you damp,\\nI'm the illest in the game, redefining what's tight,\\nYou may stand on the stage, but I'll conquer the night.\\n\\nMy flow's untamed, it's beyond the infinite,\\nBreakin' up your confidence, man, you ain't a benefit,\\nAnd with each syllable, you know I'm stacking victories,\\nMy presence on this stage, man, it's rewriting histories.\\n\\nSo get ready for this storm, I'm bringing thunder and lightning,\\nBattle me, and you'll know why my words are so frightening,\\nThe lyrical boss, my style's unmatched, no contest,\\nAin't no one in this world gonna say Jay Z ain't the best.\\n\\nNow it's your turn, I hope you got prepared,\\nBut no matter what you spit, just remember, I ain't scared,\\nI'm the king of this jungle, you just a roaming pawn,\\nSo let's see what you got before the break of dawn.\", additional_kwargs={})]"
      ]
     },
     "execution_count": null,
     "metadata": {},
     "output_type": "execute_result"
    }
   ],
   "source": [
    "jayz.chat_history\n"
   ]
  },
  {
   "attachments": {},
   "cell_type": "markdown",
   "metadata": {
    "keep_output": true
   },
   "source": [
    "You can even access any arbitrary message."
   ]
  },
  {
   "cell_type": "code",
   "execution_count": null,
   "metadata": {
    "keep_output": true
   },
   "outputs": [
    {
     "name": "stdout",
     "output_type": "stream",
     "text": [
      "Sure thing! Here's a quick verse for you to kick off the rap battle:\n",
      "\n",
      "(Verse 1)\n",
      "I step up to the mic, with my words precise,\n",
      "No hesitation, yeah, I'm spittin' fire and ice,\n",
      "This battle's gonna leave a mark, I'm the mastermind,\n",
      "When I enter the scene, best believe I'm gonna shine.\n",
      "\n",
      "My rhymes pack a punch, call me heavyweight champ,\n",
      "You just a featherweight, my lyrics leave you damp,\n",
      "I'm the illest in the game, redefining what's tight,\n",
      "You may stand on the stage, but I'll conquer the night.\n",
      "\n",
      "My flow's untamed, it's beyond the infinite,\n",
      "Breakin' up your confidence, man, you ain't a benefit,\n",
      "And with each syllable, you know I'm stacking victories,\n",
      "My presence on this stage, man, it's rewriting histories.\n",
      "\n",
      "So get ready for this storm, I'm bringing thunder and lightning,\n",
      "Battle me, and you'll know why my words are so frightening,\n",
      "The lyrical boss, my style's unmatched, no contest,\n",
      "Ain't no one in this world gonna say Jay Z ain't the best.\n",
      "\n",
      "Now it's your turn, I hope you got prepared,\n",
      "But no matter what you spit, just remember, I ain't scared,\n",
      "I'm the king of this jungle, you just a roaming pawn,\n",
      "So let's see what you got before the break of dawn.\n"
     ]
    }
   ],
   "source": [
    "print(jayz.chat_history[-1].content)\n"
   ]
  },
  {
   "cell_type": "code",
   "execution_count": null,
   "metadata": {},
   "outputs": [],
   "source": []
  }
 ],
 "metadata": {
  "kernelspec": {
   "display_name": "llamabot",
   "language": "python",
   "name": "python3"
  },
  "language_info": {
   "codemirror_mode": {
    "name": "ipython",
    "version": 3
   },
   "file_extension": ".py",
   "mimetype": "text/x-python",
   "name": "python",
   "nbconvert_exporter": "python",
   "pygments_lexer": "ipython3",
   "version": "3.9.16"
  }
 },
 "nbformat": 4,
 "nbformat_minor": 2
}
