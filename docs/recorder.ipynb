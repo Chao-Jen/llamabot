{
 "cells": [
  {
   "attachments": {},
   "cell_type": "markdown",
   "metadata": {},
   "source": [
    "# Recording Prompts\n",
    "\n",
    "One challenge I've found when working with prompts is recording what I get back when I try out different prompts.\n",
    "Copying and pasting is clearly not what I'd like to do.\n",
    "So I decided to write some functionality into Llamabot that lets us do recording of prompts \n",
    "and the responses returned by GPT.\n",
    "\n",
    "Here's how to use it."
   ]
  },
  {
   "cell_type": "code",
   "execution_count": null,
   "metadata": {},
   "outputs": [],
   "source": [
    "from llamabot import SimpleBot, PromptRecorder"
   ]
  },
  {
   "cell_type": "code",
   "execution_count": null,
   "metadata": {},
   "outputs": [],
   "source": [
    "bot = SimpleBot(\"You are a fitness coach who responds in 50 words or less.\")"
   ]
  },
  {
   "cell_type": "code",
   "execution_count": null,
   "metadata": {},
   "outputs": [],
   "source": [
    "# Try three different prompts.\n",
    "\n",
    "prompt1 = \"How do I gain muscle?\"\n",
    "prompt2 = \"How do I lose fat?\"\n",
    "prompt3 = \"How do I gain muscle and lose fat?\"\n",
    "\n",
    "\n",
    "with PromptRecorder() as recorder:\n",
    "    bot(prompt1)\n",
    "    bot(prompt2)\n",
    "    bot(prompt3)"
   ]
  },
  {
   "cell_type": "code",
   "execution_count": null,
   "metadata": {},
   "outputs": [],
   "source": [
    "recorder.prompts_and_responses"
   ]
  },
  {
   "cell_type": "code",
   "execution_count": null,
   "metadata": {},
   "outputs": [],
   "source": []
  }
 ],
 "metadata": {
  "kernelspec": {
   "display_name": "llamabot",
   "language": "python",
   "name": "python3"
  },
  "language_info": {
   "codemirror_mode": {
    "name": "ipython",
    "version": 3
   },
   "file_extension": ".py",
   "mimetype": "text/x-python",
   "name": "python",
   "nbconvert_exporter": "python",
   "pygments_lexer": "ipython3",
   "version": "3.9.16"
  }
 },
 "nbformat": 4,
 "nbformat_minor": 2
}
