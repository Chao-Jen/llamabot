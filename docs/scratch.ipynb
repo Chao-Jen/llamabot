{
 "cells": [
  {
   "cell_type": "code",
   "execution_count": null,
   "metadata": {},
   "outputs": [],
   "source": [
    "from llamabot import ChatBot\n",
    "\n",
    "\n",
    "bot = ChatBot(\n",
    "    \"You are an expert reference letter writer who knows how to turn all points, negative or positive, into a positive phrasing.\"\n",
    ")"
   ]
  },
  {
   "cell_type": "code",
   "execution_count": null,
   "metadata": {},
   "outputs": [],
   "source": [
    "bot(\n",
    "    \"\"\"I have worked with Samuel Schmitz. I need to compose a reference letter for him.\n",
    "\n",
    "My talking points:\n",
    "\n",
    "1. Collaborator on one mGx enzyme engineering project.\n",
    "2. He's talented in a technical sense. Strong Python coder.\n",
    "3. Implemented a new pattern for using Typer that minimized code duplication. Helped deploy on internal cloud faster.\n",
    "4. Took initiative to deploy ProteinMPNN internally to generate new protein sequences for screening.\n",
    "5. Maintained a sequencing pipeline that was created by another ex-colleague of ours.\n",
    "6. Deeply familiar with the Rosetta software suite for protein design applications.\n",
    "\n",
    "Negatives that need massaging:\n",
    "\n",
    "1. Desires more independence than he currently is ready for.\n",
    "2. Needs to work on his communication skills such that he can communicate that he has others' interests at heart.\n",
    "\n",
    "What would the body of a reference letter for him look like? Ignore the formalities (name/title/position).\n",
    "\"\"\"\n",
    ")"
   ]
  },
  {
   "cell_type": "code",
   "execution_count": null,
   "metadata": {},
   "outputs": [],
   "source": [
    "bot(\"\"\"Is there a better way to express the following to make it less easy to misinterpret?\n",
    "\n",
    "As Samuel continues to grow professionally, he is eager to take on more independent roles. This enthusiasm, coupled with his technical skills, will undoubtedly lead him to excel in future endeavors. Samuel is also working on refining his communication skills to better convey his genuine concern for the interests of his colleagues and collaborators, which may sometimes be obscured by his unique sense of humour.\n",
    "\"\"\")"
   ]
  },
  {
   "cell_type": "code",
   "execution_count": null,
   "metadata": {},
   "outputs": [],
   "source": [
    "bot(\"\"\"Can you rewrite this to make the last part about disagreeing with technical decisions a bit more positive?\n",
    "\n",
    "Sam's initiative and drive were evident when he took it upon himself to deploy ProteinMPNN internally, generating new protein sequences for screening. This greatly contributed to the success of our project. Additionally, Samuel demonstrated his adaptability and commitment by maintaining a sequencing pipeline that was initially created by another ex-colleague of ours, even in the face of challenging technical decisions that he did not necessarily agree with.\n",
    "\"\"\")"
   ]
  }
 ],
 "metadata": {
  "kernelspec": {
   "display_name": "llamabot",
   "language": "python",
   "name": "python3"
  },
  "language_info": {
   "codemirror_mode": {
    "name": "ipython",
    "version": 3
   },
   "file_extension": ".py",
   "mimetype": "text/x-python",
   "name": "python",
   "nbconvert_exporter": "python",
   "pygments_lexer": "ipython3",
   "version": "3.9.16"
  }
 },
 "nbformat": 4,
 "nbformat_minor": 2
}
