{
 "cells": [
  {
   "cell_type": "code",
   "execution_count": null,
   "metadata": {},
   "outputs": [],
   "source": [
    "%load_ext autoreload\n",
    "%autoreload 2"
   ]
  },
  {
   "attachments": {},
   "cell_type": "markdown",
   "metadata": {},
   "source": [
    "# Prototype of chatbot in Panel\n"
   ]
  },
  {
   "cell_type": "code",
   "execution_count": null,
   "metadata": {},
   "outputs": [],
   "source": [
    "import panel as pn\n",
    "\n",
    "pn.extension()\n",
    "\n",
    "from llamabot import ChatBot\n",
    "from llamabot.bot.chatbot import PanelMarkdownCallbackHandler\n",
    "from langchain.schema import (\n",
    "    AgentAction,\n",
    "    AgentFinish,\n",
    "    AIMessage,\n",
    "    HumanMessage,\n",
    "    LLMResult,\n",
    "    SystemMessage,\n",
    ")\n"
   ]
  },
  {
   "cell_type": "code",
   "execution_count": null,
   "metadata": {},
   "outputs": [],
   "source": [
    "bot = ChatBot(system_prompt=\"You are a Python programming assistant.\")\n"
   ]
  },
  {
   "cell_type": "code",
   "execution_count": null,
   "metadata": {},
   "outputs": [],
   "source": [
    "text_input = pn.widgets.TextEditor(placeholder=\"Enter some text\", mode=\"bubble\")\n",
    "text_input = pn.widgets.TextAreaInput(placeholder=\"Start chatting...\")\n"
   ]
  },
  {
   "cell_type": "code",
   "execution_count": null,
   "metadata": {},
   "outputs": [],
   "source": [
    "chat_history = pn.Column(*[])\n"
   ]
  },
  {
   "cell_type": "code",
   "execution_count": null,
   "metadata": {},
   "outputs": [],
   "source": [
    "send_button = pn.widgets.Button(name=\"Send\", button_type=\"primary\")\n"
   ]
  },
  {
   "cell_type": "code",
   "execution_count": null,
   "metadata": {},
   "outputs": [],
   "source": [
    "bot.chat_history\n"
   ]
  },
  {
   "cell_type": "code",
   "execution_count": null,
   "metadata": {},
   "outputs": [],
   "source": [
    "def b(event):\n",
    "    chat_messages = []\n",
    "    for message in bot.chat_history:\n",
    "        if isinstance(message, SystemMessage):\n",
    "            pass\n",
    "        elif isinstance(message, HumanMessage):\n",
    "            chat_markdown = pn.pane.Markdown(f\"Human: {message.content}\")\n",
    "            chat_messages.append(chat_markdown)\n",
    "        elif isinstance(message, AIMessage):\n",
    "            chat_markdown = pn.pane.Markdown(f\"Bot: {message.content}\")\n",
    "            chat_messages.append(chat_markdown)\n",
    "\n",
    "    chat_messages.append(pn.pane.Markdown(f\"Human: {text_input.value}\"))\n",
    "    bot_reply = pn.pane.Markdown(\"Bot: \")\n",
    "    chat_messages.append(bot_reply)\n",
    "    chat_history.objects = chat_messages\n",
    "    markdown_handler = PanelMarkdownCallbackHandler(bot_reply)\n",
    "    bot.model.callback_manager.set_handler(markdown_handler)\n",
    "    response = bot(text_input.value)\n",
    "    text_input.value = \"\"\n"
   ]
  },
  {
   "cell_type": "code",
   "execution_count": null,
   "metadata": {},
   "outputs": [],
   "source": [
    "send_button.on_click(b)\n"
   ]
  },
  {
   "cell_type": "code",
   "execution_count": null,
   "metadata": {},
   "outputs": [],
   "source": [
    "input_pane = pn.Row(text_input, send_button)\n",
    "output_pane = pn.Column(chat_history, scroll=True, height=500)\n",
    "\n",
    "main = pn.Row(input_pane, output_pane)\n",
    "main\n"
   ]
  },
  {
   "cell_type": "code",
   "execution_count": null,
   "metadata": {},
   "outputs": [],
   "source": [
    "app = pn.template.FastListTemplate(\n",
    "    site=\"ChatBot\",\n",
    "    title=\"ChatBot\",\n",
    "    main=main,\n",
    "    main_max_width=\"768px\",\n",
    ")\n",
    "app = pn.panel(app)\n",
    "app.show()\n"
   ]
  },
  {
   "cell_type": "code",
   "execution_count": null,
   "metadata": {},
   "outputs": [],
   "source": [
    "chatbot = ChatBot(\"You are a fitness instructor.\")\n",
    "chatbot.panel(show=True)"
   ]
  }
 ],
 "metadata": {
  "kernelspec": {
   "display_name": "llamabot",
   "language": "python",
   "name": "python3"
  },
  "language_info": {
   "codemirror_mode": {
    "name": "ipython",
    "version": 3
   },
   "file_extension": ".py",
   "mimetype": "text/x-python",
   "name": "python",
   "nbconvert_exporter": "python",
   "pygments_lexer": "ipython3",
   "version": "3.9.16"
  }
 },
 "nbformat": 4,
 "nbformat_minor": 2
}
