{
 "cells": [
  {
   "cell_type": "code",
   "execution_count": null,
   "metadata": {},
   "outputs": [],
   "source": [
    "# PDF Chatbot\n",
    "%load_ext autoreload\n",
    "%autoreload 2"
   ]
  },
  {
   "cell_type": "code",
   "execution_count": null,
   "metadata": {},
   "outputs": [],
   "source": [
    "# Download pre-built index.json file from Dropbox\n",
    "import requests\n",
    "\n",
    "headers = {\"user-agent\": \"Wget/1.16 (linux-gnu)\"}  # <-- the key is here!\n",
    "r = requests.get(\n",
    "    \"https://www.dropbox.com/s/jl5mdxdmcu7y3bi/dshiring.json?dl=0\",\n",
    "    stream=True,\n",
    "    headers=headers,\n",
    ")\n",
    "blog_index = \"/tmp/dshiring.json\"\n",
    "with open(blog_index, \"wb\") as f:\n",
    "    for chunk in r.iter_content(chunk_size=1024):\n",
    "        if chunk:\n",
    "            f.write(chunk)"
   ]
  },
  {
   "cell_type": "code",
   "execution_count": null,
   "metadata": {},
   "outputs": [],
   "source": [
    "from llamabot import QueryBot\n",
    "from pyprojroot import here\n",
    "\n",
    "# If you're prototyping with your own PDF, uncomment the following code and use it instead of the saved index path:\n",
    "# bot = QueryBot(\n",
    "#     \"You are a bot that reads a PDF book and responds to questions about that book.\",\n",
    "#     doc_paths=[here() / \"data\" / \"dshiring.pdf\"],\n",
    "# )\n",
    "\n",
    "bot = QueryBot(\n",
    "    \"You are a bot that reads a PDF book and responds to questions about that book.\",\n",
    "    saved_index_path=\"/tmp/dshiring.json\",\n",
    ")"
   ]
  },
  {
   "cell_type": "code",
   "execution_count": null,
   "metadata": {},
   "outputs": [],
   "source": [
    "prompt = \"Who were the data scientists who were interviewed in the book?\""
   ]
  },
  {
   "cell_type": "code",
   "execution_count": null,
   "metadata": {},
   "outputs": [],
   "source": [
    "bot(prompt, similarity_top_k=3)"
   ]
  },
  {
   "attachments": {},
   "cell_type": "markdown",
   "metadata": {},
   "source": [
    "Here are the source nodes used:"
   ]
  },
  {
   "cell_type": "code",
   "execution_count": null,
   "metadata": {},
   "outputs": [],
   "source": [
    "bot.source_nodes[prompt]"
   ]
  },
  {
   "attachments": {},
   "cell_type": "markdown",
   "metadata": {},
   "source": [
    "Using SimpleBot below should prove that we are indeed querying a book\n",
    "and not just relying on the LLM's training set."
   ]
  },
  {
   "cell_type": "code",
   "execution_count": null,
   "metadata": {},
   "outputs": [],
   "source": [
    "from llamabot import SimpleBot\n",
    "\n",
    "\n",
    "sbot = SimpleBot(\"You are a bot that responds to human questions.\")\n",
    "sbot(prompt)"
   ]
  },
  {
   "cell_type": "code",
   "execution_count": null,
   "metadata": {},
   "outputs": [],
   "source": []
  }
 ],
 "metadata": {
  "kernelspec": {
   "display_name": "llamabot",
   "language": "python",
   "name": "python3"
  },
  "language_info": {
   "codemirror_mode": {
    "name": "ipython",
    "version": 3
   },
   "file_extension": ".py",
   "mimetype": "text/x-python",
   "name": "python",
   "nbconvert_exporter": "python",
   "pygments_lexer": "ipython3",
   "version": "3.9.16"
  }
 },
 "nbformat": 4,
 "nbformat_minor": 2
}
